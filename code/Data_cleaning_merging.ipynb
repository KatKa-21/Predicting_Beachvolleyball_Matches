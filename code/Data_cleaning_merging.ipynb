{
 "cells": [
  {
   "cell_type": "markdown",
   "id": "581b3d49",
   "metadata": {},
   "source": [
    "# Creating the database"
   ]
  },
  {
   "cell_type": "code",
   "execution_count": 1,
   "id": "b71a7ec5",
   "metadata": {},
   "outputs": [],
   "source": [
    "import glob\n",
    "import os\n",
    "import re\n",
    "import pandas as pd"
   ]
  },
  {
   "cell_type": "code",
   "execution_count": 10,
   "id": "9418b0e3",
   "metadata": {},
   "outputs": [],
   "source": [
    "TournamentData = pd.read_csv('Alle_Tuniere_final.csv', sep=';')\n",
    "TournamentData['No'] = TournamentData['No'].astype('object')"
   ]
  },
  {
   "cell_type": "markdown",
   "id": "92382d90",
   "metadata": {},
   "source": [
    "### read csv-files with tournament-statistic"
   ]
  },
  {
   "cell_type": "code",
   "execution_count": null,
   "id": "4725da76",
   "metadata": {},
   "outputs": [],
   "source": [
    "# CSV-Dateien im aktuellen Verzeichnis finden\n",
    "csv_files = glob.glob(\"tournament_statistics_*.csv\")\n",
    "\n",
    "df_list_30 = []\n",
    "df_list_mixed = []\n",
    "\n",
    "for file in csv_files:\n",
    "    df = pd.read_csv(file, sep='\\t')\n",
    "    \n",
    "    # Turniernummer aus Dateinamen extrahieren\n",
    "    match = re.search(r'tournament_statistics_(\\d+)\\.csv', os.path.basename(file))\n",
    "    if match:\n",
    "        df[\"TournamentNo\"] = match.group(1)\n",
    "    else:\n",
    "        df[\"TournamentNo\"] = None\n",
    "\n",
    "    # Unterscheidung nach Typ\n",
    "    if 'ItemType' in df.columns:\n",
    "        types = df['ItemType'].astype(str).unique()\n",
    "        #files without statistic data\n",
    "        if set(types) == {'30'}:\n",
    "            df_list_30.append(df)\n",
    "        #files with statistic data\n",
    "        elif '11' in types:\n",
    "            df_list_mixed.append(df)\n",
    "        else:\n",
    "            print(f\"Unerwartete Typen in {file}: {types}\")\n",
    "    else:\n",
    "        print(f\"'Type' column missing in {file}, skipping...\")\n",
    "\n",
    "# Zu einem DataFrame zusammenfügen\n",
    "combined_30 = pd.concat(df_list_30, ignore_index=True)\n",
    "combined_mixed = pd.concat(df_list_mixed, ignore_index=True)\n",
    "\n",
    "combined_mixed['NoMatch'] = combined_mixed['NoMatch'].astype(str)"
   ]
  },
  {
   "cell_type": "code",
   "execution_count": null,
   "id": "debbd0d4",
   "metadata": {},
   "outputs": [],
   "source": [
    "BeachMatches = pd.read_csv('BeachMatchList_full.csv', sep=';')\n",
    "BeachMatches['@No'] = BeachMatches['@No'].astype(str)\n",
    "Combined_Stat = combined_mixed.merge(BeachMatches, left_on = 'NoMatch', right_on='@No', how= 'left')"
   ]
  },
  {
   "cell_type": "code",
   "execution_count": null,
   "id": "2e7a5d3d",
   "metadata": {},
   "outputs": [],
   "source": [
    "TournamentData[\"No\"] = TournamentData[\"No\"].astype(str)\n",
    "Combined_Stat[\"TournamentNo\"] = Combined_Stat[\"TournamentNo\"].astype(str)"
   ]
  },
  {
   "cell_type": "code",
   "execution_count": 35,
   "id": "8717e0e4",
   "metadata": {},
   "outputs": [],
   "source": [
    "Dat_Merge = TournamentData.merge(Combined_Stat,  left_on='No',right_on='TournamentNo', how='left',\n",
    "    suffixes=('_tourn', '_stat'))"
   ]
  },
  {
   "cell_type": "markdown",
   "id": "f27f6553",
   "metadata": {},
   "source": [
    "### Preparing data to add coordinates"
   ]
  },
  {
   "cell_type": "markdown",
   "id": "287b1726",
   "metadata": {},
   "source": [
    "Cleaning of variables: CountryName, Name, DefaultCity and Title (of the Tournament)"
   ]
  },
  {
   "cell_type": "code",
   "execution_count": null,
   "id": "fcb27fb5",
   "metadata": {},
   "outputs": [],
   "source": [
    "def process_default_city(dat_merge):\n",
    " \n",
    "   # 1. Separate rows with and without 'DefaultCity'\n",
    "    city_full = dat_merge[dat_merge['DefaultCity'].notna()].copy()\n",
    "    city_na = dat_merge[dat_merge['DefaultCity'].isna()].copy()\n",
    "    \n",
    "    # 2. Fill missing 'DefaultCity' values using 'Name_tourn'\n",
    "    city_na['DefaultCity'] = city_na['Name_tourn']\n",
    "    \n",
    "    # Copy for transformation\n",
    "    df = city_na.copy()\n",
    "    df[\"Ort\"] = pd.Series(dtype=\"object\")\n",
    "    \n",
    "   # 3a. If 'DefaultCity' consists of a single word (without spaces), set it directly\n",
    "    mask_single = df[\"DefaultCity\"].str.strip().str.count(r'\\s') == 0\n",
    "    df.loc[mask_single, \"Ort\"] = df.loc[mask_single, \"DefaultCity\"].str.strip()\n",
    "    \n",
    "   # 3b. If 'DefaultCity' contains \" - \", extract the part after the last \" - \"\n",
    "    mask_dash = df[\"Ort\"].isna() & df[\"DefaultCity\"].str.contains(\" - \")\n",
    "    df.loc[mask_dash, \"Ort\"] = df.loc[mask_dash, \"DefaultCity\"] \\\n",
    "                                .str.extract(r\" - ([^-\\n\\r]+)$\")[0].str.strip()\n",
    "    \n",
    "   # 3c. Fill remaining missing values in 'Ort'\n",
    "    df[\"Ort\"] = df[\"Ort\"].fillna(\"Unbekannt\")\n",
    "    \n",
    "   # 4. Generate a category code for 'DefaultCity'\n",
    "    df['ID_DefaultCity'] = df['DefaultCity'].astype('category').cat.codes\n",
    "\n",
    "   # Load mapping DataFrame\n",
    "    Dat_ort = pd.read_csv('Ort_Noch_anpassen.csv', sep=';')\n",
    "\n",
    "   # 5. Merge with the mapping DataFrame (assumption: Column 0 = ID_DefaultCity, Column 2 = Ort_Neu)\n",
    "    df_merged = df.merge(Dat_ort.iloc[:, [0, 2]], on='ID_DefaultCity', how='left')\n",
    "    \n",
    "   # 6. Overwrite 'DefaultCity' with the mapped value 'Ort_Neu'\n",
    "    df_merged['DefaultCity'] = df_merged['Ort_Neu']\n",
    "    \n",
    "   # 7. Remove helper columns\n",
    "    df_final_subset = df_merged.drop(columns=['Ort', 'ID_DefaultCity', 'Ort_Neu'])\n",
    "    \n",
    "   # 8. Merge the processed rows back with the original ones where 'DefaultCity' was already set\n",
    "    final_df = pd.concat([city_full, df_final_subset], ignore_index=True)\n",
    "\n",
    "    DatFinal1 = final_df[final_df['@LocalTime'].notna()]\n",
    "    \n",
    "    return DatFinal1\n"
   ]
  },
  {
   "cell_type": "code",
   "execution_count": 40,
   "id": "3aad11c9",
   "metadata": {},
   "outputs": [],
   "source": [
    "database = process_default_city(Dat_Merge)"
   ]
  }
 ],
 "metadata": {
  "kernelspec": {
   "display_name": ".venv",
   "language": "python",
   "name": "python3"
  },
  "language_info": {
   "codemirror_mode": {
    "name": "ipython",
    "version": 3
   },
   "file_extension": ".py",
   "mimetype": "text/x-python",
   "name": "python",
   "nbconvert_exporter": "python",
   "pygments_lexer": "ipython3",
   "version": "3.13.1"
  }
 },
 "nbformat": 4,
 "nbformat_minor": 5
}
