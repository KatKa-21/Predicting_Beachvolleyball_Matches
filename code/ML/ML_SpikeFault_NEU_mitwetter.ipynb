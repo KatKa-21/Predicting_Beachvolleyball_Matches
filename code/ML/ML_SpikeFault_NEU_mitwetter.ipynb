{
 "cells": [
  {
   "cell_type": "code",
   "execution_count": 1,
   "id": "21525d4e",
   "metadata": {},
   "outputs": [],
   "source": [
    "import pandas as pd\n",
    "import numpy as np\n",
    "import matplotlib.pyplot as plt\n",
    "import seaborn as sns\n",
    "from sklearn import set_config\n",
    "set_config(transform_output='pandas')\n",
    "from sklearn.impute import SimpleImputer\n",
    "\n",
    "from sklearn.pipeline import make_pipeline\n",
    "from sklearn.model_selection import GridSearchCV\n",
    "from sklearn.metrics import accuracy_score\n",
    "from sklearn.preprocessing import StandardScaler\n",
    "from sklearn.model_selection import cross_validate,StratifiedKFold, cross_val_score, train_test_split\n",
    "import os\n",
    "from sklearn.preprocessing import StandardScaler, OneHotEncoder, OrdinalEncoder,MinMaxScaler, RobustScaler\n",
    "from sklearn.compose import ColumnTransformer\n",
    "from sklearn.pipeline import Pipeline\n",
    "from sklearn.impute import SimpleImputer, KNNImputer\n",
    "from sklearn.ensemble import RandomForestRegressor\n",
    "from sklearn.linear_model import LogisticRegression\n",
    "from sklearn.model_selection import train_test_split\n",
    "from sklearn.compose import make_column_transformer\n",
    "from sklearn.tree import DecisionTreeRegressor\n",
    "from sklearn.linear_model import LinearRegression, SGDRegressor"
   ]
  },
  {
   "cell_type": "code",
   "execution_count": 2,
   "id": "e0486e9d",
   "metadata": {},
   "outputs": [],
   "source": [
    "os.chdir('C:/Users/Katharina/Desktop/Weiterbildung/Bootcamp/Bootcamp/Final_project/data')\n",
    "data = pd.read_csv('ML_Data_Teams.csv', sep=';')\t"
   ]
  },
  {
   "cell_type": "code",
   "execution_count": 3,
   "id": "a6dd8132",
   "metadata": {},
   "outputs": [],
   "source": [
    "data1 = data[['@PositionInEntry',\n",
    "       '@Rank', '@EarnedPointsTeam', '@EarningsTotalTeam', 'Gender_x', 'Type',\n",
    "       'SpikeFault', 'SpikePoint', 'ServeFault', 'ServePoint',\n",
    "       'ServeTotal', 'BlockPoint', 'BlockTotal', 'DigTotal', 'ReceptionFault',\n",
    "       'SpikeTotal', '@LocalDate', '@LocalTime', 'FederationCode_y',\n",
    "       'FirstName', 'LastName', 'FirstName2', 'LastName2',   '@DurationSet1',\n",
    "       '@DurationSet2', '@DurationSet3', 'temperature_2m', 'precipitation',\n",
    "       'wind_speed_10m', 'rain', 'wind_gusts_10m', 'TeamFault_team',\n",
    "       'match_win',  'Standard_Namen', 'Standard_Namen_team2']]\n",
    "#'TournamentNo',  '@PointsTeamASet1',\n",
    "       # '@PointsTeamBSet1', '@PointsTeamASet2', '@PointsTeamBSet2',\n",
    "       # '@PointsTeamASet3', '@PointsTeamBSet3',"
   ]
  },
  {
   "cell_type": "code",
   "execution_count": 4,
   "id": "e6be060a",
   "metadata": {},
   "outputs": [],
   "source": [
    "#Variablen umbenennen\n",
    "data1 = data1.rename(columns={'Standard_Namen': 'Team1', 'Standard_Namen_team2': 'Team2'})"
   ]
  },
  {
   "cell_type": "code",
   "execution_count": 11,
   "id": "c46efc8b",
   "metadata": {},
   "outputs": [],
   "source": [
    "#Daten für app\n",
    "\n",
    "special_feature = '@DurationSet3'\n",
    "data2 = data1.copy()\n",
    "# Erzeuge den Indikator: 1, wenn in @DurationSet3 ein Wert vorhanden ist, sonst 0.\n",
    "data2[special_feature + '_indicator'] = data2[special_feature].notnull().astype(int)\n",
    "\n",
    "#Daten für app\n",
    "\n",
    "data2.to_csv('ML_SpikeFault_MitWetter.csv', index=False, sep=';')"
   ]
  },
  {
   "cell_type": "code",
   "execution_count": 6,
   "id": "bf810b75",
   "metadata": {},
   "outputs": [],
   "source": [
    "y = data2.pop('SpikeFault')\n",
    "X = data2.copy()\n",
    "\n",
    "X_train, X_test, y_train, y_test = train_test_split(X, y, test_size=0.2, random_state=21)"
   ]
  },
  {
   "cell_type": "code",
   "execution_count": 7,
   "id": "28a820d5",
   "metadata": {},
   "outputs": [
    {
     "data": {
      "text/plain": [
       "Index(['@PositionInEntry', '@Rank', '@EarnedPointsTeam', '@EarningsTotalTeam',\n",
       "       'Gender_x', 'Type', 'SpikePoint', 'ServeFault', 'ServePoint',\n",
       "       'ServeTotal', 'BlockPoint', 'BlockTotal', 'DigTotal', 'ReceptionFault',\n",
       "       'SpikeTotal', '@LocalDate', '@LocalTime', 'FederationCode_y',\n",
       "       'FirstName', 'LastName', 'FirstName2', 'LastName2', '@DurationSet1',\n",
       "       '@DurationSet2', '@DurationSet3', 'temperature_2m', 'precipitation',\n",
       "       'wind_speed_10m', 'rain', 'wind_gusts_10m', 'TeamFault_team',\n",
       "       'match_win', 'Team1', 'Team2', '@DurationSet3_indicator'],\n",
       "      dtype='object')"
      ]
     },
     "execution_count": 7,
     "metadata": {},
     "output_type": "execute_result"
    }
   ],
   "source": [
    "X_train.columns"
   ]
  },
  {
   "cell_type": "code",
   "execution_count": 8,
   "id": "40d589d9",
   "metadata": {},
   "outputs": [],
   "source": [
    "# import numpy as np\n",
    "# import pandas as pd\n",
    "# from sklearn.base import BaseEstimator, TransformerMixin\n",
    "# from sklearn.pipeline import Pipeline\n",
    "# from sklearn.compose import ColumnTransformer\n",
    "# from sklearn.impute import KNNImputer, SimpleImputer\n",
    "# from sklearn.preprocessing import StandardScaler, OneHotEncoder\n",
    "# Bestimme nun die nominalen und numerischen Spalten anhand von X_train (nachdem die Indikatorspalte hinzugefügt wurde)\n",
    "nominal_features = X_train.select_dtypes(include=['object']).columns.tolist()\n",
    "numeric_features = X_train.select_dtypes(include=['int64', 'float64']).columns.tolist()\n",
    "\n",
    "# Erstelle eine Liste der allgemeinen numerischen Features, exklusive des speziellen Features und dessen Indikator\n",
    "general_numeric_features = [col for col in numeric_features if col not in [special_feature, special_feature + '_indicator']]\n",
    "\n",
    "# Erstelle separate Pipelines:\n",
    "# 1. Für allgemeine numerische Features mit KNNImputer\n",
    "numeric_transformer = Pipeline(steps=[\n",
    "    ('imputer', KNNImputer(n_neighbors=5)),\n",
    "    ('scaler', StandardScaler())\n",
    "])\n",
    "\n",
    "# 2. Für das spezielle Feature, das immer mit 0 imputiert werden soll (das signalisiert, dass kein dritter Satz stattgefunden hat)\n",
    "special_numeric_transformer = Pipeline(steps=[\n",
    "    ('imputer', SimpleImputer(strategy='constant', fill_value=0)),\n",
    "    ('scaler', StandardScaler())\n",
    "])\n",
    "\n",
    "# 3. Für die Indikatorspalte (@DurationSet3_indicator)\n",
    "indicator_transformer = Pipeline(steps=[\n",
    "    # Hier ist meist keine Imputation nötig; Skalierung ist optional, da 0 und 1 oft schon aussagekräftig sind.\n",
    "    ('scaler', StandardScaler())\n",
    "])\n",
    "\n",
    "# 4. Für nominale Features: Imputation mit dem häufigsten Wert + OneHotEncoding\n",
    "nominal_transformer = Pipeline(steps=[\n",
    "    ('imputer', SimpleImputer(strategy='most_frequent')),\n",
    "    ('onehot', OneHotEncoder(handle_unknown='ignore', sparse_output=False))\n",
    "])\n",
    "\n",
    "# Baue den ColumnTransformer unter Berücksichtigung aller Feature-Gruppen:\n",
    "transformers = [\n",
    "    ('num', numeric_transformer, general_numeric_features),\n",
    "    ('spec_num', special_numeric_transformer, [special_feature]),\n",
    "    ('indicator', indicator_transformer, [special_feature + '_indicator']),\n",
    "    ('nom', nominal_transformer, nominal_features)\n",
    "]\n",
    "\n",
    "preprocessor = ColumnTransformer(transformers=transformers)\n",
    "\n",
    "# # Beispiel: Angenommen, X ist dein Input-DataFrame\n",
    "\n",
    "# # Benutzerdefinierter Transformer, der eine Indikatorspalte hinzufügt\n",
    "# class AddMissingIndicator(BaseEstimator, TransformerMixin):\n",
    "#     def __init__(self, column):\n",
    "#         self.column = column  # z. B. '@DurationSet3'\n",
    "        \n",
    "#     def fit(self, X, y=None):\n",
    "#         return self\n",
    "    \n",
    "#     def transform(self, X):\n",
    "#         X = X.copy()\n",
    "#         # Indikatorspalte: 1, falls ein Wert vorhanden, 0 falls NaN\n",
    "#         indicator_name = self.column + '_indicator'\n",
    "#         X[indicator_name] = np.where(X[self.column].isna(), 0, 1)\n",
    "#         return X\n",
    "\n",
    "# # Definiere den speziellen numerischen Feature-Namen, der immer mit 0 imputiert werden soll.\n",
    "# special_feature = '@DurationSet3'\n",
    "\n",
    "# # Wende den Transformer für die Indikatorspalte an.\n",
    "# # Dieser Schritt fügt automatisch die neue Spalte '@DurationSet3_indicator' zu X hinzu.\n",
    "# indicator_pipeline = Pipeline(steps=[\n",
    "#     ('add_indicator', AddMissingIndicator(special_feature))\n",
    "# ])\n",
    "\n",
    "# # Wende diesen Schritt direkt vor dem eigentlichen Preprocessing an:\n",
    "# X_transformed = indicator_pipeline.fit_transform(X)\n",
    "\n",
    "# # Jetzt ermittelst du die Listen der Spalten.\n",
    "# nominal_features = X_transformed.select_dtypes(include=['object']).columns.tolist()\n",
    "# numeric_features = X_transformed.select_dtypes(include=['int64', 'float64']).columns.tolist()\n",
    "\n",
    "# # Da du für das spezielle Feature gesondert verfahren möchtest, trenne es ab:\n",
    "# general_numeric_features = [col for col in numeric_features if col not in [special_feature, special_feature + '_indicator']]\n",
    "\n",
    "# # Pipeline für general numerische Features (mit KNNImputer)\n",
    "# numeric_transformer = Pipeline(steps=[\n",
    "#     ('imputer', KNNImputer(n_neighbors=5)),\n",
    "#     ('scaler', StandardScaler())\n",
    "# ])\n",
    "\n",
    "# # Pipeline für das spezielle Feature, das mit 0 imputiert wird\n",
    "# special_numeric_transformer = Pipeline(steps=[\n",
    "#     ('imputer', SimpleImputer(strategy='constant', fill_value=0)),\n",
    "#     ('scaler', StandardScaler())\n",
    "# ])\n",
    "\n",
    "# # Falls du auch die Indikatorspalte skalieren möchtest (in vielen Fällen kann man sie aber auch unskaliert lassen):\n",
    "# indicator_transformer = Pipeline(steps=[\n",
    "#     ('imputer', SimpleImputer(strategy='constant', fill_value=0)),  # hier eigentlich nicht nötig\n",
    "#     ('scaler', StandardScaler())\n",
    "# ])\n",
    "\n",
    "# # Pipeline für nominale Features\n",
    "# nominal_transformer = Pipeline(steps=[\n",
    "#     ('imputer', SimpleImputer(strategy='most_frequent')),\n",
    "#     ('onehot', OneHotEncoder(handle_unknown='ignore', sparse_output=False))\n",
    "# ])\n",
    "\n",
    "# # Baue den ColumnTransformer, der jetzt vier Gruppen kombiniert:\n",
    "# # 1. Allgemeine numerische Features  \n",
    "# # 2. Das spezielle Feature (@DurationSet3)\n",
    "# # 3. Die Indikatorspalte (@DurationSet3_indicator)\n",
    "# # 4. Nominale Features\n",
    "# transformers = [\n",
    "#     ('num', numeric_transformer, general_numeric_features),\n",
    "#     ('spec_num', special_numeric_transformer, [special_feature]),\n",
    "#     ('indicator', indicator_transformer, [special_feature + '_indicator']),\n",
    "#     ('nom', nominal_transformer, nominal_features)\n",
    "# ]\n",
    "\n",
    "# preprocessor = ColumnTransformer(transformers=transformers)\n",
    "\n",
    "# # # Nun kannst du den vollständigen Preprocessing-Schritt anwenden:\n",
    "# # X_preprocessed = preprocessor.fit_transform(X_transformed)\n",
    "# # print(\"Shape der transformierten Daten:\", X_preprocessed.shape)\n"
   ]
  },
  {
   "cell_type": "code",
   "execution_count": null,
   "id": "0a4d4a31",
   "metadata": {},
   "outputs": [],
   "source": [
    "# # select categorical and numerical column names\n",
    "# nominal_features = X.select_dtypes(include=['object']).columns.tolist()\n",
    "# # Define feature types\n",
    "# numeric_features = X.select_dtypes(include=['int64', 'float64']).columns.tolist()\n",
    "\n",
    "# # Create preprocessors for different feature types\n",
    "# numeric_transformer = Pipeline(steps=[\n",
    "#     ('imputer', KNNImputer(n_neighbors=5)),\n",
    "#     ('scaler', StandardScaler())\n",
    "# ])\n",
    "\n",
    "# nominal_transformer = Pipeline(steps=[\n",
    "#     ('imputer', SimpleImputer(strategy='most_frequent')),\n",
    "#     ('onehot', OneHotEncoder(handle_unknown='ignore', sparse_output=False))\n",
    "# ])\n",
    "\n",
    "# # Build the column transformer\n",
    "# transformers = [\n",
    "#     ('num', numeric_transformer, numeric_features),\n",
    "#     ('nom', nominal_transformer, nominal_features)\n",
    "# ]\n",
    "\n",
    "# preprocessor = ColumnTransformer(transformers=transformers)"
   ]
  },
  {
   "cell_type": "code",
   "execution_count": 9,
   "id": "c26faab4",
   "metadata": {},
   "outputs": [],
   "source": [
    "from sklearn.metrics import r2_score, mean_absolute_error, root_mean_squared_error, mean_absolute_percentage_error\n",
    "\n",
    "model_scores = []\n",
    "def score_model(model_name, y_true, y_pred):\n",
    "  scores = {\n",
    "      'Model': model_name,\n",
    "      'MAE ($)': round(mean_absolute_error(y_true, y_pred), 2),\n",
    "      'RMSE ($)': round(root_mean_squared_error(y_true, y_pred), 2),\n",
    "      'MAPE (%)': round(100 * mean_absolute_percentage_error(y_true, y_pred), 2),\n",
    "      'R-Squared': round(r2_score(y_true, y_pred), 3)\n",
    "  }\n",
    "  return scores"
   ]
  },
  {
   "cell_type": "code",
   "execution_count": 12,
   "id": "19eb55dd",
   "metadata": {},
   "outputs": [
    {
     "data": {
      "application/vnd.microsoft.datawrangler.viewer.v0+json": {
       "columns": [
        {
         "name": "index",
         "rawType": "int64",
         "type": "integer"
        },
        {
         "name": "Model",
         "rawType": "object",
         "type": "string"
        },
        {
         "name": "MAE ($)",
         "rawType": "float64",
         "type": "float"
        },
        {
         "name": "RMSE ($)",
         "rawType": "float64",
         "type": "float"
        },
        {
         "name": "MAPE (%)",
         "rawType": "float64",
         "type": "float"
        },
        {
         "name": "R-Squared",
         "rawType": "float64",
         "type": "float"
        }
       ],
       "conversionMethod": "pd.DataFrame",
       "ref": "54d68a50-d1a6-46ab-9d8a-2fe6ab14e1cb",
       "rows": [
        [
         "0",
         "GradientBoostigRegressor",
         "1.85",
         "2.36",
         "1.7431836604722238e+16",
         "0.605"
        ]
       ],
       "shape": {
        "columns": 5,
        "rows": 1
       }
      },
      "text/html": [
       "<div>\n",
       "<style scoped>\n",
       "    .dataframe tbody tr th:only-of-type {\n",
       "        vertical-align: middle;\n",
       "    }\n",
       "\n",
       "    .dataframe tbody tr th {\n",
       "        vertical-align: top;\n",
       "    }\n",
       "\n",
       "    .dataframe thead th {\n",
       "        text-align: right;\n",
       "    }\n",
       "</style>\n",
       "<table border=\"1\" class=\"dataframe\">\n",
       "  <thead>\n",
       "    <tr style=\"text-align: right;\">\n",
       "      <th></th>\n",
       "      <th>Model</th>\n",
       "      <th>MAE ($)</th>\n",
       "      <th>RMSE ($)</th>\n",
       "      <th>MAPE (%)</th>\n",
       "      <th>R-Squared</th>\n",
       "    </tr>\n",
       "  </thead>\n",
       "  <tbody>\n",
       "    <tr>\n",
       "      <th>0</th>\n",
       "      <td>GradientBoostigRegressor</td>\n",
       "      <td>1.85</td>\n",
       "      <td>2.36</td>\n",
       "      <td>1.743184e+16</td>\n",
       "      <td>0.605</td>\n",
       "    </tr>\n",
       "  </tbody>\n",
       "</table>\n",
       "</div>"
      ],
      "text/plain": [
       "                      Model  MAE ($)  RMSE ($)      MAPE (%)  R-Squared\n",
       "0  GradientBoostigRegressor     1.85      2.36  1.743184e+16      0.605"
      ]
     },
     "execution_count": 12,
     "metadata": {},
     "output_type": "execute_result"
    }
   ],
   "source": [
    "from sklearn.ensemble import GradientBoostingRegressor\n",
    "gbr_pipeline = make_pipeline(preprocessor,\n",
    "                             RobustScaler(),\n",
    "                             GradientBoostingRegressor(random_state=42, n_estimators=200, learning_rate=0.1, \n",
    "                                                  max_depth=5, subsample=0.8))\n",
    "\n",
    "GB = gbr_pipeline.fit(X_train, y_train)\n",
    "\n",
    "gbr_predictions = gbr_pipeline.predict(X_test)\n",
    "\n",
    "model_scores.append(score_model('GradientBoostigRegressor', y_test, gbr_predictions))\n",
    "pd.DataFrame(model_scores)"
   ]
  },
  {
   "cell_type": "code",
   "execution_count": 13,
   "id": "dd383b54",
   "metadata": {},
   "outputs": [
    {
     "data": {
      "text/plain": [
       "['GradientBoosting_SpikeFault_mitWetter_NEUEDATEN.pkl']"
      ]
     },
     "execution_count": 13,
     "metadata": {},
     "output_type": "execute_result"
    }
   ],
   "source": [
    "import joblib\n",
    "# Modell speichern als .pkl-Datei\n",
    "joblib.dump(GB, \"GradientBoosting_SpikeFault_mitWetter_NEUEDATEN.pkl\")"
   ]
  },
  {
   "cell_type": "code",
   "execution_count": 14,
   "id": "2c01e9f2",
   "metadata": {},
   "outputs": [
    {
     "name": "stdout",
     "output_type": "stream",
     "text": [
      "                    feature  importance\n",
      "14          num__SpikeTotal    0.196617\n",
      "23           num__match_win    0.167709\n",
      "22      num__TeamFault_team    0.121967\n",
      "24  spec_num__@DurationSet3    0.115445\n",
      "6           num__SpikePoint    0.046143\n",
      "4             num__Gender_x    0.038915\n",
      "17      num__temperature_2m    0.026728\n",
      "12            num__DigTotal    0.021103\n",
      "9           num__ServeTotal    0.019774\n",
      "19      num__wind_speed_10m    0.014516\n"
     ]
    }
   ],
   "source": [
    "\n",
    "# 1. Extrahiere das trainierte Model (der letzte Schritt in der Pipeline)\n",
    "model = gbr_pipeline.named_steps['gradientboostingregressor']\n",
    "\n",
    "# 2. Extrahiere den Preprocessor-Schritt, der die Features formatiert hat.\n",
    "# Je nachdem, wie deine Pipeline aufgebaut ist, kann der Schritt-Name variieren.\n",
    "# Beim make_pipeline werden die Namen automatisch generiert:\n",
    "preprocessor = gbr_pipeline.named_steps[list(gbr_pipeline.named_steps.keys())[1]]\n",
    "# Alternativ, wenn du die Pipeline explizit mit Namen erstellt hast, z.B. im Pipeline-Konstruktur,\n",
    "# dann wäre es etwas wie:\n",
    "preprocessor = gbr_pipeline.named_steps['columntransformer']\n",
    "\n",
    "# 3. Hole die Feature-Namen aus dem Preprocessor:\n",
    "# Diese Methode funktioniert, wenn der Preprocessor und seine Zwischenschritte get_feature_names_out unterstützen.\n",
    "feature_names = preprocessor.get_feature_names_out()\n",
    "\n",
    "# 4. Extrahiere die Feature Importances aus dem Model\n",
    "importances = model.feature_importances_\n",
    "\n",
    "# 5. Erstelle einen DataFrame zum besseren Überblick\n",
    "feature_importances_df = pd.DataFrame({\n",
    "    'feature': feature_names,\n",
    "    'importance': importances\n",
    "}).sort_values(by='importance', ascending=False)\n",
    "\n",
    "print(feature_importances_df.head(10))\n"
   ]
  },
  {
   "cell_type": "code",
   "execution_count": 15,
   "id": "ca29b99b",
   "metadata": {},
   "outputs": [
    {
     "name": "stdout",
     "output_type": "stream",
     "text": [
      "Train R²: 0.7625067245968157\n",
      "Test R²: 0.6047769284022164\n"
     ]
    }
   ],
   "source": [
    "train_r2 = gbr_pipeline.score(X_train, y_train)\n",
    "test_r2  = gbr_pipeline.score(X_test, y_test)\n",
    "print(\"Train R²:\", train_r2)\n",
    "print(\"Test R²:\", test_r2)"
   ]
  },
  {
   "cell_type": "code",
   "execution_count": 16,
   "id": "2294dda7",
   "metadata": {},
   "outputs": [
    {
     "data": {
      "application/vnd.microsoft.datawrangler.viewer.v0+json": {
       "columns": [
        {
         "name": "index",
         "rawType": "int64",
         "type": "integer"
        },
        {
         "name": "Model",
         "rawType": "object",
         "type": "string"
        },
        {
         "name": "MAE ($)",
         "rawType": "float64",
         "type": "float"
        },
        {
         "name": "RMSE ($)",
         "rawType": "float64",
         "type": "float"
        },
        {
         "name": "MAPE (%)",
         "rawType": "float64",
         "type": "float"
        },
        {
         "name": "R-Squared",
         "rawType": "float64",
         "type": "float"
        }
       ],
       "conversionMethod": "pd.DataFrame",
       "ref": "80015fbb-143d-4b02-8970-f0996b83abbe",
       "rows": [
        [
         "0",
         "GradientBoostigRegressor",
         "1.85",
         "2.36",
         "1.7431836604722238e+16",
         "0.605"
        ],
        [
         "1",
         "RandomForest",
         "1.91",
         "2.47",
         "1.5311712595974032e+16",
         "0.568"
        ]
       ],
       "shape": {
        "columns": 5,
        "rows": 2
       }
      },
      "text/html": [
       "<div>\n",
       "<style scoped>\n",
       "    .dataframe tbody tr th:only-of-type {\n",
       "        vertical-align: middle;\n",
       "    }\n",
       "\n",
       "    .dataframe tbody tr th {\n",
       "        vertical-align: top;\n",
       "    }\n",
       "\n",
       "    .dataframe thead th {\n",
       "        text-align: right;\n",
       "    }\n",
       "</style>\n",
       "<table border=\"1\" class=\"dataframe\">\n",
       "  <thead>\n",
       "    <tr style=\"text-align: right;\">\n",
       "      <th></th>\n",
       "      <th>Model</th>\n",
       "      <th>MAE ($)</th>\n",
       "      <th>RMSE ($)</th>\n",
       "      <th>MAPE (%)</th>\n",
       "      <th>R-Squared</th>\n",
       "    </tr>\n",
       "  </thead>\n",
       "  <tbody>\n",
       "    <tr>\n",
       "      <th>0</th>\n",
       "      <td>GradientBoostigRegressor</td>\n",
       "      <td>1.85</td>\n",
       "      <td>2.36</td>\n",
       "      <td>1.743184e+16</td>\n",
       "      <td>0.605</td>\n",
       "    </tr>\n",
       "    <tr>\n",
       "      <th>1</th>\n",
       "      <td>RandomForest</td>\n",
       "      <td>1.91</td>\n",
       "      <td>2.47</td>\n",
       "      <td>1.531171e+16</td>\n",
       "      <td>0.568</td>\n",
       "    </tr>\n",
       "  </tbody>\n",
       "</table>\n",
       "</div>"
      ],
      "text/plain": [
       "                      Model  MAE ($)  RMSE ($)      MAPE (%)  R-Squared\n",
       "0  GradientBoostigRegressor     1.85      2.36  1.743184e+16      0.605\n",
       "1              RandomForest     1.91      2.47  1.531171e+16      0.568"
      ]
     },
     "execution_count": 16,
     "metadata": {},
     "output_type": "execute_result"
    }
   ],
   "source": [
    "from sklearn.ensemble import RandomForestRegressor\n",
    "rf_pipeline = make_pipeline(preprocessor,\n",
    "                             RobustScaler(),\n",
    "                             RandomForestRegressor(random_state=42, n_estimators=200, max_depth=15, \n",
    "                                         min_samples_split=5, min_samples_leaf=2))\n",
    "\n",
    "RF = rf_pipeline.fit(X_train, y_train)\n",
    "\n",
    "rf_predictions = rf_pipeline.predict(X_test)\n",
    "\n",
    "model_scores.append(score_model('RandomForest', y_test, rf_predictions))\n",
    "pd.DataFrame(model_scores)"
   ]
  },
  {
   "cell_type": "code",
   "execution_count": 17,
   "id": "4f847f98",
   "metadata": {},
   "outputs": [
    {
     "data": {
      "text/plain": [
       "['RandomForest_SpikeFault_mitWetter_NEUEDATEN.pkl']"
      ]
     },
     "execution_count": 17,
     "metadata": {},
     "output_type": "execute_result"
    }
   ],
   "source": [
    "import joblib\n",
    "# Modell speichern als .pkl-Datei\n",
    "joblib.dump(RF, \"RandomForest_SpikeFault_mitWetter_NEUEDATEN.pkl\")"
   ]
  },
  {
   "cell_type": "code",
   "execution_count": 18,
   "id": "5bfbd793",
   "metadata": {},
   "outputs": [
    {
     "name": "stdout",
     "output_type": "stream",
     "text": [
      "Train R²: 0.8533211303997992\n",
      "Test R²: 0.5684126744330557\n"
     ]
    }
   ],
   "source": [
    "train_r2 = rf_pipeline.score(X_train, y_train)\n",
    "test_r2  = rf_pipeline.score(X_test, y_test)\n",
    "print(\"Train R²:\", train_r2)\n",
    "print(\"Test R²:\", test_r2)"
   ]
  },
  {
   "cell_type": "code",
   "execution_count": 19,
   "id": "34dd96b5",
   "metadata": {},
   "outputs": [
    {
     "name": "stdout",
     "output_type": "stream",
     "text": [
      "                    feature  importance\n",
      "23           num__match_win    0.168638\n",
      "14          num__SpikeTotal    0.156417\n",
      "24  spec_num__@DurationSet3    0.134319\n",
      "22      num__TeamFault_team    0.104731\n",
      "6           num__SpikePoint    0.046508\n",
      "17      num__temperature_2m    0.037529\n",
      "4             num__Gender_x    0.033372\n",
      "16       num__@DurationSet2    0.023098\n",
      "19      num__wind_speed_10m    0.021967\n",
      "15       num__@DurationSet1    0.020915\n"
     ]
    }
   ],
   "source": [
    "# 1. Extrahiere das trainierte Model (der letzte Schritt in der Pipeline)\n",
    "model = rf_pipeline.named_steps['randomforestregressor']\n",
    "\n",
    "# 2. Extrahiere den Preprocessor-Schritt, der die Features formatiert hat.\n",
    "# Je nachdem, wie deine Pipeline aufgebaut ist, kann der Schritt-Name variieren.\n",
    "# Beim make_pipeline werden die Namen automatisch generiert:\n",
    "preprocessor = rf_pipeline.named_steps[list(rf_pipeline.named_steps.keys())[1]]\n",
    "# Alternativ, wenn du die Pipeline explizit mit Namen erstellt hast, z.B. im Pipeline-Konstruktur,\n",
    "# dann wäre es etwas wie:\n",
    "\n",
    "preprocessor = rf_pipeline.named_steps['columntransformer']\n",
    "\n",
    "# 3. Hole die Feature-Namen aus dem Preprocessor:\n",
    "# Diese Methode funktioniert, wenn der Preprocessor und seine Zwischenschritte get_feature_names_out unterstützen.\n",
    "feature_names = preprocessor.get_feature_names_out()\n",
    "\n",
    "# 4. Extrahiere die Feature Importances aus dem Model\n",
    "importances = model.feature_importances_\n",
    "\n",
    "# 5. Erstelle einen DataFrame zum besseren Überblick\n",
    "feature_importances_df = pd.DataFrame({\n",
    "    'feature': feature_names,\n",
    "    'importance': importances\n",
    "}).sort_values(by='importance', ascending=False)\n",
    "\n",
    "print(feature_importances_df.head(10))\n"
   ]
  },
  {
   "cell_type": "code",
   "execution_count": null,
   "id": "51508129",
   "metadata": {},
   "outputs": [],
   "source": []
  }
 ],
 "metadata": {
  "kernelspec": {
   "display_name": ".venv",
   "language": "python",
   "name": "python3"
  },
  "language_info": {
   "codemirror_mode": {
    "name": "ipython",
    "version": 3
   },
   "file_extension": ".py",
   "mimetype": "text/x-python",
   "name": "python",
   "nbconvert_exporter": "python",
   "pygments_lexer": "ipython3",
   "version": "3.13.1"
  }
 },
 "nbformat": 4,
 "nbformat_minor": 5
}
