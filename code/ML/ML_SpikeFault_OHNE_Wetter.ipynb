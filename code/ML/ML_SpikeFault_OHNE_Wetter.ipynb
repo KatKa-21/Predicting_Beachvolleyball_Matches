{
 "cells": [
  {
   "cell_type": "code",
   "execution_count": 2,
   "id": "c8d3b89e",
   "metadata": {},
   "outputs": [],
   "source": [
    "import pandas as pd\n",
    "import numpy as np\n",
    "import matplotlib.pyplot as plt\n",
    "import seaborn as sns\n",
    "from sklearn import set_config\n",
    "set_config(transform_output='pandas')\n",
    "from sklearn.impute import SimpleImputer\n",
    "\n",
    "from sklearn.pipeline import make_pipeline\n",
    "from sklearn.model_selection import GridSearchCV\n",
    "from sklearn.metrics import accuracy_score\n",
    "from sklearn.preprocessing import StandardScaler\n",
    "from sklearn.model_selection import cross_validate,StratifiedKFold, cross_val_score, train_test_split\n",
    "import os\n",
    "from sklearn.preprocessing import StandardScaler, OneHotEncoder, OrdinalEncoder,MinMaxScaler, RobustScaler\n",
    "from sklearn.compose import ColumnTransformer\n",
    "from sklearn.pipeline import Pipeline\n",
    "from sklearn.impute import SimpleImputer, KNNImputer\n",
    "from sklearn.ensemble import RandomForestRegressor\n",
    "from sklearn.linear_model import LogisticRegression\n",
    "from sklearn.model_selection import train_test_split\n",
    "from sklearn.compose import make_column_transformer\n",
    "from sklearn.tree import DecisionTreeRegressor\n",
    "from sklearn.linear_model import LinearRegression, SGDRegressor"
   ]
  },
  {
   "cell_type": "code",
   "execution_count": 15,
   "id": "526989c2",
   "metadata": {},
   "outputs": [],
   "source": [
    "#read data scikit-learn\n",
    "os.chdir('C:/Users/Katharina/Desktop/Weiterbildung/Bootcamp/Bootcamp/Final_project/data')\n",
    "#data = pd.read_csv('DatenML_V2_relCol.csv', sep=';')\n",
    "data = pd.read_csv('DatenML_V2_relCol_ZusatzType.csv', sep=';')\t"
   ]
  },
  {
   "cell_type": "code",
   "execution_count": 16,
   "id": "23e5a5b9",
   "metadata": {},
   "outputs": [],
   "source": [
    "df = data\n",
    "# Erstellen der neuen Spalte \"Team1\":\n",
    "# Wenn TeamDesignation = A, dann soll TeamAName in Team1 stehen,\n",
    "# andernfalls (also bei B) TeamBName.\n",
    "df[\"Team1\"] = np.where(\n",
    "    df[\"TeamDesignation\"].str.upper() == \"A\",\n",
    "    df[\"@TeamAName\"],\n",
    "    df[\"@TeamBName\"]\n",
    ")\n",
    "\n",
    "# Erstellen der Spalte \"Team2\" als das jeweils andere Team:\n",
    "df[\"Team2\"] = np.where(\n",
    "    df[\"TeamDesignation\"].str.upper() == \"A\",\n",
    "    df[\"@TeamBName\"],\n",
    "    df[\"@TeamAName\"]\n",
    ")"
   ]
  },
  {
   "cell_type": "code",
   "execution_count": 32,
   "id": "dfa42e0c",
   "metadata": {},
   "outputs": [],
   "source": [
    "#Gender umdefinieren\n",
    "df['Gender_x'] = df['Gender_x'].astype('object')"
   ]
  },
  {
   "cell_type": "code",
   "execution_count": 33,
   "id": "d31c2199",
   "metadata": {},
   "outputs": [],
   "source": [
    "#bestimmte Variablen entfernen\n",
    "# data1 = df.drop(['FirstName', 'LastName', 'TeamDesignation', '@PointsTeamASet3', '@PointsTeamBSet3', \n",
    "#        'FederationCode_y', '@TeamAName', '@TeamBName','Gender_x','TeamName',\n",
    "#        '@LocalDate', '@LocalTime', 'temperature_2m',\n",
    "#        'precipitation', 'wind_speed_10m', 'rain', 'wind_gusts_10m',\n",
    "#         'SpikeTotal',\n",
    "#         '@DurationSet3'], axis=1)\n",
    "data1 = df.drop(['FirstName', 'LastName', 'TeamDesignation','@PointsTeamASet1', '@PointsTeamBSet1', '@PointsTeamASet2',\n",
    "       '@PointsTeamBSet2', '@PointsTeamASet3', '@PointsTeamBSet3', \n",
    "       'FederationCode_y', '@TeamAName', '@TeamBName',\n",
    "       '@DurationSet1','@LocalDate', '@LocalTime',\n",
    "       #neu\n",
    "       'FirstName2', 'LastName2','Type','TournamentNo','NoPlayer1_team', 'NoPlayer2_team',#'total_A', 'total_B', 'TeamName'-> nicht mehr da\n",
    "       '@DurationSet2', '@DurationSet3',\n",
    "        'temperature_2m',\n",
    "        #angepasst für den Fall\n",
    "        'precipitation', 'wind_speed_10m', 'rain', 'wind_gusts_10m',\n",
    "         'SpikeTotal',], axis=1)\n",
    "#'Gender_x',"
   ]
  },
  {
   "cell_type": "code",
   "execution_count": 34,
   "id": "58a6d02e",
   "metadata": {},
   "outputs": [],
   "source": [
    "y = data1.pop('SpikeFault')\n",
    "X = data1.copy()\n",
    "\n",
    "X_train, X_test, y_train, y_test = train_test_split(X, y, test_size=0.2, random_state=31416)"
   ]
  },
  {
   "cell_type": "code",
   "execution_count": 26,
   "id": "8c1d8b25",
   "metadata": {},
   "outputs": [],
   "source": [
    "df.to_csv('ML_SpikeFault_OHNEWetter_V2.csv', index=False, sep=';')"
   ]
  },
  {
   "cell_type": "code",
   "execution_count": 35,
   "id": "f886837e",
   "metadata": {},
   "outputs": [],
   "source": [
    "# select categorical and numerical column names\n",
    "nominal_features = X.select_dtypes(include=['object']).columns.tolist()\n",
    "# Define feature types\n",
    "numeric_features = X.select_dtypes(include=['int64', 'float64']).columns.tolist()\n",
    "\n",
    "# Create preprocessors for different feature types\n",
    "numeric_transformer = Pipeline(steps=[\n",
    "    ('imputer', KNNImputer(n_neighbors=5)),\n",
    "    ('scaler', StandardScaler())\n",
    "])\n",
    "\n",
    "nominal_transformer = Pipeline(steps=[\n",
    "    ('imputer', SimpleImputer(strategy='most_frequent')),\n",
    "    ('onehot', OneHotEncoder(handle_unknown='ignore', sparse_output=False))\n",
    "])\n",
    "\n",
    "# Build the column transformer\n",
    "transformers = [\n",
    "    ('num', numeric_transformer, numeric_features),\n",
    "    ('nom', nominal_transformer, nominal_features)\n",
    "]\n",
    "\n",
    "preprocessor = ColumnTransformer(transformers=transformers)"
   ]
  },
  {
   "cell_type": "code",
   "execution_count": 21,
   "id": "e16eed13",
   "metadata": {},
   "outputs": [],
   "source": [
    "from sklearn.metrics import r2_score, mean_absolute_error, root_mean_squared_error, mean_absolute_percentage_error\n",
    "\n",
    "model_scores = []\n",
    "def score_model(model_name, y_true, y_pred):\n",
    "  scores = {\n",
    "      'Model': model_name,\n",
    "      'MAE ($)': round(mean_absolute_error(y_true, y_pred), 2),\n",
    "      'RMSE ($)': round(root_mean_squared_error(y_true, y_pred), 2),\n",
    "      'MAPE (%)': round(100 * mean_absolute_percentage_error(y_true, y_pred), 2),\n",
    "      'R-Squared': round(r2_score(y_true, y_pred), 3)\n",
    "  }\n",
    "  return scores"
   ]
  },
  {
   "cell_type": "code",
   "execution_count": 37,
   "id": "95d41ea4",
   "metadata": {},
   "outputs": [
    {
     "data": {
      "application/vnd.microsoft.datawrangler.viewer.v0+json": {
       "columns": [
        {
         "name": "index",
         "rawType": "int64",
         "type": "integer"
        },
        {
         "name": "Model",
         "rawType": "object",
         "type": "string"
        },
        {
         "name": "MAE ($)",
         "rawType": "float64",
         "type": "float"
        },
        {
         "name": "RMSE ($)",
         "rawType": "float64",
         "type": "float"
        },
        {
         "name": "MAPE (%)",
         "rawType": "float64",
         "type": "float"
        },
        {
         "name": "R-Squared",
         "rawType": "float64",
         "type": "float"
        }
       ],
       "conversionMethod": "pd.DataFrame",
       "ref": "5cd3318f-7ac4-4796-bfd8-3e43ced97d53",
       "rows": [
        [
         "0",
         "GradientBoostigRegressor",
         "2.21",
         "2.88",
         "4.07856740182621e+16",
         "0.432"
        ],
        [
         "1",
         "RandomForest",
         "2.24",
         "2.92",
         "4.096973429411073e+16",
         "0.418"
        ],
        [
         "2",
         "GradientBoostigRegressor",
         "2.21",
         "2.87",
         "4.006513883516297e+16",
         "0.437"
        ]
       ],
       "shape": {
        "columns": 5,
        "rows": 3
       }
      },
      "text/html": [
       "<div>\n",
       "<style scoped>\n",
       "    .dataframe tbody tr th:only-of-type {\n",
       "        vertical-align: middle;\n",
       "    }\n",
       "\n",
       "    .dataframe tbody tr th {\n",
       "        vertical-align: top;\n",
       "    }\n",
       "\n",
       "    .dataframe thead th {\n",
       "        text-align: right;\n",
       "    }\n",
       "</style>\n",
       "<table border=\"1\" class=\"dataframe\">\n",
       "  <thead>\n",
       "    <tr style=\"text-align: right;\">\n",
       "      <th></th>\n",
       "      <th>Model</th>\n",
       "      <th>MAE ($)</th>\n",
       "      <th>RMSE ($)</th>\n",
       "      <th>MAPE (%)</th>\n",
       "      <th>R-Squared</th>\n",
       "    </tr>\n",
       "  </thead>\n",
       "  <tbody>\n",
       "    <tr>\n",
       "      <th>0</th>\n",
       "      <td>GradientBoostigRegressor</td>\n",
       "      <td>2.21</td>\n",
       "      <td>2.88</td>\n",
       "      <td>4.078567e+16</td>\n",
       "      <td>0.432</td>\n",
       "    </tr>\n",
       "    <tr>\n",
       "      <th>1</th>\n",
       "      <td>RandomForest</td>\n",
       "      <td>2.24</td>\n",
       "      <td>2.92</td>\n",
       "      <td>4.096973e+16</td>\n",
       "      <td>0.418</td>\n",
       "    </tr>\n",
       "    <tr>\n",
       "      <th>2</th>\n",
       "      <td>GradientBoostigRegressor</td>\n",
       "      <td>2.21</td>\n",
       "      <td>2.87</td>\n",
       "      <td>4.006514e+16</td>\n",
       "      <td>0.437</td>\n",
       "    </tr>\n",
       "  </tbody>\n",
       "</table>\n",
       "</div>"
      ],
      "text/plain": [
       "                      Model  MAE ($)  RMSE ($)      MAPE (%)  R-Squared\n",
       "0  GradientBoostigRegressor     2.21      2.88  4.078567e+16      0.432\n",
       "1              RandomForest     2.24      2.92  4.096973e+16      0.418\n",
       "2  GradientBoostigRegressor     2.21      2.87  4.006514e+16      0.437"
      ]
     },
     "execution_count": 37,
     "metadata": {},
     "output_type": "execute_result"
    }
   ],
   "source": [
    "from sklearn.ensemble import GradientBoostingRegressor\n",
    "gbr_pipeline = make_pipeline(preprocessor,\n",
    "                             RobustScaler(),\n",
    "                             GradientBoostingRegressor(random_state=42, n_estimators=200, learning_rate=0.1, \n",
    "                                                  max_depth=5, subsample=0.8))\n",
    "\n",
    "GB = gbr_pipeline.fit(X_train, y_train)\n",
    "\n",
    "gbr_predictions = gbr_pipeline.predict(X_test)\n",
    "model_scores.append(score_model('GradientBoostigRegressor', y_test, gbr_predictions))\n",
    "pd.DataFrame(model_scores)"
   ]
  },
  {
   "cell_type": "code",
   "execution_count": 38,
   "id": "90b72c1b",
   "metadata": {},
   "outputs": [
    {
     "data": {
      "text/plain": [
       "['GradientBoosting_SpikeFault_OHNEWetter_V2.pkl']"
      ]
     },
     "execution_count": 38,
     "metadata": {},
     "output_type": "execute_result"
    }
   ],
   "source": [
    "import joblib\n",
    "# Modell speichern als .pkl-Datei\n",
    "joblib.dump(GB, \"GradientBoosting_SpikeFault_OHNEWetter_V2.pkl\")"
   ]
  },
  {
   "cell_type": "code",
   "execution_count": 39,
   "id": "28118291",
   "metadata": {},
   "outputs": [
    {
     "data": {
      "application/vnd.microsoft.datawrangler.viewer.v0+json": {
       "columns": [
        {
         "name": "index",
         "rawType": "int64",
         "type": "integer"
        },
        {
         "name": "Model",
         "rawType": "object",
         "type": "string"
        },
        {
         "name": "MAE ($)",
         "rawType": "float64",
         "type": "float"
        },
        {
         "name": "RMSE ($)",
         "rawType": "float64",
         "type": "float"
        },
        {
         "name": "MAPE (%)",
         "rawType": "float64",
         "type": "float"
        },
        {
         "name": "R-Squared",
         "rawType": "float64",
         "type": "float"
        }
       ],
       "conversionMethod": "pd.DataFrame",
       "ref": "ba85c792-3e4f-497b-8b3e-da1066014537",
       "rows": [
        [
         "0",
         "GradientBoostigRegressor",
         "2.21",
         "2.88",
         "4.07856740182621e+16",
         "0.432"
        ],
        [
         "1",
         "RandomForest",
         "2.24",
         "2.92",
         "4.096973429411073e+16",
         "0.418"
        ],
        [
         "2",
         "GradientBoostigRegressor",
         "2.21",
         "2.87",
         "4.006513883516297e+16",
         "0.437"
        ],
        [
         "3",
         "RandomForest",
         "2.24",
         "2.92",
         "4.120575212567089e+16",
         "0.417"
        ]
       ],
       "shape": {
        "columns": 5,
        "rows": 4
       }
      },
      "text/html": [
       "<div>\n",
       "<style scoped>\n",
       "    .dataframe tbody tr th:only-of-type {\n",
       "        vertical-align: middle;\n",
       "    }\n",
       "\n",
       "    .dataframe tbody tr th {\n",
       "        vertical-align: top;\n",
       "    }\n",
       "\n",
       "    .dataframe thead th {\n",
       "        text-align: right;\n",
       "    }\n",
       "</style>\n",
       "<table border=\"1\" class=\"dataframe\">\n",
       "  <thead>\n",
       "    <tr style=\"text-align: right;\">\n",
       "      <th></th>\n",
       "      <th>Model</th>\n",
       "      <th>MAE ($)</th>\n",
       "      <th>RMSE ($)</th>\n",
       "      <th>MAPE (%)</th>\n",
       "      <th>R-Squared</th>\n",
       "    </tr>\n",
       "  </thead>\n",
       "  <tbody>\n",
       "    <tr>\n",
       "      <th>0</th>\n",
       "      <td>GradientBoostigRegressor</td>\n",
       "      <td>2.21</td>\n",
       "      <td>2.88</td>\n",
       "      <td>4.078567e+16</td>\n",
       "      <td>0.432</td>\n",
       "    </tr>\n",
       "    <tr>\n",
       "      <th>1</th>\n",
       "      <td>RandomForest</td>\n",
       "      <td>2.24</td>\n",
       "      <td>2.92</td>\n",
       "      <td>4.096973e+16</td>\n",
       "      <td>0.418</td>\n",
       "    </tr>\n",
       "    <tr>\n",
       "      <th>2</th>\n",
       "      <td>GradientBoostigRegressor</td>\n",
       "      <td>2.21</td>\n",
       "      <td>2.87</td>\n",
       "      <td>4.006514e+16</td>\n",
       "      <td>0.437</td>\n",
       "    </tr>\n",
       "    <tr>\n",
       "      <th>3</th>\n",
       "      <td>RandomForest</td>\n",
       "      <td>2.24</td>\n",
       "      <td>2.92</td>\n",
       "      <td>4.120575e+16</td>\n",
       "      <td>0.417</td>\n",
       "    </tr>\n",
       "  </tbody>\n",
       "</table>\n",
       "</div>"
      ],
      "text/plain": [
       "                      Model  MAE ($)  RMSE ($)      MAPE (%)  R-Squared\n",
       "0  GradientBoostigRegressor     2.21      2.88  4.078567e+16      0.432\n",
       "1              RandomForest     2.24      2.92  4.096973e+16      0.418\n",
       "2  GradientBoostigRegressor     2.21      2.87  4.006514e+16      0.437\n",
       "3              RandomForest     2.24      2.92  4.120575e+16      0.417"
      ]
     },
     "execution_count": 39,
     "metadata": {},
     "output_type": "execute_result"
    }
   ],
   "source": [
    "from sklearn.ensemble import RandomForestRegressor\n",
    "rf_pipeline = make_pipeline(preprocessor,\n",
    "                             RobustScaler(),\n",
    "                             RandomForestRegressor(random_state=42, n_estimators=200, max_depth=15, \n",
    "                                         min_samples_split=5, min_samples_leaf=2))\n",
    "\n",
    "RF = rf_pipeline.fit(X_train, y_train)\n",
    "\n",
    "rf_predictions = rf_pipeline.predict(X_test)\n",
    "\n",
    "model_scores.append(score_model('RandomForest', y_test, rf_predictions))\n",
    "pd.DataFrame(model_scores)"
   ]
  },
  {
   "cell_type": "code",
   "execution_count": 40,
   "id": "79bed03c",
   "metadata": {},
   "outputs": [
    {
     "data": {
      "text/plain": [
       "['RandomForest_SpikeFault_OHNEWetter_V2.pkl']"
      ]
     },
     "execution_count": 40,
     "metadata": {},
     "output_type": "execute_result"
    }
   ],
   "source": [
    "import joblib\n",
    "# Modell speichern als .pkl-Datei\n",
    "joblib.dump(RF, \"RandomForest_SpikeFault_OHNEWetter_V2.pkl\")"
   ]
  }
 ],
 "metadata": {
  "kernelspec": {
   "display_name": ".venv",
   "language": "python",
   "name": "python3"
  },
  "language_info": {
   "codemirror_mode": {
    "name": "ipython",
    "version": 3
   },
   "file_extension": ".py",
   "mimetype": "text/x-python",
   "name": "python",
   "nbconvert_exporter": "python",
   "pygments_lexer": "ipython3",
   "version": "3.13.1"
  }
 },
 "nbformat": 4,
 "nbformat_minor": 5
}
