{
 "cells": [
  {
   "cell_type": "code",
   "execution_count": 25,
   "id": "440813d7",
   "metadata": {},
   "outputs": [],
   "source": [
    "import pandas as pd\n",
    "import numpy as np\n",
    "import matplotlib.pyplot as plt\n",
    "import seaborn as sns\n",
    "from sklearn import set_config\n",
    "set_config(transform_output='pandas')\n",
    "from sklearn.impute import SimpleImputer\n",
    "\n",
    "from sklearn.pipeline import make_pipeline\n",
    "from sklearn.model_selection import GridSearchCV\n",
    "from sklearn.metrics import accuracy_score\n",
    "from sklearn.preprocessing import StandardScaler\n",
    "from sklearn.model_selection import cross_validate,StratifiedKFold, cross_val_score, train_test_split\n",
    "import os\n",
    "from sklearn.preprocessing import StandardScaler, OneHotEncoder, OrdinalEncoder,MinMaxScaler, RobustScaler\n",
    "from sklearn.compose import ColumnTransformer\n",
    "from sklearn.pipeline import Pipeline\n",
    "from sklearn.impute import SimpleImputer, KNNImputer\n",
    "from sklearn.ensemble import RandomForestRegressor\n",
    "from sklearn.linear_model import LogisticRegression\n",
    "from sklearn.model_selection import train_test_split\n",
    "from sklearn.compose import make_column_transformer\n",
    "from sklearn.tree import DecisionTreeRegressor\n",
    "from sklearn.linear_model import LinearRegression, SGDRegressor"
   ]
  },
  {
   "cell_type": "code",
   "execution_count": 31,
   "id": "3bd45e04",
   "metadata": {},
   "outputs": [],
   "source": [
    "os.chdir('C:/Users/Katharina/Desktop/Weiterbildung/Bootcamp/Bootcamp/Final_project/data')\n",
    "data = pd.read_csv('ML_Data_Teams.csv', sep=';')\t"
   ]
  },
  {
   "cell_type": "code",
   "execution_count": 32,
   "id": "f9ce6e0a",
   "metadata": {},
   "outputs": [],
   "source": [
    "data1 = data[['@PositionInEntry','SpikePoint',\n",
    "       '@Rank', '@EarnedPointsTeam', '@EarningsTotalTeam', 'Gender_x', 'Type',\n",
    "       \n",
    "       'FirstName', 'LastName', 'FirstName2', 'LastName2',   '@DurationSet1',\n",
    "       '@DurationSet2', '@DurationSet3', 'temperature_2m', 'precipitation',\n",
    "       'wind_speed_10m', 'rain', 'wind_gusts_10m', \n",
    "       'match_win',  'Standard_Namen', 'Standard_Namen_team2']]\n",
    "#'TournamentNo', 'SpikeFault',  'ServeFault', 'ServePoint',\n",
    "       # 'ServeTotal', 'BlockPoint', 'BlockTotal', 'DigTotal', 'ReceptionFault',\n",
    "       # 'SpikeTotal', '@PointsTeamASet1',\n",
    "       # '@PointsTeamBSet1', '@PointsTeamASet2', '@PointsTeamBSet2',\n",
    "       # '@PointsTeamASet3', '@PointsTeamBSet3', '@LocalDate', '@LocalTime',\n",
    "       # #neu rausgenommen:'TeamFault_team', 'FederationCode_y',"
   ]
  },
  {
   "cell_type": "code",
   "execution_count": 33,
   "id": "1755f10d",
   "metadata": {},
   "outputs": [],
   "source": [
    "#Daten für app\n",
    "\n",
    "special_feature = '@DurationSet3'\n",
    "data2 = data1.copy()\n",
    "# Erzeuge den Indikator: 1, wenn in @DurationSet3 ein Wert vorhanden ist, sonst 0.\n",
    "data2[special_feature + '_indicator'] = data2[special_feature].notnull().astype(int)\n",
    "\n",
    "#Daten für app\n",
    "\n",
    "data2.to_csv('ML_SpikePoint_MitWetter.csv', index=False, sep=';')"
   ]
  },
  {
   "cell_type": "code",
   "execution_count": 34,
   "id": "47146b64",
   "metadata": {},
   "outputs": [],
   "source": [
    "y = data2.pop('SpikePoint')\n",
    "X = data2.copy()\n",
    "\n",
    "X_train, X_test, y_train, y_test = train_test_split(X, y, test_size=0.2, random_state=21)"
   ]
  },
  {
   "cell_type": "code",
   "execution_count": 35,
   "id": "2177526d",
   "metadata": {},
   "outputs": [
    {
     "data": {
      "text/plain": [
       "Index(['@PositionInEntry', '@Rank', '@EarnedPointsTeam', '@EarningsTotalTeam',\n",
       "       'Gender_x', 'Type', 'FirstName', 'LastName', 'FirstName2', 'LastName2',\n",
       "       '@DurationSet1', '@DurationSet2', '@DurationSet3', 'temperature_2m',\n",
       "       'precipitation', 'wind_speed_10m', 'rain', 'wind_gusts_10m',\n",
       "       'match_win', 'Standard_Namen', 'Standard_Namen_team2',\n",
       "       '@DurationSet3_indicator'],\n",
       "      dtype='object')"
      ]
     },
     "execution_count": 35,
     "metadata": {},
     "output_type": "execute_result"
    }
   ],
   "source": [
    "X_train.columns"
   ]
  },
  {
   "cell_type": "code",
   "execution_count": null,
   "id": "e99c0bfe",
   "metadata": {},
   "outputs": [],
   "source": [
    "# special_feature = '@DurationSet3'\n",
    "\n",
    "# # Kopiere die Trainingsdaten, um das Original nicht zu überschreiben\n",
    "# X_train = X_train.copy()\n",
    "\n",
    "# # Erzeuge den Indikator: 1, wenn in @DurationSet3 ein Wert vorhanden ist, sonst 0.\n",
    "# X_train[special_feature + '_indicator'] = X_train[special_feature].notnull().astype(int)\n",
    "\n",
    "# # Für die Testdaten ebenfalls:\n",
    "# X_test = X_test.copy()\n",
    "# X_test[special_feature + '_indicator'] = X_test[special_feature].notnull().astype(int)\n"
   ]
  },
  {
   "cell_type": "code",
   "execution_count": 36,
   "id": "ebeddbbf",
   "metadata": {},
   "outputs": [],
   "source": [
    "nominal_features = X_train.select_dtypes(include=['object']).columns.tolist()\n",
    "numeric_features = X_train.select_dtypes(include=['int64', 'float64']).columns.tolist()\n",
    "\n",
    "# Erstelle eine Liste der allgemeinen numerischen Features, exklusive des speziellen Features und dessen Indikator\n",
    "general_numeric_features = [col for col in numeric_features if col not in [special_feature, special_feature + '_indicator']]\n",
    "\n",
    "# Erstelle separate Pipelines:\n",
    "# 1. Für allgemeine numerische Features mit KNNImputer\n",
    "numeric_transformer = Pipeline(steps=[\n",
    "    ('imputer', KNNImputer(n_neighbors=5)),\n",
    "    ('scaler', StandardScaler())\n",
    "])\n",
    "\n",
    "# 2. Für das spezielle Feature, das immer mit 0 imputiert werden soll (das signalisiert, dass kein dritter Satz stattgefunden hat)\n",
    "special_numeric_transformer = Pipeline(steps=[\n",
    "    ('imputer', SimpleImputer(strategy='constant', fill_value=0)),\n",
    "    ('scaler', StandardScaler())\n",
    "])\n",
    "\n",
    "# 3. Für die Indikatorspalte (@DurationSet3_indicator)\n",
    "indicator_transformer = Pipeline(steps=[\n",
    "    # Hier ist meist keine Imputation nötig; Skalierung ist optional, da 0 und 1 oft schon aussagekräftig sind.\n",
    "    ('scaler', StandardScaler())\n",
    "])\n",
    "\n",
    "# 4. Für nominale Features: Imputation mit dem häufigsten Wert + OneHotEncoding\n",
    "nominal_transformer = Pipeline(steps=[\n",
    "    ('imputer', SimpleImputer(strategy='most_frequent')),\n",
    "    ('onehot', OneHotEncoder(handle_unknown='ignore', sparse_output=False))\n",
    "])\n",
    "\n",
    "# Baue den ColumnTransformer unter Berücksichtigung aller Feature-Gruppen:\n",
    "transformers = [\n",
    "    ('num', numeric_transformer, general_numeric_features),\n",
    "    ('spec_num', special_numeric_transformer, [special_feature]),\n",
    "    ('indicator', indicator_transformer, [special_feature + '_indicator']),\n",
    "    ('nom', nominal_transformer, nominal_features)\n",
    "]\n",
    "\n",
    "preprocessor = ColumnTransformer(transformers=transformers)"
   ]
  },
  {
   "cell_type": "code",
   "execution_count": 11,
   "id": "bbdcf001",
   "metadata": {},
   "outputs": [],
   "source": [
    "# # select categorical and numerical column names\n",
    "# nominal_features = X.select_dtypes(include=['object']).columns.tolist()\n",
    "# # Define feature types\n",
    "# numeric_features = X.select_dtypes(include=['int64', 'float64']).columns.tolist()\n",
    "\n",
    "# # Create preprocessors for different feature types\n",
    "# numeric_transformer = Pipeline(steps=[\n",
    "#     ('imputer', KNNImputer(n_neighbors=5)),\n",
    "#     ('scaler', StandardScaler())\n",
    "# ])\n",
    "\n",
    "# nominal_transformer = Pipeline(steps=[\n",
    "#     ('imputer', SimpleImputer(strategy='most_frequent')),\n",
    "#     ('onehot', OneHotEncoder(handle_unknown='ignore', sparse_output=False))\n",
    "# ])\n",
    "\n",
    "# # Build the column transformer\n",
    "# transformers = [\n",
    "#     ('num', numeric_transformer, numeric_features),\n",
    "#     ('nom', nominal_transformer, nominal_features)\n",
    "# ]\n",
    "\n",
    "# preprocessor = ColumnTransformer(transformers=transformers)"
   ]
  },
  {
   "cell_type": "code",
   "execution_count": 37,
   "id": "731d0725",
   "metadata": {},
   "outputs": [],
   "source": [
    "from sklearn.metrics import r2_score, mean_absolute_error, root_mean_squared_error, mean_absolute_percentage_error\n",
    "\n",
    "model_scores = []\n",
    "def score_model(model_name, y_true, y_pred):\n",
    "  scores = {\n",
    "      'Model': model_name,\n",
    "      'MAE ($)': round(mean_absolute_error(y_true, y_pred), 2),\n",
    "      'RMSE ($)': round(root_mean_squared_error(y_true, y_pred), 2),\n",
    "      'MAPE (%)': round(100 * mean_absolute_percentage_error(y_true, y_pred), 2),\n",
    "      'R-Squared': round(r2_score(y_true, y_pred), 3)\n",
    "  }\n",
    "  return scores"
   ]
  },
  {
   "cell_type": "code",
   "execution_count": 38,
   "id": "a18e1b90",
   "metadata": {},
   "outputs": [
    {
     "data": {
      "application/vnd.microsoft.datawrangler.viewer.v0+json": {
       "columns": [
        {
         "name": "index",
         "rawType": "int64",
         "type": "integer"
        },
        {
         "name": "Model",
         "rawType": "object",
         "type": "string"
        },
        {
         "name": "MAE ($)",
         "rawType": "float64",
         "type": "float"
        },
        {
         "name": "RMSE ($)",
         "rawType": "float64",
         "type": "float"
        },
        {
         "name": "MAPE (%)",
         "rawType": "float64",
         "type": "float"
        },
        {
         "name": "R-Squared",
         "rawType": "float64",
         "type": "float"
        }
       ],
       "conversionMethod": "pd.DataFrame",
       "ref": "ca739df5-d299-441a-b7f8-3254e00bc3b8",
       "rows": [
        [
         "0",
         "GradientBoostigRegressor",
         "3.07",
         "4.01",
         "1.4028650226249046e+16",
         "0.68"
        ]
       ],
       "shape": {
        "columns": 5,
        "rows": 1
       }
      },
      "text/html": [
       "<div>\n",
       "<style scoped>\n",
       "    .dataframe tbody tr th:only-of-type {\n",
       "        vertical-align: middle;\n",
       "    }\n",
       "\n",
       "    .dataframe tbody tr th {\n",
       "        vertical-align: top;\n",
       "    }\n",
       "\n",
       "    .dataframe thead th {\n",
       "        text-align: right;\n",
       "    }\n",
       "</style>\n",
       "<table border=\"1\" class=\"dataframe\">\n",
       "  <thead>\n",
       "    <tr style=\"text-align: right;\">\n",
       "      <th></th>\n",
       "      <th>Model</th>\n",
       "      <th>MAE ($)</th>\n",
       "      <th>RMSE ($)</th>\n",
       "      <th>MAPE (%)</th>\n",
       "      <th>R-Squared</th>\n",
       "    </tr>\n",
       "  </thead>\n",
       "  <tbody>\n",
       "    <tr>\n",
       "      <th>0</th>\n",
       "      <td>GradientBoostigRegressor</td>\n",
       "      <td>3.07</td>\n",
       "      <td>4.01</td>\n",
       "      <td>1.402865e+16</td>\n",
       "      <td>0.68</td>\n",
       "    </tr>\n",
       "  </tbody>\n",
       "</table>\n",
       "</div>"
      ],
      "text/plain": [
       "                      Model  MAE ($)  RMSE ($)      MAPE (%)  R-Squared\n",
       "0  GradientBoostigRegressor     3.07      4.01  1.402865e+16       0.68"
      ]
     },
     "execution_count": 38,
     "metadata": {},
     "output_type": "execute_result"
    }
   ],
   "source": [
    "from sklearn.ensemble import GradientBoostingRegressor\n",
    "gbr_pipeline = make_pipeline(preprocessor,\n",
    "                             RobustScaler(),\n",
    "                             GradientBoostingRegressor(random_state=42, n_estimators=200, learning_rate=0.1, \n",
    "                                                  max_depth=5, subsample=0.8))\n",
    "\n",
    "GB = gbr_pipeline.fit(X_train, y_train)\n",
    "\n",
    "gbr_predictions = gbr_pipeline.predict(X_test)\n",
    "\n",
    "model_scores.append(score_model('GradientBoostigRegressor', y_test, gbr_predictions))\n",
    "pd.DataFrame(model_scores)"
   ]
  },
  {
   "cell_type": "code",
   "execution_count": 39,
   "id": "64c9affd",
   "metadata": {},
   "outputs": [
    {
     "name": "stdout",
     "output_type": "stream",
     "text": [
      "Train R²: 0.7924078376441723\n",
      "Test R²: 0.6799331810890101\n"
     ]
    }
   ],
   "source": [
    "train_r2 = gbr_pipeline.score(X_train, y_train)\n",
    "test_r2  = gbr_pipeline.score(X_test, y_test)\n",
    "print(\"Train R²:\", train_r2)\n",
    "print(\"Test R²:\", test_r2)"
   ]
  },
  {
   "cell_type": "code",
   "execution_count": 49,
   "id": "cc3c07d5",
   "metadata": {},
   "outputs": [
    {
     "data": {
      "text/plain": [
       "['GradientBoosting_SpikePoint_mitWetter_OhneStatistikDaten2.pkl']"
      ]
     },
     "execution_count": 49,
     "metadata": {},
     "output_type": "execute_result"
    }
   ],
   "source": [
    "import joblib\n",
    "# Modell speichern als .pkl-Datei\n",
    "joblib.dump(GB, \"GradientBoosting_SpikePoint_mitWetter_OhneStatistikDaten2.pkl\")"
   ]
  },
  {
   "cell_type": "code",
   "execution_count": 41,
   "id": "8a208818",
   "metadata": {},
   "outputs": [
    {
     "name": "stdout",
     "output_type": "stream",
     "text": [
      "                               feature  importance\n",
      "14             spec_num__@DurationSet3    0.513041\n",
      "13                      num__match_win    0.085728\n",
      "6                   num__@DurationSet1    0.072131\n",
      "7                   num__@DurationSet2    0.071842\n",
      "15  indicator__@DurationSet3_indicator    0.059261\n",
      "8                  num__temperature_2m    0.011605\n",
      "5                            num__Type    0.011260\n",
      "10                 num__wind_speed_10m    0.009059\n",
      "3              num__@EarningsTotalTeam    0.008646\n",
      "2               num__@EarnedPointsTeam    0.007617\n"
     ]
    }
   ],
   "source": [
    "\n",
    "# 1. Extrahiere das trainierte Model (der letzte Schritt in der Pipeline)\n",
    "model = gbr_pipeline.named_steps['gradientboostingregressor']\n",
    "\n",
    "# 2. Extrahiere den Preprocessor-Schritt, der die Features formatiert hat.\n",
    "# Je nachdem, wie deine Pipeline aufgebaut ist, kann der Schritt-Name variieren.\n",
    "# Beim make_pipeline werden die Namen automatisch generiert:\n",
    "preprocessor = gbr_pipeline.named_steps[list(gbr_pipeline.named_steps.keys())[1]]\n",
    "# Alternativ, wenn du die Pipeline explizit mit Namen erstellt hast, z.B. im Pipeline-Konstruktur,\n",
    "# dann wäre es etwas wie:\n",
    "preprocessor = gbr_pipeline.named_steps['columntransformer']\n",
    "\n",
    "# 3. Hole die Feature-Namen aus dem Preprocessor:\n",
    "# Diese Methode funktioniert, wenn der Preprocessor und seine Zwischenschritte get_feature_names_out unterstützen.\n",
    "feature_names = preprocessor.get_feature_names_out()\n",
    "\n",
    "# 4. Extrahiere die Feature Importances aus dem Model\n",
    "importances = model.feature_importances_\n",
    "\n",
    "# 5. Erstelle einen DataFrame zum besseren Überblick\n",
    "feature_importances_df = pd.DataFrame({\n",
    "    'feature': feature_names,\n",
    "    'importance': importances\n",
    "}).sort_values(by='importance', ascending=False)\n",
    "\n",
    "print(feature_importances_df.head(10))\n"
   ]
  },
  {
   "cell_type": "code",
   "execution_count": 42,
   "id": "a69de4ad",
   "metadata": {},
   "outputs": [
    {
     "name": "stdout",
     "output_type": "stream",
     "text": [
      "{'alpha': 0.9, 'ccp_alpha': 0.0, 'criterion': 'friedman_mse', 'init': None, 'learning_rate': 0.1, 'loss': 'squared_error', 'max_depth': 5, 'max_features': None, 'max_leaf_nodes': None, 'min_impurity_decrease': 0.0, 'min_samples_leaf': 1, 'min_samples_split': 2, 'min_weight_fraction_leaf': 0.0, 'n_estimators': 200, 'n_iter_no_change': None, 'random_state': 42, 'subsample': 0.8, 'tol': 0.0001, 'validation_fraction': 0.1, 'verbose': 0, 'warm_start': False}\n"
     ]
    }
   ],
   "source": [
    "print(gbr_pipeline.named_steps['gradientboostingregressor'].get_params())"
   ]
  },
  {
   "cell_type": "code",
   "execution_count": 43,
   "id": "1f463a8c",
   "metadata": {},
   "outputs": [
    {
     "data": {
      "application/vnd.microsoft.datawrangler.viewer.v0+json": {
       "columns": [
        {
         "name": "index",
         "rawType": "int64",
         "type": "integer"
        },
        {
         "name": "Model",
         "rawType": "object",
         "type": "string"
        },
        {
         "name": "MAE ($)",
         "rawType": "float64",
         "type": "float"
        },
        {
         "name": "RMSE ($)",
         "rawType": "float64",
         "type": "float"
        },
        {
         "name": "MAPE (%)",
         "rawType": "float64",
         "type": "float"
        },
        {
         "name": "R-Squared",
         "rawType": "float64",
         "type": "float"
        }
       ],
       "conversionMethod": "pd.DataFrame",
       "ref": "4fc9bc89-ad29-4d3d-bd80-737aee043933",
       "rows": [
        [
         "0",
         "GradientBoostigRegressor",
         "3.07",
         "4.01",
         "1.4028650226249046e+16",
         "0.68"
        ],
        [
         "1",
         "RandomForest",
         "3.25",
         "4.25",
         "1.7455555355202162e+16",
         "0.641"
        ]
       ],
       "shape": {
        "columns": 5,
        "rows": 2
       }
      },
      "text/html": [
       "<div>\n",
       "<style scoped>\n",
       "    .dataframe tbody tr th:only-of-type {\n",
       "        vertical-align: middle;\n",
       "    }\n",
       "\n",
       "    .dataframe tbody tr th {\n",
       "        vertical-align: top;\n",
       "    }\n",
       "\n",
       "    .dataframe thead th {\n",
       "        text-align: right;\n",
       "    }\n",
       "</style>\n",
       "<table border=\"1\" class=\"dataframe\">\n",
       "  <thead>\n",
       "    <tr style=\"text-align: right;\">\n",
       "      <th></th>\n",
       "      <th>Model</th>\n",
       "      <th>MAE ($)</th>\n",
       "      <th>RMSE ($)</th>\n",
       "      <th>MAPE (%)</th>\n",
       "      <th>R-Squared</th>\n",
       "    </tr>\n",
       "  </thead>\n",
       "  <tbody>\n",
       "    <tr>\n",
       "      <th>0</th>\n",
       "      <td>GradientBoostigRegressor</td>\n",
       "      <td>3.07</td>\n",
       "      <td>4.01</td>\n",
       "      <td>1.402865e+16</td>\n",
       "      <td>0.680</td>\n",
       "    </tr>\n",
       "    <tr>\n",
       "      <th>1</th>\n",
       "      <td>RandomForest</td>\n",
       "      <td>3.25</td>\n",
       "      <td>4.25</td>\n",
       "      <td>1.745556e+16</td>\n",
       "      <td>0.641</td>\n",
       "    </tr>\n",
       "  </tbody>\n",
       "</table>\n",
       "</div>"
      ],
      "text/plain": [
       "                      Model  MAE ($)  RMSE ($)      MAPE (%)  R-Squared\n",
       "0  GradientBoostigRegressor     3.07      4.01  1.402865e+16      0.680\n",
       "1              RandomForest     3.25      4.25  1.745556e+16      0.641"
      ]
     },
     "execution_count": 43,
     "metadata": {},
     "output_type": "execute_result"
    }
   ],
   "source": [
    "from sklearn.ensemble import RandomForestRegressor\n",
    "rf_pipeline = make_pipeline(preprocessor,\n",
    "                             RobustScaler(),\n",
    "                             RandomForestRegressor(random_state=42, n_estimators=200, max_depth=15, \n",
    "                                         min_samples_split=5, min_samples_leaf=2))\n",
    "\n",
    "RF = rf_pipeline.fit(X_train, y_train)\n",
    "\n",
    "rf_predictions = rf_pipeline.predict(X_test)\n",
    "\n",
    "model_scores.append(score_model('RandomForest', y_test, rf_predictions))\n",
    "pd.DataFrame(model_scores)"
   ]
  },
  {
   "cell_type": "code",
   "execution_count": 44,
   "id": "85700911",
   "metadata": {},
   "outputs": [
    {
     "name": "stdout",
     "output_type": "stream",
     "text": [
      "{'bootstrap': True, 'ccp_alpha': 0.0, 'criterion': 'squared_error', 'max_depth': 15, 'max_features': 1.0, 'max_leaf_nodes': None, 'max_samples': None, 'min_impurity_decrease': 0.0, 'min_samples_leaf': 2, 'min_samples_split': 5, 'min_weight_fraction_leaf': 0.0, 'monotonic_cst': None, 'n_estimators': 200, 'n_jobs': None, 'oob_score': False, 'random_state': 42, 'verbose': 0, 'warm_start': False}\n"
     ]
    }
   ],
   "source": [
    "print(rf_pipeline.named_steps['randomforestregressor'].get_params())"
   ]
  },
  {
   "cell_type": "code",
   "execution_count": 45,
   "id": "4850adbb",
   "metadata": {},
   "outputs": [
    {
     "name": "stdout",
     "output_type": "stream",
     "text": [
      "Train R²: 0.8342059454276173\n",
      "Test R²: 0.6410702953875063\n"
     ]
    }
   ],
   "source": [
    "train_r2 = rf_pipeline.score(X_train, y_train)\n",
    "test_r2  = rf_pipeline.score(X_test, y_test)\n",
    "print(\"Train R²:\", train_r2)\n",
    "print(\"Test R²:\", test_r2)"
   ]
  },
  {
   "cell_type": "code",
   "execution_count": 48,
   "id": "b09cb31e",
   "metadata": {},
   "outputs": [
    {
     "data": {
      "text/plain": [
       "['RandomForest_SpikePoint_mitWetter_OhneStatistikDaten2.pkl']"
      ]
     },
     "execution_count": 48,
     "metadata": {},
     "output_type": "execute_result"
    }
   ],
   "source": [
    "import joblib\n",
    "# Modell speichern als .pkl-Datei\n",
    "joblib.dump(RF, \"RandomForest_SpikePoint_mitWetter_OhneStatistikDaten2.pkl\")"
   ]
  },
  {
   "cell_type": "code",
   "execution_count": 47,
   "id": "259013b9",
   "metadata": {},
   "outputs": [
    {
     "name": "stdout",
     "output_type": "stream",
     "text": [
      "                               feature  importance\n",
      "14             spec_num__@DurationSet3    0.542119\n",
      "13                      num__match_win    0.084251\n",
      "7                   num__@DurationSet2    0.078817\n",
      "6                   num__@DurationSet1    0.076276\n",
      "15  indicator__@DurationSet3_indicator    0.026922\n",
      "8                  num__temperature_2m    0.022868\n",
      "10                 num__wind_speed_10m    0.019241\n",
      "12                 num__wind_gusts_10m    0.018083\n",
      "3              num__@EarningsTotalTeam    0.016921\n",
      "0                num__@PositionInEntry    0.016127\n"
     ]
    }
   ],
   "source": [
    "# 1. Extrahiere das trainierte Model (der letzte Schritt in der Pipeline)\n",
    "model = rf_pipeline.named_steps['randomforestregressor']\n",
    "\n",
    "# 2. Extrahiere den Preprocessor-Schritt, der die Features formatiert hat.\n",
    "# Je nachdem, wie deine Pipeline aufgebaut ist, kann der Schritt-Name variieren.\n",
    "# Beim make_pipeline werden die Namen automatisch generiert:\n",
    "preprocessor = rf_pipeline.named_steps[list(rf_pipeline.named_steps.keys())[1]]\n",
    "# Alternativ, wenn du die Pipeline explizit mit Namen erstellt hast, z.B. im Pipeline-Konstruktur,\n",
    "# dann wäre es etwas wie:\n",
    "\n",
    "preprocessor = rf_pipeline.named_steps['columntransformer']\n",
    "\n",
    "# 3. Hole die Feature-Namen aus dem Preprocessor:\n",
    "# Diese Methode funktioniert, wenn der Preprocessor und seine Zwischenschritte get_feature_names_out unterstützen.\n",
    "feature_names = preprocessor.get_feature_names_out()\n",
    "\n",
    "# 4. Extrahiere die Feature Importances aus dem Model\n",
    "importances = model.feature_importances_\n",
    "\n",
    "# 5. Erstelle einen DataFrame zum besseren Überblick\n",
    "feature_importances_df = pd.DataFrame({\n",
    "    'feature': feature_names,\n",
    "    'importance': importances\n",
    "}).sort_values(by='importance', ascending=False)\n",
    "\n",
    "print(feature_importances_df.head(10))\n"
   ]
  },
  {
   "cell_type": "code",
   "execution_count": null,
   "id": "5734c14e",
   "metadata": {},
   "outputs": [],
   "source": []
  }
 ],
 "metadata": {
  "kernelspec": {
   "display_name": ".venv",
   "language": "python",
   "name": "python3"
  },
  "language_info": {
   "codemirror_mode": {
    "name": "ipython",
    "version": 3
   },
   "file_extension": ".py",
   "mimetype": "text/x-python",
   "name": "python",
   "nbconvert_exporter": "python",
   "pygments_lexer": "ipython3",
   "version": "3.13.1"
  }
 },
 "nbformat": 4,
 "nbformat_minor": 5
}
