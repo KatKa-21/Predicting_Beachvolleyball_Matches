{
 "cells": [
  {
   "cell_type": "markdown",
   "id": "a6cdc347",
   "metadata": {},
   "source": [
    "## Spike Fault Modell auf Spieler - Ebene"
   ]
  },
  {
   "cell_type": "code",
   "execution_count": 1,
   "id": "1226ea97",
   "metadata": {},
   "outputs": [],
   "source": [
    "import pandas as pd\n",
    "import numpy as np\n",
    "import matplotlib.pyplot as plt\n",
    "import seaborn as sns\n",
    "from sklearn import set_config\n",
    "set_config(transform_output='pandas')\n",
    "from sklearn.impute import SimpleImputer\n",
    "\n",
    "from sklearn.pipeline import make_pipeline\n",
    "from sklearn.model_selection import GridSearchCV\n",
    "from sklearn.metrics import accuracy_score\n",
    "from sklearn.preprocessing import StandardScaler\n",
    "from sklearn.model_selection import cross_validate,StratifiedKFold, cross_val_score, train_test_split\n",
    "import os\n",
    "from sklearn.preprocessing import StandardScaler, OneHotEncoder, OrdinalEncoder,MinMaxScaler, RobustScaler\n",
    "from sklearn.compose import ColumnTransformer\n",
    "from sklearn.pipeline import Pipeline\n",
    "from sklearn.impute import SimpleImputer, KNNImputer\n",
    "from sklearn.ensemble import RandomForestRegressor\n",
    "from sklearn.linear_model import LogisticRegression\n",
    "from sklearn.model_selection import train_test_split\n",
    "from sklearn.compose import make_column_transformer\n",
    "from sklearn.tree import DecisionTreeRegressor\n",
    "from sklearn.linear_model import LinearRegression, SGDRegressor"
   ]
  },
  {
   "cell_type": "code",
   "execution_count": 2,
   "id": "8a9b05be",
   "metadata": {},
   "outputs": [],
   "source": [
    "os.chdir('C:/Users/Katharina/Desktop/Weiterbildung/Bootcamp/Bootcamp/Final_project/data')\n",
    "DatS = pd.read_csv('DatenML_V1.csv', sep=';')"
   ]
  },
  {
   "cell_type": "code",
   "execution_count": 3,
   "id": "6ad70738",
   "metadata": {},
   "outputs": [],
   "source": [
    "\n",
    "def assign_team_label(row):\n",
    "    # Lese den Teamnamen der aktuellen Zeile aus\n",
    "    team_name = row['TeamName']\n",
    "    # Zerlege den String in @TeamAName in einzelne Namen – Trimme Leerzeichen\n",
    "    team_a_names = [name.strip() for name in row['@TeamAName'].split('/')]\n",
    "    # Falls team_name in der Liste der TeamA-Namen enthalten ist, handelt es sich um Team A, ansonsten um Team B\n",
    "    return 'A' if team_name in team_a_names else 'B'\n"
   ]
  },
  {
   "cell_type": "code",
   "execution_count": 4,
   "id": "cc4ef3ed",
   "metadata": {},
   "outputs": [],
   "source": [
    "DatS['TeamDesignation'] = DatS.apply(assign_team_label, axis=1)"
   ]
  },
  {
   "cell_type": "code",
   "execution_count": 6,
   "id": "5d621824",
   "metadata": {},
   "outputs": [],
   "source": [
    "DatS2 = DatS.dropna(subset=['temperature_2m', 'precipitation', 'wind_speed_10m', 'rain', 'wind_gusts_10m'])"
   ]
  },
  {
   "cell_type": "code",
   "execution_count": 8,
   "id": "1857e7d2",
   "metadata": {},
   "outputs": [],
   "source": [
    "df = DatS2.copy()\n",
    "# Erstellen der neuen Spalte \"Team1\":\n",
    "# Wenn TeamDesignation = A, dann soll TeamAName in Team1 stehen,\n",
    "# andernfalls (also bei B) TeamBName.\n",
    "df[\"Team1\"] = np.where(\n",
    "    df[\"TeamDesignation\"].str.upper() == \"A\",\n",
    "    df[\"@TeamAName\"],\n",
    "    df[\"@TeamBName\"]\n",
    ")\n",
    "\n",
    "# Erstellen der Spalte \"Team2\" als das jeweils andere Team:\n",
    "df[\"Team2\"] = np.where(\n",
    "    df[\"TeamDesignation\"].str.upper() == \"A\",\n",
    "    df[\"@TeamBName\"],\n",
    "    df[\"@TeamAName\"]\n",
    ")"
   ]
  },
  {
   "cell_type": "code",
   "execution_count": 31,
   "id": "a5286aa2",
   "metadata": {},
   "outputs": [],
   "source": [
    "#bestimmte Variablen entfernen\n",
    "data1 = df.drop(['FirstName', 'LastName', 'TeamDesignation', '@PointsTeamASet3', '@PointsTeamBSet3', \n",
    "       'FederationCode_y', 'Gender_x','TeamName','ItemType','@NoInTournament', '@LocalDate',\n",
    "       '@LocalTime','@Court','TeamFault','NoMatch','PointTotal','TournamentNo',\n",
    "       '@LocalDate', '@LocalTime','ID_row', 'ID_DefaultCity','NoPlayer1', 'NoPlayer2', 'Name_y','team_idx',\n",
    "        'SpikeTotal','@TeamAName', '@TeamBName',\n",
    "        '@DurationSet3'], axis=1)\n"
   ]
  },
  {
   "cell_type": "code",
   "execution_count": 32,
   "id": "9353c44e",
   "metadata": {},
   "outputs": [],
   "source": [
    "y = data1.pop('SpikeFault')\n",
    "X = data1.copy()\n",
    "\n",
    "X_train, X_test, y_train, y_test = train_test_split(X, y, test_size=0.2, random_state=21)"
   ]
  },
  {
   "cell_type": "code",
   "execution_count": 41,
   "id": "6462d8e5",
   "metadata": {},
   "outputs": [
    {
     "data": {
      "application/vnd.microsoft.datawrangler.viewer.v0+json": {
       "columns": [
        {
         "name": "index",
         "rawType": "int64",
         "type": "integer"
        },
        {
         "name": "SpikePoint",
         "rawType": "int64",
         "type": "integer"
        },
        {
         "name": "ServeFault",
         "rawType": "int64",
         "type": "integer"
        },
        {
         "name": "ServePoint",
         "rawType": "int64",
         "type": "integer"
        },
        {
         "name": "ServeTotal",
         "rawType": "int64",
         "type": "integer"
        },
        {
         "name": "BlockPoint",
         "rawType": "int64",
         "type": "integer"
        },
        {
         "name": "BlockTotal",
         "rawType": "int64",
         "type": "integer"
        },
        {
         "name": "DigTotal",
         "rawType": "int64",
         "type": "integer"
        },
        {
         "name": "ReceptionFault",
         "rawType": "int64",
         "type": "integer"
        },
        {
         "name": "@PointsTeamASet1",
         "rawType": "float64",
         "type": "float"
        },
        {
         "name": "@PointsTeamBSet1",
         "rawType": "float64",
         "type": "float"
        },
        {
         "name": "@PointsTeamASet2",
         "rawType": "float64",
         "type": "float"
        },
        {
         "name": "@PointsTeamBSet2",
         "rawType": "float64",
         "type": "float"
        },
        {
         "name": "@DurationSet1",
         "rawType": "float64",
         "type": "float"
        },
        {
         "name": "@DurationSet2",
         "rawType": "float64",
         "type": "float"
        },
        {
         "name": "temperature_2m",
         "rawType": "float64",
         "type": "float"
        },
        {
         "name": "precipitation",
         "rawType": "float64",
         "type": "float"
        },
        {
         "name": "wind_speed_10m",
         "rawType": "float64",
         "type": "float"
        },
        {
         "name": "rain",
         "rawType": "float64",
         "type": "float"
        },
        {
         "name": "wind_gusts_10m",
         "rawType": "float64",
         "type": "float"
        },
        {
         "name": "TeamFault_team",
         "rawType": "float64",
         "type": "float"
        },
        {
         "name": "Team1",
         "rawType": "object",
         "type": "string"
        },
        {
         "name": "Team2",
         "rawType": "object",
         "type": "string"
        }
       ],
       "conversionMethod": "pd.DataFrame",
       "ref": "3a53027a-da86-4371-9024-92da47d7eab4",
       "rows": [
        [
         "0",
         "10",
         "3",
         "3",
         "28",
         "0",
         "0",
         "16",
         "1",
         "21.0",
         "19.0",
         "16.0",
         "21.0",
         "1078.0",
         "1084.0",
         "31.0",
         "0.0",
         "19.3",
         "0.0",
         "42.1",
         "22.0",
         "Ana Patrícia/Duda",
         "Tina/Anastasija"
        ],
        [
         "1",
         "18",
         "3",
         "4",
         "27",
         "1",
         "4",
         "5",
         "0",
         "21.0",
         "19.0",
         "16.0",
         "21.0",
         "1078.0",
         "1084.0",
         "31.0",
         "0.0",
         "19.3",
         "0.0",
         "42.1",
         "23.0",
         "Tina/Anastasija",
         "Ana Patrícia/Duda"
        ],
        [
         "2",
         "14",
         "6",
         "0",
         "21",
         "0",
         "1",
         "18",
         "3",
         "21.0",
         "19.0",
         "16.0",
         "21.0",
         "1078.0",
         "1084.0",
         "31.0",
         "0.0",
         "19.3",
         "0.0",
         "42.1",
         "23.0",
         "Tina/Anastasija",
         "Ana Patrícia/Duda"
        ],
        [
         "3",
         "20",
         "1",
         "0",
         "25",
         "2",
         "9",
         "10",
         "3",
         "21.0",
         "19.0",
         "16.0",
         "21.0",
         "1078.0",
         "1084.0",
         "31.0",
         "0.0",
         "19.3",
         "0.0",
         "42.1",
         "22.0",
         "Ana Patrícia/Duda",
         "Tina/Anastasija"
        ],
        [
         "4",
         "14",
         "3",
         "3",
         "24",
         "0",
         "3",
         "4",
         "1",
         "17.0",
         "21.0",
         "19.0",
         "21.0",
         "1177.0",
         "1042.0",
         "31.0",
         "0.0",
         "19.3",
         "0.0",
         "42.1",
         "17.0",
         "Talita/Thamela",
         "Anouk/Mäder"
        ]
       ],
       "shape": {
        "columns": 22,
        "rows": 5
       }
      },
      "text/html": [
       "<div>\n",
       "<style scoped>\n",
       "    .dataframe tbody tr th:only-of-type {\n",
       "        vertical-align: middle;\n",
       "    }\n",
       "\n",
       "    .dataframe tbody tr th {\n",
       "        vertical-align: top;\n",
       "    }\n",
       "\n",
       "    .dataframe thead th {\n",
       "        text-align: right;\n",
       "    }\n",
       "</style>\n",
       "<table border=\"1\" class=\"dataframe\">\n",
       "  <thead>\n",
       "    <tr style=\"text-align: right;\">\n",
       "      <th></th>\n",
       "      <th>SpikePoint</th>\n",
       "      <th>ServeFault</th>\n",
       "      <th>ServePoint</th>\n",
       "      <th>ServeTotal</th>\n",
       "      <th>BlockPoint</th>\n",
       "      <th>BlockTotal</th>\n",
       "      <th>DigTotal</th>\n",
       "      <th>ReceptionFault</th>\n",
       "      <th>@PointsTeamASet1</th>\n",
       "      <th>@PointsTeamBSet1</th>\n",
       "      <th>...</th>\n",
       "      <th>@DurationSet1</th>\n",
       "      <th>@DurationSet2</th>\n",
       "      <th>temperature_2m</th>\n",
       "      <th>precipitation</th>\n",
       "      <th>wind_speed_10m</th>\n",
       "      <th>rain</th>\n",
       "      <th>wind_gusts_10m</th>\n",
       "      <th>TeamFault_team</th>\n",
       "      <th>Team1</th>\n",
       "      <th>Team2</th>\n",
       "    </tr>\n",
       "  </thead>\n",
       "  <tbody>\n",
       "    <tr>\n",
       "      <th>0</th>\n",
       "      <td>10</td>\n",
       "      <td>3</td>\n",
       "      <td>3</td>\n",
       "      <td>28</td>\n",
       "      <td>0</td>\n",
       "      <td>0</td>\n",
       "      <td>16</td>\n",
       "      <td>1</td>\n",
       "      <td>21.0</td>\n",
       "      <td>19.0</td>\n",
       "      <td>...</td>\n",
       "      <td>1078.0</td>\n",
       "      <td>1084.0</td>\n",
       "      <td>31.0</td>\n",
       "      <td>0.0</td>\n",
       "      <td>19.3</td>\n",
       "      <td>0.0</td>\n",
       "      <td>42.1</td>\n",
       "      <td>22.0</td>\n",
       "      <td>Ana Patrícia/Duda</td>\n",
       "      <td>Tina/Anastasija</td>\n",
       "    </tr>\n",
       "    <tr>\n",
       "      <th>1</th>\n",
       "      <td>18</td>\n",
       "      <td>3</td>\n",
       "      <td>4</td>\n",
       "      <td>27</td>\n",
       "      <td>1</td>\n",
       "      <td>4</td>\n",
       "      <td>5</td>\n",
       "      <td>0</td>\n",
       "      <td>21.0</td>\n",
       "      <td>19.0</td>\n",
       "      <td>...</td>\n",
       "      <td>1078.0</td>\n",
       "      <td>1084.0</td>\n",
       "      <td>31.0</td>\n",
       "      <td>0.0</td>\n",
       "      <td>19.3</td>\n",
       "      <td>0.0</td>\n",
       "      <td>42.1</td>\n",
       "      <td>23.0</td>\n",
       "      <td>Tina/Anastasija</td>\n",
       "      <td>Ana Patrícia/Duda</td>\n",
       "    </tr>\n",
       "    <tr>\n",
       "      <th>2</th>\n",
       "      <td>14</td>\n",
       "      <td>6</td>\n",
       "      <td>0</td>\n",
       "      <td>21</td>\n",
       "      <td>0</td>\n",
       "      <td>1</td>\n",
       "      <td>18</td>\n",
       "      <td>3</td>\n",
       "      <td>21.0</td>\n",
       "      <td>19.0</td>\n",
       "      <td>...</td>\n",
       "      <td>1078.0</td>\n",
       "      <td>1084.0</td>\n",
       "      <td>31.0</td>\n",
       "      <td>0.0</td>\n",
       "      <td>19.3</td>\n",
       "      <td>0.0</td>\n",
       "      <td>42.1</td>\n",
       "      <td>23.0</td>\n",
       "      <td>Tina/Anastasija</td>\n",
       "      <td>Ana Patrícia/Duda</td>\n",
       "    </tr>\n",
       "    <tr>\n",
       "      <th>3</th>\n",
       "      <td>20</td>\n",
       "      <td>1</td>\n",
       "      <td>0</td>\n",
       "      <td>25</td>\n",
       "      <td>2</td>\n",
       "      <td>9</td>\n",
       "      <td>10</td>\n",
       "      <td>3</td>\n",
       "      <td>21.0</td>\n",
       "      <td>19.0</td>\n",
       "      <td>...</td>\n",
       "      <td>1078.0</td>\n",
       "      <td>1084.0</td>\n",
       "      <td>31.0</td>\n",
       "      <td>0.0</td>\n",
       "      <td>19.3</td>\n",
       "      <td>0.0</td>\n",
       "      <td>42.1</td>\n",
       "      <td>22.0</td>\n",
       "      <td>Ana Patrícia/Duda</td>\n",
       "      <td>Tina/Anastasija</td>\n",
       "    </tr>\n",
       "    <tr>\n",
       "      <th>4</th>\n",
       "      <td>14</td>\n",
       "      <td>3</td>\n",
       "      <td>3</td>\n",
       "      <td>24</td>\n",
       "      <td>0</td>\n",
       "      <td>3</td>\n",
       "      <td>4</td>\n",
       "      <td>1</td>\n",
       "      <td>17.0</td>\n",
       "      <td>21.0</td>\n",
       "      <td>...</td>\n",
       "      <td>1177.0</td>\n",
       "      <td>1042.0</td>\n",
       "      <td>31.0</td>\n",
       "      <td>0.0</td>\n",
       "      <td>19.3</td>\n",
       "      <td>0.0</td>\n",
       "      <td>42.1</td>\n",
       "      <td>17.0</td>\n",
       "      <td>Talita/Thamela</td>\n",
       "      <td>Anouk/Mäder</td>\n",
       "    </tr>\n",
       "  </tbody>\n",
       "</table>\n",
       "<p>5 rows × 22 columns</p>\n",
       "</div>"
      ],
      "text/plain": [
       "   SpikePoint  ServeFault  ServePoint  ServeTotal  BlockPoint  BlockTotal  \\\n",
       "0          10           3           3          28           0           0   \n",
       "1          18           3           4          27           1           4   \n",
       "2          14           6           0          21           0           1   \n",
       "3          20           1           0          25           2           9   \n",
       "4          14           3           3          24           0           3   \n",
       "\n",
       "   DigTotal  ReceptionFault  @PointsTeamASet1  @PointsTeamBSet1  ...  \\\n",
       "0        16               1              21.0              19.0  ...   \n",
       "1         5               0              21.0              19.0  ...   \n",
       "2        18               3              21.0              19.0  ...   \n",
       "3        10               3              21.0              19.0  ...   \n",
       "4         4               1              17.0              21.0  ...   \n",
       "\n",
       "   @DurationSet1  @DurationSet2  temperature_2m  precipitation  \\\n",
       "0         1078.0         1084.0            31.0            0.0   \n",
       "1         1078.0         1084.0            31.0            0.0   \n",
       "2         1078.0         1084.0            31.0            0.0   \n",
       "3         1078.0         1084.0            31.0            0.0   \n",
       "4         1177.0         1042.0            31.0            0.0   \n",
       "\n",
       "   wind_speed_10m  rain  wind_gusts_10m  TeamFault_team              Team1  \\\n",
       "0            19.3   0.0            42.1            22.0  Ana Patrícia/Duda   \n",
       "1            19.3   0.0            42.1            23.0    Tina/Anastasija   \n",
       "2            19.3   0.0            42.1            23.0    Tina/Anastasija   \n",
       "3            19.3   0.0            42.1            22.0  Ana Patrícia/Duda   \n",
       "4            19.3   0.0            42.1            17.0     Talita/Thamela   \n",
       "\n",
       "               Team2  \n",
       "0    Tina/Anastasija  \n",
       "1  Ana Patrícia/Duda  \n",
       "2  Ana Patrícia/Duda  \n",
       "3    Tina/Anastasija  \n",
       "4        Anouk/Mäder  \n",
       "\n",
       "[5 rows x 22 columns]"
      ]
     },
     "execution_count": 41,
     "metadata": {},
     "output_type": "execute_result"
    }
   ],
   "source": [
    "X.head()"
   ]
  },
  {
   "cell_type": "code",
   "execution_count": 33,
   "id": "7137fa35",
   "metadata": {},
   "outputs": [],
   "source": [
    "# select categorical and numerical column names\n",
    "nominal_features = X.select_dtypes(include=['object']).columns.tolist()\n",
    "# Define feature types\n",
    "numeric_features = X.select_dtypes(include=['int64', 'float64']).columns.tolist()\n",
    "\n",
    "# Create preprocessors for different feature types\n",
    "numeric_transformer = Pipeline(steps=[\n",
    "    ('imputer', KNNImputer(n_neighbors=5)),\n",
    "    ('scaler', StandardScaler())\n",
    "])\n",
    "\n",
    "nominal_transformer = Pipeline(steps=[\n",
    "    ('imputer', SimpleImputer(strategy='most_frequent')),\n",
    "    ('onehot', OneHotEncoder(handle_unknown='ignore', sparse_output=False))\n",
    "])\n",
    "\n",
    "# Build the column transformer\n",
    "transformers = [\n",
    "    ('num', numeric_transformer, numeric_features),\n",
    "    ('nom', nominal_transformer, nominal_features)\n",
    "]\n",
    "\n",
    "preprocessor = ColumnTransformer(transformers=transformers)"
   ]
  },
  {
   "cell_type": "code",
   "execution_count": 36,
   "id": "be9b76a2",
   "metadata": {},
   "outputs": [],
   "source": [
    "from sklearn.metrics import r2_score, mean_absolute_error, root_mean_squared_error, mean_absolute_percentage_error\n",
    "\n",
    "model_scores = []\n",
    "def score_model(model_name, y_true, y_pred):\n",
    "  scores = {\n",
    "      'Model': model_name,\n",
    "      'MAE ($)': round(mean_absolute_error(y_true, y_pred), 2),\n",
    "      'RMSE ($)': round(root_mean_squared_error(y_true, y_pred), 2),\n",
    "      'MAPE (%)': round(100 * mean_absolute_percentage_error(y_true, y_pred), 2),\n",
    "      'R-Squared': round(r2_score(y_true, y_pred), 3)\n",
    "  }\n",
    "  return scores"
   ]
  },
  {
   "cell_type": "code",
   "execution_count": 37,
   "id": "ef19f01d",
   "metadata": {},
   "outputs": [
    {
     "data": {
      "application/vnd.microsoft.datawrangler.viewer.v0+json": {
       "columns": [
        {
         "name": "index",
         "rawType": "int64",
         "type": "integer"
        },
        {
         "name": "Model",
         "rawType": "object",
         "type": "string"
        },
        {
         "name": "MAE ($)",
         "rawType": "float64",
         "type": "float"
        },
        {
         "name": "RMSE ($)",
         "rawType": "float64",
         "type": "float"
        },
        {
         "name": "MAPE (%)",
         "rawType": "float64",
         "type": "float"
        },
        {
         "name": "R-Squared",
         "rawType": "float64",
         "type": "float"
        }
       ],
       "conversionMethod": "pd.DataFrame",
       "ref": "f867ad12-f3d5-4f3e-af55-97b08b1083ef",
       "rows": [
        [
         "0",
         "GradientBoostigRegressor",
         "1.82",
         "2.32",
         "9.11129740919686e+16",
         "0.186"
        ]
       ],
       "shape": {
        "columns": 5,
        "rows": 1
       }
      },
      "text/html": [
       "<div>\n",
       "<style scoped>\n",
       "    .dataframe tbody tr th:only-of-type {\n",
       "        vertical-align: middle;\n",
       "    }\n",
       "\n",
       "    .dataframe tbody tr th {\n",
       "        vertical-align: top;\n",
       "    }\n",
       "\n",
       "    .dataframe thead th {\n",
       "        text-align: right;\n",
       "    }\n",
       "</style>\n",
       "<table border=\"1\" class=\"dataframe\">\n",
       "  <thead>\n",
       "    <tr style=\"text-align: right;\">\n",
       "      <th></th>\n",
       "      <th>Model</th>\n",
       "      <th>MAE ($)</th>\n",
       "      <th>RMSE ($)</th>\n",
       "      <th>MAPE (%)</th>\n",
       "      <th>R-Squared</th>\n",
       "    </tr>\n",
       "  </thead>\n",
       "  <tbody>\n",
       "    <tr>\n",
       "      <th>0</th>\n",
       "      <td>GradientBoostigRegressor</td>\n",
       "      <td>1.82</td>\n",
       "      <td>2.32</td>\n",
       "      <td>9.111297e+16</td>\n",
       "      <td>0.186</td>\n",
       "    </tr>\n",
       "  </tbody>\n",
       "</table>\n",
       "</div>"
      ],
      "text/plain": [
       "                      Model  MAE ($)  RMSE ($)      MAPE (%)  R-Squared\n",
       "0  GradientBoostigRegressor     1.82      2.32  9.111297e+16      0.186"
      ]
     },
     "execution_count": 37,
     "metadata": {},
     "output_type": "execute_result"
    }
   ],
   "source": [
    "from sklearn.ensemble import GradientBoostingRegressor\n",
    "gbr_pipeline = make_pipeline(preprocessor,\n",
    "                             RobustScaler(),\n",
    "                             GradientBoostingRegressor())\n",
    "\n",
    "gbr_pipeline.fit(X_train, y_train)\n",
    "\n",
    "gbr_predictions = gbr_pipeline.predict(X_test)\n",
    "\n",
    "model_scores.append(score_model('GradientBoostigRegressor', y_test, gbr_predictions))\n",
    "pd.DataFrame(model_scores)"
   ]
  },
  {
   "cell_type": "code",
   "execution_count": 40,
   "id": "38ef3d96",
   "metadata": {},
   "outputs": [
    {
     "data": {
      "application/vnd.microsoft.datawrangler.viewer.v0+json": {
       "columns": [
        {
         "name": "index",
         "rawType": "int64",
         "type": "integer"
        },
        {
         "name": "Model",
         "rawType": "object",
         "type": "string"
        },
        {
         "name": "MAE ($)",
         "rawType": "float64",
         "type": "float"
        },
        {
         "name": "RMSE ($)",
         "rawType": "float64",
         "type": "float"
        },
        {
         "name": "MAPE (%)",
         "rawType": "float64",
         "type": "float"
        },
        {
         "name": "R-Squared",
         "rawType": "float64",
         "type": "float"
        }
       ],
       "conversionMethod": "pd.DataFrame",
       "ref": "9d8d4122-e701-4332-87b5-10a4f54914c0",
       "rows": [
        [
         "0",
         "GradientBoostigRegressor",
         "1.82",
         "2.32",
         "9.11129740919686e+16",
         "0.186"
        ],
        [
         "1",
         "RandomForest",
         "1.79",
         "2.31",
         "7.512124426920498e+16",
         "0.195"
        ],
        [
         "2",
         "RandomForest",
         "1.79",
         "2.32",
         "7.591767377394522e+16",
         "0.192"
        ]
       ],
       "shape": {
        "columns": 5,
        "rows": 3
       }
      },
      "text/html": [
       "<div>\n",
       "<style scoped>\n",
       "    .dataframe tbody tr th:only-of-type {\n",
       "        vertical-align: middle;\n",
       "    }\n",
       "\n",
       "    .dataframe tbody tr th {\n",
       "        vertical-align: top;\n",
       "    }\n",
       "\n",
       "    .dataframe thead th {\n",
       "        text-align: right;\n",
       "    }\n",
       "</style>\n",
       "<table border=\"1\" class=\"dataframe\">\n",
       "  <thead>\n",
       "    <tr style=\"text-align: right;\">\n",
       "      <th></th>\n",
       "      <th>Model</th>\n",
       "      <th>MAE ($)</th>\n",
       "      <th>RMSE ($)</th>\n",
       "      <th>MAPE (%)</th>\n",
       "      <th>R-Squared</th>\n",
       "    </tr>\n",
       "  </thead>\n",
       "  <tbody>\n",
       "    <tr>\n",
       "      <th>0</th>\n",
       "      <td>GradientBoostigRegressor</td>\n",
       "      <td>1.82</td>\n",
       "      <td>2.32</td>\n",
       "      <td>9.111297e+16</td>\n",
       "      <td>0.186</td>\n",
       "    </tr>\n",
       "    <tr>\n",
       "      <th>1</th>\n",
       "      <td>RandomForest</td>\n",
       "      <td>1.79</td>\n",
       "      <td>2.31</td>\n",
       "      <td>7.512124e+16</td>\n",
       "      <td>0.195</td>\n",
       "    </tr>\n",
       "    <tr>\n",
       "      <th>2</th>\n",
       "      <td>RandomForest</td>\n",
       "      <td>1.79</td>\n",
       "      <td>2.32</td>\n",
       "      <td>7.591767e+16</td>\n",
       "      <td>0.192</td>\n",
       "    </tr>\n",
       "  </tbody>\n",
       "</table>\n",
       "</div>"
      ],
      "text/plain": [
       "                      Model  MAE ($)  RMSE ($)      MAPE (%)  R-Squared\n",
       "0  GradientBoostigRegressor     1.82      2.32  9.111297e+16      0.186\n",
       "1              RandomForest     1.79      2.31  7.512124e+16      0.195\n",
       "2              RandomForest     1.79      2.32  7.591767e+16      0.192"
      ]
     },
     "execution_count": 40,
     "metadata": {},
     "output_type": "execute_result"
    }
   ],
   "source": [
    "from sklearn.ensemble import RandomForestRegressor\n",
    "rf_pipeline = make_pipeline(preprocessor,\n",
    "                             RandomForestRegressor())\n",
    "\n",
    "rf_pipeline.fit(X_train, y_train)\n",
    "\n",
    "rf_predictions = rf_pipeline.predict(X_test)\n",
    "\n",
    "model_scores.append(score_model('RandomForest', y_test, rf_predictions))\n",
    "pd.DataFrame(model_scores)"
   ]
  }
 ],
 "metadata": {
  "kernelspec": {
   "display_name": ".venv",
   "language": "python",
   "name": "python3"
  },
  "language_info": {
   "codemirror_mode": {
    "name": "ipython",
    "version": 3
   },
   "file_extension": ".py",
   "mimetype": "text/x-python",
   "name": "python",
   "nbconvert_exporter": "python",
   "pygments_lexer": "ipython3",
   "version": "3.13.1"
  }
 },
 "nbformat": 4,
 "nbformat_minor": 5
}
