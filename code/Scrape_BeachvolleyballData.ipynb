{
 "cells": [
  {
   "cell_type": "markdown",
   "id": "43113c7e",
   "metadata": {},
   "source": [
    "# Scraping the Beachvolleyball Data from fivb-vis"
   ]
  },
  {
   "cell_type": "code",
   "execution_count": 1,
   "id": "9329bfae",
   "metadata": {},
   "outputs": [],
   "source": [
    "import xmltodict\n",
    "from fivbvis import Beach\n",
    "import requests\n",
    "from fivbvis import Article\n",
    "import pandas as pd\n",
    "from fivbvis import Player\n",
    "import xml.etree.ElementTree as ET\n",
    "import urllib.parse"
   ]
  },
  {
   "cell_type": "markdown",
   "id": "c037f148",
   "metadata": {},
   "source": [
    "### List of Beachvolleyball Matches"
   ]
  },
  {
   "cell_type": "code",
   "execution_count": 7,
   "id": "9e3cd13b",
   "metadata": {},
   "outputs": [],
   "source": [
    "def process_BeachMatchList():\n",
    "    b = Beach()\n",
    "    BeachMatchList = b.getBeachMatchList(fields=\"NoInTournament NoTournament LocalDate LocalTime TeamAName TeamBName Court MatchPointsA MatchPointsB PointsTeamASet1 PointsTeamBSet1 PointsTeamASet2 PointsTeamBSet2 PointsTeamASet3 PointsTeamBSet3 DurationSet1 DurationSet2 DurationSet3 NoPlayerA1 NoPlayerA2 NoPlayerB1 NoPlayerB2\",\n",
    "                                     )\n",
    "    MatchList_dict = xmltodict.parse(BeachMatchList)\n",
    "    beachMatch_list_df = pd.DataFrame(MatchList_dict['BeachMatches']['BeachMatch'])\n",
    "    beachMatch_list_df.to_csv('BeachMatchList_full.csv', index=False, sep=';', quoting=1, encoding='UTF-8')\n",
    "    return beachMatch_list_df\n"
   ]
  },
  {
   "cell_type": "code",
   "execution_count": 8,
   "id": "c61d4593",
   "metadata": {},
   "outputs": [],
   "source": [
    "test = process_BeachMatchList()"
   ]
  },
  {
   "cell_type": "markdown",
   "id": "aee14348",
   "metadata": {},
   "source": [
    "### Beachvolleyball Tournaments"
   ]
  },
  {
   "cell_type": "code",
   "execution_count": 11,
   "id": "63350e73",
   "metadata": {},
   "outputs": [],
   "source": [
    "def getBeachTournament2(self, no, fields=None, content_type='xml'):\n",
    "    result = self.fivb_vis.get('GetBeachTournament', no, fields, content_type)\n",
    "    return result\n",
    "\n",
    "#zuweisen\n",
    "b = Beach()\n",
    "b.getBeachTournament = getBeachTournament2"
   ]
  },
  {
   "cell_type": "code",
   "execution_count": 13,
   "id": "f4072597",
   "metadata": {},
   "outputs": [],
   "source": [
    "def process_tournaments(tournament_nos):\n",
    "    tournament_list = []\n",
    "\n",
    "    for no in tournament_nos:\n",
    "        try:\n",
    "            # API-Abfrage\n",
    "            response = b.getBeachTournament(self=b, no=no, fields='')\n",
    "            tournament_data = xmltodict.parse(response)\n",
    "\n",
    "            # Extrahiere Attribute und entferne das @\n",
    "            data = tournament_data['BeachTournament']\n",
    "            clean_data = {k.lstrip(\"@\"): v for k, v in data.items()}\n",
    "\n",
    "            # Zur Gesamtliste hinzufügen\n",
    "            tournament_list.append(clean_data)\n",
    "\n",
    "        except Exception as e:\n",
    "            print(f\"Fehler bei Turnier-Nr. {no}: {e}\")\n",
    "\n",
    "    # Alles in einen DataFrame packen\n",
    "    df = pd.DataFrame(tournament_list)"
   ]
  },
  {
   "cell_type": "code",
   "execution_count": null,
   "id": "38f70c25",
   "metadata": {},
   "outputs": [],
   "source": [
    "# Extract numbers of tournaments\n",
    "\n",
    "tournament_nos = list(test['@NoTournament'].unique())\n",
    "Tournaments_data = process_tournaments(tournament_nos)"
   ]
  },
  {
   "cell_type": "markdown",
   "id": "c131868c",
   "metadata": {},
   "source": [
    "### Beachvolleyball Statistic Data"
   ]
  },
  {
   "cell_type": "code",
   "execution_count": null,
   "id": "e2ddf0c9",
   "metadata": {},
   "outputs": [],
   "source": [
    "def process_tournament_statistics(tournament_no):\n",
    "    # Define the API endpoint\n",
    "    endpoint = \"https://www.fivb.org/vis2009/XmlRequest.asmx\"\n",
    "\n",
    "    # Step i: Get a list of all matches in the tournament\n",
    "    GetMatchRequest = f\"\"\"\n",
    "    <Request Type=\"GetBeachMatchList\" Fields=\"NoInTournament LocalDate LocalTime TeamAName TeamBName Court MatchPointsA MatchPointsB PointsTeamASet1 PointsTeamBSet1 PointsTeamASet2 PointsTeamBSet2 PointsTeamASet3 PointsTeamBSet3 DurationSet1 DurationSet2 DurationSet3\">\n",
    "        <Filter NoTournament=\"{tournament_no}\" InMainDraw=\"true\"/>\n",
    "    </Request>\n",
    "    \"\"\"\n",
    "    encoded_request = urllib.parse.quote(GetMatchRequest)\n",
    "    url = f\"{endpoint}?Request={encoded_request}\"\n",
    "    response = requests.get(url)\n",
    "\n",
    "    if response.status_code != 200:\n",
    "        print(f\"Failed to fetch matches. HTTP Status Code: {response.status_code}\")\n",
    "        return None\n",
    "\n",
    "    root = ET.fromstring(response.text)\n",
    "    matches = []\n",
    "    column_names = []\n",
    "    first_match = root.find(\".//BeachMatch\")\n",
    "    if first_match is not None:\n",
    "        column_names = list(first_match.attrib.keys())\n",
    "        for match in root.findall(\".//BeachMatch\"):\n",
    "            row = {col: match.attrib.get(col, \"\") for col in column_names}\n",
    "            matches.append(row)\n",
    "    else:\n",
    "        print(\"No matches found in the tournament.\")\n",
    "        return None\n",
    "\n",
    "    matches_df = pd.DataFrame(matches)\n",
    "\n",
    "    # Step ii: Get statistics for all matches\n",
    "    match_statistics = []\n",
    "    for match_no in matches_df[\"No\"].unique():\n",
    "        MatchStatisticRequest = f\"\"\"\n",
    "        <Requests>\n",
    "            <Request Type='GetBeachStatisticList' Fields='ItemType NoItem NoSet SpikeFault SpikePoint ServeFault ServePoint'>\n",
    "                <Filter Type='VolleyStatisticFilter' NoMatches='{match_no}' />\n",
    "            </Request>\n",
    "        </Requests>\n",
    "        \"\"\"\n",
    "        encoded_request = urllib.parse.quote(MatchStatisticRequest)\n",
    "        url = f\"{endpoint}?Request={encoded_request}\"\n",
    "        response = requests.get(url)\n",
    "\n",
    "        if response.status_code != 200:\n",
    "            print(f\"Failed to fetch statistics for match {match_no}. HTTP Status Code: {response.status_code}\")\n",
    "            continue\n",
    "\n",
    "        root = ET.fromstring(response.text)\n",
    "        first_stat = root.find(\".//VolleyStatistic\")\n",
    "        if first_stat is not None:\n",
    "            stat_columns = list(first_stat.attrib.keys())\n",
    "            for stat in root.findall(\".//VolleyStatistic\"):\n",
    "                row = {col: stat.attrib.get(col, \"\") for col in stat_columns}\n",
    "                match_statistics.append(row)\n",
    "\n",
    "    statistics_df = pd.DataFrame(match_statistics)\n",
    "\n",
    "    # Step iii: Retrieve a list of all players and teams\n",
    "    unique_items = statistics_df[\"NoItem\"].unique()\n",
    "    players_teams = []\n",
    "    for item_no in unique_items:\n",
    "        GetPlayerRequest = f\"\"\"\n",
    "        <Request Type=\"GetPlayer\" No=\"{item_no}\" Fields=\"FederationCode FirstName Gender LastName Nationality PlaysBeach PlaysVolley TeamName\" />\n",
    "        \"\"\"\n",
    "        encoded_request = urllib.parse.quote(GetPlayerRequest)\n",
    "        url = f\"{endpoint}?Request={encoded_request}\"\n",
    "        response = requests.get(url)\n",
    "\n",
    "        if response.status_code == 200:\n",
    "            root = ET.fromstring(response.text)\n",
    "            if root.attrib:\n",
    "                players_teams.append(root.attrib)\n",
    "        else:\n",
    "            GetTeamRequest = f\"\"\"\n",
    "            <Request Type=\"GetBeachTeam\" No=\"{item_no}\" Fields=\"NoPlayer1 NoPlayer2 Name Rank EarnedPointsTeam\" />\n",
    "            \"\"\"\n",
    "            encoded_request = urllib.parse.quote(GetTeamRequest)\n",
    "            url = f\"{endpoint}?Request={encoded_request}\"\n",
    "            response = requests.get(url)\n",
    "\n",
    "            if response.status_code == 200:\n",
    "                root = ET.fromstring(response.text)\n",
    "                if root.attrib:\n",
    "                    players_teams.append(root.attrib)\n",
    "\n",
    "    players_teams_df = pd.DataFrame(players_teams)\n",
    "\n",
    "    # Step iv: Match the player/team dataframe to the statistics dataframe\n",
    "    merged_df = statistics_df.merge(players_teams_df, left_on=\"NoItem\", right_on=\"No\", how=\"left\")\n",
    "\n",
    "    return merged_df\n",
    "\n",
    "tournament_statistics = process_tournament_statistics(7565)\n",
    "print(tournament_statistics)\n",
    "if tournament_statistics is not None:\n",
    "    # Write the DataFrame to a CSV file\n",
    "    tournament_statistics.to_csv(\"tournament_statistics.csv\", index=False, sep=\"\\t\", quoting=1)  # quoting=1 ensures fields are enclosed in quotes\n",
    "    print(\"Tournament statistics saved to 'tournament_statistics.csv'.\")\n",
    "else:\n",
    "    print(\"No tournament statistics to save.\")"
   ]
  },
  {
   "cell_type": "markdown",
   "id": "5c0084e4",
   "metadata": {},
   "source": [
    "### Data of Beachvolleyball Player"
   ]
  },
  {
   "cell_type": "code",
   "execution_count": null,
   "id": "988a392d",
   "metadata": {},
   "outputs": [],
   "source": [
    "#anpassen woher daten id für player kommen"
   ]
  },
  {
   "cell_type": "code",
   "execution_count": null,
   "id": "09c0357a",
   "metadata": {},
   "outputs": [],
   "source": [
    "def process_BeachTeams():\n",
    "    data_player_list = b.getBeachTeamList(self=b, fields = 'NoPlayer1 Player1TeamName NoPlayer2 Player2TeamName TournamentName TournamentEndDateMainDraw TournamentType Rank EarnedPointsTeam EarningsTotalTeam')\n",
    "    player_list_dict = xmltodict.parse(data_player_list)\n",
    "    player_list_df = pd.DataFrame(player_list_dict['BeachTeams']['BeachTeam'])\n",
    "    return player_list_df"
   ]
  },
  {
   "cell_type": "code",
   "execution_count": null,
   "id": "a1539237",
   "metadata": {},
   "outputs": [],
   "source": [
    "player_list_df = process_BeachTeams()"
   ]
  },
  {
   "cell_type": "code",
   "execution_count": null,
   "id": "e56c4192",
   "metadata": {},
   "outputs": [],
   "source": [
    "#Extract numbers of players\n",
    "\n",
    "#Player 1\n",
    "player1_list = player_list_df[(player_list_df['@NoPlayer1'].astype(str).str.len()>3)]\n",
    "player1_list1 = player1_list[['@NoPlayer1','@Player1TeamName']].drop_duplicates()\n",
    "\n",
    "#Player 2\n",
    "player2_list = player_list_df[(player_list_df['@NoPlayer2'].astype(str).str.len()>3)]\n",
    "player2_list2 = player2_list[['@NoPlayer2','@Player2TeamName']].drop_duplicates()\n",
    "\n",
    "player_list_df2_test_err = player_list_df[(player_list_df['@NoPlayer2'].astype(str).str.len()<3)]\n",
    "player_list_df2_test_err['@NoPlayer2'].unique()\n",
    "\n",
    "player1_df = player1_list1[['@NoPlayer1', '@Player1TeamName']].rename(\n",
    "    columns={'@NoPlayer1': 'PlayerId', '@Player1TeamName': 'PlayerName'}\n",
    ")\n",
    "\n",
    "player2_df = player2_list2[['@NoPlayer2', '@Player2TeamName']].rename(\n",
    "    columns={'@NoPlayer2': 'PlayerId', '@Player2TeamName': 'PlayerName'}\n",
    ")\n",
    "\n",
    "player_list_unique = pd.concat([player1_df, player2_df], ignore_index=True).astype(str).drop_duplicates()\n",
    "\n",
    "\n",
    "# CSV schreiben. Liste enthält nur ID und Nachname unique\n",
    "# player_list_unique.to_csv('player_list_NO_Name.csv', index=False, sep=';', quoting=1, encoding='UTF-8')\n",
    "\n",
    "# # CSV schreiben: kompletter datensatz mit allen variablen\n",
    "# player_list_df.to_csv('player_list.csv', index=False, sep=';', quoting=1, encoding='UTF-8')"
   ]
  },
  {
   "cell_type": "code",
   "execution_count": null,
   "id": "99424c33",
   "metadata": {},
   "outputs": [],
   "source": [
    "def process_PlayerInfo(no):\n",
    "    player = Player()\n",
    "    Player_full_list = []\n",
    "    for playerNo in player_list_unique['ModeNoPlayer2']:\n",
    "        print(playerNo)\n",
    "        Info = player.getPlayerInfo(no=playerNo,\n",
    "                                 fields='FederationCode FirstName Gender LastName Nationality PlaysBeach PlaysVolley TeamName Height BeachCurrentTeam BeachHighBlock BeachHighJump BeachPosition BeachRetiredDate BeachYearBegin Birthdate Handedness PlayerStatus PlayerType')\n",
    "        Info_dict = xmltodict.parse(Info)\n",
    "        list_info = pd.json_normalize(Info_dict)\n",
    "        Player_full_list.append(list_info)\n",
    "    Player_full_df = pd.concat(Player_full_list, ignore_index=True)\n",
    "    return Player_full_df\n",
    "\n"
   ]
  }
 ],
 "metadata": {
  "kernelspec": {
   "display_name": ".venv",
   "language": "python",
   "name": "python3"
  },
  "language_info": {
   "codemirror_mode": {
    "name": "ipython",
    "version": 3
   },
   "file_extension": ".py",
   "mimetype": "text/x-python",
   "name": "python",
   "nbconvert_exporter": "python",
   "pygments_lexer": "ipython3",
   "version": "3.13.1"
  }
 },
 "nbformat": 4,
 "nbformat_minor": 5
}
