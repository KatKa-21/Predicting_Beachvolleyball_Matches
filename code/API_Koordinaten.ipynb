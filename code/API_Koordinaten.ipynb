{
 "cells": [
  {
   "cell_type": "markdown",
   "id": "242ad842",
   "metadata": {},
   "source": [
    "## Verwendung der OpenCage - API\n",
    "\n",
    "Ziel ist es mit Hilfe von Ortsnamen, die jeweiligen Koordinaten zu erhalten (forward geocoding)"
   ]
  },
  {
   "cell_type": "code",
   "execution_count": null,
   "id": "9f9e03bc",
   "metadata": {},
   "outputs": [],
   "source": [
    "#API_opencage = '5eebd8503f3341e59f5de1a26fae7457'"
   ]
  },
  {
   "cell_type": "code",
   "execution_count": 33,
   "id": "3bc256cd",
   "metadata": {},
   "outputs": [],
   "source": [
    "from opencage.geocoder import OpenCageGeocode\n",
    "from pprint import pprint\n",
    "import pandas as pd\n",
    "import os\n",
    "import geopy\n",
    "from geopy.geocoders import Nominatim"
   ]
  },
  {
   "cell_type": "markdown",
   "id": "fdf0bbe5",
   "metadata": {},
   "source": [
    "## Bisherigen Datenbestand einlesen"
   ]
  },
  {
   "cell_type": "code",
   "execution_count": null,
   "id": "f931474e",
   "metadata": {},
   "outputs": [
    {
     "name": "stdout",
     "output_type": "stream",
     "text": [
      "C:\\Users\\Katharina\\Desktop\\Weiterbildung\\Bootcamp\\Bootcamp\\Final_project\\data\n"
     ]
    }
   ],
   "source": [
    "os.chdir('C:/Users/Katharina/Desktop/Weiterbildung/Bootcamp/Bootcamp/Final_project/data')"
   ]
  },
  {
   "cell_type": "code",
   "execution_count": 35,
   "id": "f98a8e0b",
   "metadata": {},
   "outputs": [
    {
     "name": "stderr",
     "output_type": "stream",
     "text": [
      "C:\\Users\\Katharina\\AppData\\Local\\Temp\\ipykernel_14464\\798527335.py:1: DtypeWarning: Columns (1,10,13,14,21,49,51,59,101) have mixed types. Specify dtype option on import or set low_memory=False.\n",
      "  Database = pd.read_csv('Datenbestand_Final1.csv', sep=';')\n"
     ]
    }
   ],
   "source": [
    "Database = pd.read_csv('Datenbestand_Final1.csv', sep=';')"
   ]
  },
  {
   "cell_type": "code",
   "execution_count": 37,
   "id": "c3eac5cc",
   "metadata": {},
   "outputs": [],
   "source": [
    "#Id anfügen\n",
    "Database['ID_row'] = range(1, len(Database) +1)\n",
    "Database['ID_DefaultCity'] = Database['DefaultCity'].astype('category').cat.codes\n"
   ]
  },
  {
   "cell_type": "code",
   "execution_count": 38,
   "id": "5a3dc70c",
   "metadata": {},
   "outputs": [],
   "source": [
    "Database.to_csv('Daten_mit_IDs.csv', index=False, sep=';')"
   ]
  },
  {
   "cell_type": "code",
   "execution_count": null,
   "id": "7613dddb",
   "metadata": {},
   "outputs": [],
   "source": [
    "#use list with unique locations\n",
    "Orte = Database[['DefaultCity', 'ID_DefaultCity', 'CountryName']]\n",
    "Orte_unique = Orte.drop_duplicates(subset=['DefaultCity']).copy()\n",
    "\n",
    "Orte_unique.loc[:, 'Koord_Name'] = Orte_unique['DefaultCity'] + ', ' + Orte_unique['CountryName']"
   ]
  },
  {
   "cell_type": "code",
   "execution_count": null,
   "id": "618584e8",
   "metadata": {},
   "outputs": [],
   "source": [
    "geolocator = Nominatim(user_agent=\"my_app\")\n",
    "\n",
    "from geopy.extra.rate_limiter import RateLimiter\n",
    "geocode = RateLimiter(geolocator.geocode, min_delay_seconds=1)\n",
    "Orte_unique['location'] = Orte_unique['Koord_Name'].apply(geocode)\n",
    "\n",
    "Orte_unique['point'] = Orte_unique['location'].apply(lambda loc: tuple(loc.point) if loc else None)"
   ]
  },
  {
   "cell_type": "code",
   "execution_count": null,
   "id": "cc30f729",
   "metadata": {},
   "outputs": [],
   "source": [
    "#Mergen mit ID_DefaultCity\n",
    "\n",
    "Data_Kom1 = Database.merge( Orte_unique.iloc[:, [1, 4, 5]], left_on='ID_DefaultCity', right_on='ID_DefaultCity', how='left')\n"
   ]
  },
  {
   "cell_type": "code",
   "execution_count": 42,
   "id": "44d449da",
   "metadata": {},
   "outputs": [],
   "source": [
    "#orte mit Koordinaten erstmal abspeichern\n",
    "\n",
    "Orte_unique.to_csv('Orte_mit_Koordinaten.csv', index=False, sep=';')"
   ]
  },
  {
   "cell_type": "markdown",
   "id": "0543761c",
   "metadata": {},
   "source": [
    "#### Data cleaning bevor Koordinaten berechnen"
   ]
  },
  {
   "cell_type": "markdown",
   "id": "4ca242e6",
   "metadata": {},
   "source": [
    "#####  als erstes mit Koordinaten Unterschied zu utc berechnen"
   ]
  },
  {
   "cell_type": "code",
   "execution_count": null,
   "id": "5eaa3893",
   "metadata": {},
   "outputs": [],
   "source": [
    "DatU = Data_Kom1[['CountryName', 'DefaultTimeZone', 'DefaultCity', 'point', 'ID_DefaultCity']].drop_duplicates()\n",
    "DatU2 = DatU.copy()\n",
    "DatU2['point'] = DatU2['point'].astype(str)"
   ]
  },
  {
   "cell_type": "code",
   "execution_count": null,
   "id": "efe061a4",
   "metadata": {},
   "outputs": [],
   "source": [
    "DatU2[['latitude', 'longitude']] = (\n",
    "    DatU2['point']\n",
    "    .str.strip('()')  # Klammern entfernen\n",
    "    .str.split(',', expand=True)  # in 3 Teile splitten\n",
    "    .iloc[:, :2]  # nur die ersten 2 Spalten behalten\n",
    "    #.apply(lambda x: x.astype(float))  # in float umwandeln\n",
    ").copy()"
   ]
  },
  {
   "cell_type": "code",
   "execution_count": null,
   "id": "51dbab0e",
   "metadata": {},
   "outputs": [],
   "source": [
    "DatU2 = DatU2.dropna()\n",
    "DatU2['latitude'] = DatU2['latitude'].astype(float)\n",
    "DatU2['longitude'] = DatU2['longitude'].astype(float)"
   ]
  },
  {
   "cell_type": "code",
   "execution_count": null,
   "id": "782a7507",
   "metadata": {},
   "outputs": [],
   "source": [
    "Koordinates = DatU2.iloc[:,[5,6]]"
   ]
  },
  {
   "cell_type": "code",
   "execution_count": null,
   "id": "f72078fc",
   "metadata": {},
   "outputs": [],
   "source": [
    "import pandas as pd\n",
    "from timezonefinder import TimezoneFinder\n",
    "import pytz\n",
    "from datetime import datetime\n",
    "\n",
    "\n",
    "#Diese Funktion ergänzt zwei Spalten: timezone und UTC_offset_hours in Stunden\n",
    "\n",
    "\n",
    "\n",
    "def add_timezone_and_offset(df, lat_col='latitude', lon_col='longitude'):\n",
    "\n",
    "    tf = TimezoneFinder()\n",
    "    \n",
    "    timezones = []\n",
    "    utc_offsets = []\n",
    "    \n",
    "    for index, row in df.iterrows():\n",
    "        lat = row[lat_col]\n",
    "        lon = row[lon_col]\n",
    "        \n",
    "        # Ermittle den Zeitzonennamen anhand von Breiten- und Längengrad\n",
    "        tz_str = tf.timezone_at(lat=lat, lng=lon)\n",
    "        \n",
    "        if tz_str is None:\n",
    "            timezones.append(None)\n",
    "            utc_offsets.append(None)\n",
    "        else:\n",
    "            timezones.append(tz_str)\n",
    "            # Erzeuge ein pytz-Zeitzonenobjekt\n",
    "            tz = pytz.timezone(tz_str)\n",
    "            # Erhalte das aktuelle Datum und die Zeit in der ermittelten Zeitzone\n",
    "            now = datetime.now(tz)\n",
    "            offset = now.utcoffset()\n",
    "            offset_hours = offset.total_seconds() / 3600 if offset is not None else None\n",
    "            utc_offsets.append(offset_hours)\n",
    "\n",
    "    # Füge die ermittelten Daten als neue Spalten hinzu\n",
    "    df['timezone'] = timezones\n",
    "    df['UTC_offset_hours'] = utc_offsets\n",
    "    \n",
    "    return df\n"
   ]
  },
  {
   "cell_type": "code",
   "execution_count": null,
   "id": "636c7ece",
   "metadata": {},
   "outputs": [],
   "source": [
    "DatAdd = add_timezone_and_offset(Koordinates)"
   ]
  },
  {
   "cell_type": "code",
   "execution_count": null,
   "id": "e86e2314",
   "metadata": {},
   "outputs": [],
   "source": [
    "dat1 = DatU2.merge(DatAdd, left_on=['latitude', 'longitude'], right_on=['latitude', 'longitude'], how='inner')\n"
   ]
  },
  {
   "cell_type": "code",
   "execution_count": 122,
   "id": "1549059f",
   "metadata": {},
   "outputs": [],
   "source": [
    "DatKom2 = Data_Kom1.copy()\n",
    "DatKom2['point'] = DatKom2['point'].astype(str)"
   ]
  },
  {
   "cell_type": "code",
   "execution_count": 123,
   "id": "0f8e0b34",
   "metadata": {},
   "outputs": [],
   "source": [
    "#anfügen an großen datensatz\n",
    "\n",
    "DatF = DatKom2.merge(dat1.iloc[:,[4,5,6,7,8]], left_on='ID_DefaultCity', right_on='ID_DefaultCity', how='left')\n"
   ]
  },
  {
   "cell_type": "code",
   "execution_count": 126,
   "id": "947a8dd9",
   "metadata": {},
   "outputs": [],
   "source": [
    "DatF = DatF.drop('location',axis=1)"
   ]
  },
  {
   "cell_type": "code",
   "execution_count": 128,
   "id": "0766fe32",
   "metadata": {},
   "outputs": [],
   "source": [
    "DatF2 = DatF.drop_duplicates()"
   ]
  },
  {
   "cell_type": "code",
   "execution_count": 130,
   "id": "b568402d",
   "metadata": {},
   "outputs": [],
   "source": [
    "DatF2.to_csv('Data_final_mitTimezone.csv', index=False, sep=';')"
   ]
  },
  {
   "cell_type": "markdown",
   "id": "274291e1",
   "metadata": {},
   "source": [
    "Doku\n",
    "https://open-meteo.com/en/docs/historical-weather-api?hourly=temperature_2m,rain,wind_speed_100m,wind_direction_100m,soil_temperature_7_to_28cm,is_day&daily=temperature_2m_mean,sunrise,sunset,temperature_2m_max,temperature_2m_min,wind_gusts_10m_max,wind_direction_10m_dominant&latitude=53.550341&longitude=10.000654&timezone=Europe%2FBerlin&start_date=2024-08-22&end_date=2024-08-22"
   ]
  }
 ],
 "metadata": {
  "kernelspec": {
   "display_name": ".venv",
   "language": "python",
   "name": "python3"
  },
  "language_info": {
   "codemirror_mode": {
    "name": "ipython",
    "version": 3
   },
   "file_extension": ".py",
   "mimetype": "text/x-python",
   "name": "python",
   "nbconvert_exporter": "python",
   "pygments_lexer": "ipython3",
   "version": "3.13.1"
  }
 },
 "nbformat": 4,
 "nbformat_minor": 5
}
