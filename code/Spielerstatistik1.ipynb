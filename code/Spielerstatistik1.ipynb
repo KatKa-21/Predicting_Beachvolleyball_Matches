{
 "cells": [
  {
   "cell_type": "markdown",
   "id": "f7fb3b6b",
   "metadata": {},
   "source": [
    "## Spielerstatistiken"
   ]
  },
  {
   "cell_type": "code",
   "execution_count": 1,
   "id": "87cd66d6",
   "metadata": {},
   "outputs": [],
   "source": [
    "import pandas as pd\n",
    "import os\n",
    "from pathlib import Path\n",
    "import glob"
   ]
  },
  {
   "cell_type": "code",
   "execution_count": 2,
   "id": "86f79fc0",
   "metadata": {},
   "outputs": [
    {
     "name": "stderr",
     "output_type": "stream",
     "text": [
      "C:\\Users\\Katharina\\AppData\\Local\\Temp\\ipykernel_7632\\4169591933.py:2: DtypeWarning: Columns (1,10,13,14,21,49,51,59,68,101) have mixed types. Specify dtype option on import or set low_memory=False.\n",
      "  Database = pd.read_csv('Daten_zusammen_final.csv', sep=';')\n"
     ]
    }
   ],
   "source": [
    "os.chdir('C:/Users/Katharina/Desktop/Weiterbildung/Bootcamp/Bootcamp/Final_project/data')\n",
    "Database = pd.read_csv('Daten_zusammen_final.csv', sep=';')"
   ]
  },
  {
   "cell_type": "code",
   "execution_count": 11,
   "id": "18d842d7",
   "metadata": {},
   "outputs": [],
   "source": [
    "DatM = Database.drop(['Actions', 'BuyTicketsUrl','Deadline','DefaultLocalTimeOffset','DefaultMatchFormat','DefaultTimeZone',\n",
    "'DispatchMethod', 'DispatchStatus', 'EarningsCurrencyCode', 'EndDateFederationQuota',\n",
    "'EntryPointsBaseDate','EntryPointsDayOffset', 'EntryPointsTemplateNo','EventAuxiliaryPersons',\n",
    "'EventLogos','IsFreeEntrance', 'IsVisManaged','Logos','MatchPointsMethod',\n",
    "'MaxRegisterFederation', 'MaxRegisterHost', 'MaxReserveTeams', 'MaxTeamsDispatchFederation',\n",
    "'MaxTeamsDispatchHost','MaxTeamsFederation','MaxTeamsHost','MaxTeamsMainDrawFederation', 'MaxTeamsMainDrawHost',\n",
    "'MinConfederationTeams', 'MinTeamsDispatchHost', 'NbTeamsFromQualification',\n",
    "'NbTeamsMainDraw', 'NbTeamsQualification','NbUploads', 'NbWildCards', 'NoTemplateEarnedPoints',\n",
    "'NoTemplatePrizeMoney','OrganizerCode', 'OrganizerType','Parameters', 'PreliminaryInquiryMainDraw',\n",
    "'PreliminaryInquiryQualification','SeedPointsBaseDate', 'SeedPointsDayOffset', 'SeedPointsTemplateNo',\n",
    "'StartDateFederationQuota', 'TechnicalEntryPointsTemplateNo','TechnicalSeedPointsTemplateNo',\n",
    "'Draws', 'check', 'check2', 'NoSet', 'point', 'latitude', 'longitude', 'timezone', 'UTC_offset_hours', \n",
    "'Zeitpunkt', 'index_col','source_row','time','Code','CountryCode','CountryName','DefaultCity','DefaultVenue',\n",
    "'EndDateMainDraw','EndDateQualification','FederationCode_x','Name_x','No','NoEvent',\n",
    "'StartDate', 'StartDateMainDraw','StartDateQualification','Status', 'Title',\n",
    "'Version_x','WebSite','NoItem','No_x',\n",
    "'FederationCode_x',  'Gender_y', 'PlaysBeach', 'PlaysVolley', 'No_y','Version_y',\n",
    "'Rank','EarnedPointsTeam', '@MatchPointsA','@MatchPointsB','No','@Version', '@No'],axis=1)"
   ]
  },
  {
   "cell_type": "code",
   "execution_count": 12,
   "id": "fdf9c144",
   "metadata": {},
   "outputs": [],
   "source": [
    "df_players = DatM[DatM['ItemType'] == 30].copy()\n",
    "DatS = df_players[df_players['ServeTotal'] !=0]"
   ]
  },
  {
   "cell_type": "code",
   "execution_count": 15,
   "id": "5e248ace",
   "metadata": {},
   "outputs": [],
   "source": [
    "#Spielernamen anpassen\n",
    "DatSS = DatS.copy()\n",
    "DatSS['Full_Name'] = DatSS['FirstName'] + ' '+DatSS['LastName'] + ' (' + DatSS['FederationCode_y'] + ')'\n",
    "\n",
    "#Season umcodieren\n",
    "\n",
    "DatSS['Season'] = DatSS['Season'].astype('object')"
   ]
  },
  {
   "cell_type": "code",
   "execution_count": 17,
   "id": "148e9672",
   "metadata": {},
   "outputs": [],
   "source": [
    "DatSS.to_csv('Playerdata.csv', index=False, sep=';')"
   ]
  }
 ],
 "metadata": {
  "kernelspec": {
   "display_name": ".venv",
   "language": "python",
   "name": "python3"
  },
  "language_info": {
   "codemirror_mode": {
    "name": "ipython",
    "version": 3
   },
   "file_extension": ".py",
   "mimetype": "text/x-python",
   "name": "python",
   "nbconvert_exporter": "python",
   "pygments_lexer": "ipython3",
   "version": "3.13.1"
  }
 },
 "nbformat": 4,
 "nbformat_minor": 5
}
