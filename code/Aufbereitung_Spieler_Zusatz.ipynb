{
 "cells": [
  {
   "cell_type": "code",
   "execution_count": 1,
   "id": "78131f8e",
   "metadata": {},
   "outputs": [],
   "source": [
    "import pandas as pd\n",
    "import os\n",
    "from pathlib import Path\n",
    "import glob\n",
    "import numpy as np\n",
    "import unicodedata"
   ]
  },
  {
   "cell_type": "code",
   "execution_count": 2,
   "id": "bc05caf5",
   "metadata": {},
   "outputs": [],
   "source": [
    "#Verzeichnis anpassen\n",
    "os.chdir('C:/Users/Katharina/Desktop/Weiterbildung/Bootcamp/Bootcamp/Final_project/data')"
   ]
  },
  {
   "cell_type": "code",
   "execution_count": 3,
   "id": "86b6deae",
   "metadata": {},
   "outputs": [],
   "source": [
    "BeachTeams = pd.read_csv('Beach_Team_Infos.csv', sep=';')"
   ]
  },
  {
   "cell_type": "code",
   "execution_count": 5,
   "id": "1bde88d4",
   "metadata": {},
   "outputs": [],
   "source": [
    "#es ist der Fall das Teams doppelt vorkommen, weil die Namen vertauscht sind\n",
    "def normalize_string(s):\n",
    "    \"\"\"\n",
    "    Entfernt diakritische Zeichen aus einem String, sodass z.B. \"Å\" zu \"A\" wird.\n",
    "    \"\"\"\n",
    "    return unicodedata.normalize('NFKD', s).encode('ascii', 'ignore').decode('ascii')\n",
    "\n",
    "def standardize_names(name_str):\n",
    "    \"\"\"\n",
    "    Teilt den Eingabestring, der zwei Namen enthält (getrennt durch '/'),\n",
    "    entfernt überflüssige Leerzeichen und sortiert die beiden Namen anhand des\n",
    "    normalisierten Strings, sodass immer der Name zuerst steht, der alphabetisch\n",
    "    (unter Ignorieren von Sonderzeichen) früher kommt.\n",
    "    \"\"\"\n",
    "    # Teile den String anhand von '/' und entferne eventuelle Leerzeichen\n",
    "    parts = [part.strip() for part in name_str.split('/')]\n",
    "    \n",
    "    # Sortiere die beiden Namen. Dabei wird der normalisierte, kleingeschriebene Wert \n",
    "    # als Schlüssel verwendet, sodass z.B. \"Åhman\" (-> \"ahman\") richtiger sortiert wird.\n",
    "    parts_sorted = sorted(parts, key=lambda x: normalize_string(x).lower())\n",
    "    \n",
    "    # Füge die sortierten Namen wieder mit '/' zusammen\n",
    "    return \"/\".join(parts_sorted)\n",
    "\n",
    "\n",
    "# Wende die Funktion auf die Spalte \"@Namen\" an und speichere das Ergebnis in der neuen Spalte \"Standard_Namen\"\n",
    "#BeachTeams1 = BeachTeams.copy()\n",
    "#BeachTeams1[\"Standard_Namen\"] = BeachTeams1[\"@Name\"].apply(standardize_names)\n",
    "\n",
    "def reorder_player_numbers(row):\n",
    "    \"\"\"\n",
    "    Vergleicht den ursprünglichen Namen (gesplittet in zwei Teile) mit der \n",
    "    alphabetisch sortierten Version. Stimmen sie nicht überein, wird angenommen,\n",
    "    dass auch die Player-Daten vertauscht wurden – und es werden die zugehörigen\n",
    "    numerischen Werte getauscht.\n",
    "    \"\"\"\n",
    "    # Die ursprüngliche Reihenfolge aus der Spalte '@Namen'\n",
    "    unsorted_names = [name.strip() for name in row[\"@Name\"].split('/')]\n",
    "    # Berechne die standardisierte (sortierte) Reihenfolge:\n",
    "    sorted_names = sorted(unsorted_names, key=lambda x: normalize_string(x).lower())\n",
    "    \n",
    "    # Falls die Reihenfolge nicht gleich ist, tausche die zugehörigen numerischen Spalten:\n",
    "    if unsorted_names != sorted_names:\n",
    "        row[\"@NoPlayer1\"], row[\"@NoPlayer2\"] = row[\"@NoPlayer2\"], row[\"@NoPlayer1\"]\n",
    "        # Höhen tauschen (vorausgesetzt, es gibt die Spalten \"@Player1height\" und \"@Player2height\")\n",
    "        row[\"@Player1Height\"], row[\"@Player2Height\"] = row[\"@Player2Height\"], row[\"@Player1Height\"]\n",
    "        # Teamnamen tauschen (vorausgesetzt, es gibt die Spalten \"@Player1TeamName\" und \"@Player2TeamName\")\n",
    "        row[\"@Player1TeamName\"], row[\"@Player2TeamName\"] = row[\"@Player2TeamName\"], row[\"@Player1TeamName\"]\n",
    "\n",
    "        # Falls weitere Spalten (z.B. playerbezogene Positionen) in diesem Zusammenhang,\n",
    "        # können diese ebenfalls getauscht werden.\n",
    "    return row"
   ]
  },
  {
   "cell_type": "code",
   "execution_count": null,
   "id": "0dc16437",
   "metadata": {},
   "outputs": [],
   "source": [
    "# 1. Erstelle die Spalte Standard_Namen (für die Gruppierung)\n",
    "BeachTeams[\"Standard_Namen\"] = BeachTeams[\"@Name\"].apply(standardize_names)\n",
    "\n",
    "# 2. Wende die Funktion auf jede Zeile an, um invertierte Zuordnungen zu korrigieren.\n",
    "df_corrected = BeachTeams.apply(reorder_player_numbers, axis=1)\n"
   ]
  },
  {
   "cell_type": "code",
   "execution_count": 45,
   "id": "3cc91d83",
   "metadata": {},
   "outputs": [],
   "source": [
    "#daten anpassen\n",
    "BeachTeams_grouped = df_corrected.groupby(['Standard_Namen', '@NoPlayer1', '@NoPlayer2'], as_index=False).agg({\n",
    "    '@PositionInEntry':  lambda x: x.mean(skipna=True),\n",
    "    '@Rank':  lambda x: x.mean(skipna=True),\n",
    "    '@EarnedPointsTeam':  lambda x: x.mean(skipna=True),\n",
    "    '@EarningsTotalTeam':  lambda x: x.mean(skipna=True),\n",
    "})"
   ]
  },
  {
   "cell_type": "code",
   "execution_count": 47,
   "id": "cec97469",
   "metadata": {},
   "outputs": [],
   "source": [
    "#BeachTeams_grouped1 = BeachTeams_grouped[~BeachTeams_grouped[\"@Name\"].str.contains(r\"\\?\", na=False)]\n",
    "BeachTeams_grouped1 = BeachTeams_grouped[~BeachTeams_grouped[\"Standard_Namen\"].str.contains(r'[?#\"\\']', na=False)]\n"
   ]
  },
  {
   "cell_type": "code",
   "execution_count": 5,
   "id": "dbadce2c",
   "metadata": {},
   "outputs": [],
   "source": [
    "dataTeam = pd.read_csv('DatenML_V2_relCol_ZusatzType.csv', sep=';')"
   ]
  },
  {
   "cell_type": "code",
   "execution_count": 50,
   "id": "99ab3401",
   "metadata": {},
   "outputs": [],
   "source": [
    "df = dataTeam\n",
    "# Erstellen der neuen Spalte \"Team1\":\n",
    "# Wenn TeamDesignation = A, dann soll TeamAName in Team1 stehen,\n",
    "# andernfalls (also bei B) TeamBName.\n",
    "df[\"Team1\"] = np.where(\n",
    "    df[\"TeamDesignation\"].str.upper() == \"A\",\n",
    "    df[\"@TeamAName\"],\n",
    "    df[\"@TeamBName\"]\n",
    ")\n",
    "\n",
    "# Erstellen der Spalte \"Team2\" als das jeweils andere Team:\n",
    "df[\"Team2\"] = np.where(\n",
    "    df[\"TeamDesignation\"].str.upper() == \"A\",\n",
    "    df[\"@TeamBName\"],\n",
    "    df[\"@TeamAName\"]\n",
    ")\n"
   ]
  },
  {
   "cell_type": "code",
   "execution_count": 56,
   "id": "8d10ad30",
   "metadata": {},
   "outputs": [],
   "source": [
    "#Namen sortieren\n",
    "#BeachTeams1[\"Standard_Namen\"] = BeachTeams1[\"@Name\"].apply(standardize_names)\n",
    "df_BeachTeams = df.copy()\n",
    "df_BeachTeams['Standard_Namen'] = df['Team1'].apply(standardize_names)\n"
   ]
  },
  {
   "cell_type": "code",
   "execution_count": null,
   "id": "5d397153",
   "metadata": {},
   "outputs": [],
   "source": [
    "DatG_test = pd.merge(BeachTeams_grouped1, df_BeachTeams, left_on=['Standard_Namen'], right_on=['Standard_Namen'], how='inner')"
   ]
  },
  {
   "cell_type": "code",
   "execution_count": null,
   "id": "17326d27",
   "metadata": {},
   "outputs": [],
   "source": [
    "#welche Teams fehlen?\n",
    "missing_rows = df_BeachTeams[~df_BeachTeams[\"Standard_Namen\"].isin(BeachTeams_grouped1[\"Standard_Namen\"])]\n",
    "#die sind vernachlässigbar"
   ]
  },
  {
   "cell_type": "code",
   "execution_count": 59,
   "id": "79936025",
   "metadata": {},
   "outputs": [],
   "source": [
    "DatG_test.to_csv('ML_Data_Teams.csv', index=False, sep=';')"
   ]
  },
  {
   "cell_type": "code",
   "execution_count": null,
   "id": "92db396d",
   "metadata": {},
   "outputs": [],
   "source": [
    "#Auch den Namen von Team2 anpassen"
   ]
  },
  {
   "cell_type": "code",
   "execution_count": 4,
   "id": "f714521e",
   "metadata": {},
   "outputs": [],
   "source": [
    "os.chdir('C:/Users/Katharina/Desktop/Weiterbildung/Bootcamp/Bootcamp/Final_project/data')\n",
    "data = pd.read_csv('ML_Data_Teams.csv', sep=';')\t"
   ]
  },
  {
   "cell_type": "code",
   "execution_count": 6,
   "id": "068a8358",
   "metadata": {},
   "outputs": [],
   "source": [
    "data[\"Standard_Namen_team2\"] = data[\"Team2\"].apply(standardize_names)"
   ]
  },
  {
   "cell_type": "code",
   "execution_count": 7,
   "id": "7ca95528",
   "metadata": {},
   "outputs": [],
   "source": [
    "os.chdir('C:/Users/Katharina/Desktop/Weiterbildung/Bootcamp/Bootcamp/Final_project/data')\n",
    "data.to_csv('ML_Data_Teams.csv', index=False, sep=';')"
   ]
  },
  {
   "cell_type": "markdown",
   "id": "f80df4a0",
   "metadata": {},
   "source": [
    "#### Statistik daten anpassen für Teams"
   ]
  },
  {
   "cell_type": "code",
   "execution_count": 8,
   "id": "e0244685",
   "metadata": {},
   "outputs": [],
   "source": [
    "df = pd.read_csv(\"TeamStatistik1.csv\", sep=';')"
   ]
  },
  {
   "cell_type": "code",
   "execution_count": 10,
   "id": "3e489763",
   "metadata": {},
   "outputs": [],
   "source": [
    "df[\"year\"] = df[\"@LocalDate\"].str.split(\"-\").str[0]"
   ]
  },
  {
   "cell_type": "code",
   "execution_count": 11,
   "id": "d2b78de5",
   "metadata": {},
   "outputs": [],
   "source": [
    "df.to_csv('TeamStatistik1.csv', index=False, sep=';')"
   ]
  }
 ],
 "metadata": {
  "kernelspec": {
   "display_name": ".venv",
   "language": "python",
   "name": "python3"
  },
  "language_info": {
   "codemirror_mode": {
    "name": "ipython",
    "version": 3
   },
   "file_extension": ".py",
   "mimetype": "text/x-python",
   "name": "python",
   "nbconvert_exporter": "python",
   "pygments_lexer": "ipython3",
   "version": "3.13.1"
  }
 },
 "nbformat": 4,
 "nbformat_minor": 5
}
