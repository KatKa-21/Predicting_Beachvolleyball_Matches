{
 "cells": [
  {
   "cell_type": "code",
   "execution_count": 1,
   "id": "1f88915b",
   "metadata": {},
   "outputs": [],
   "source": [
    "import pandas as pd\n",
    "import glob\n",
    "import os"
   ]
  },
  {
   "cell_type": "code",
   "execution_count": 2,
   "id": "48057920",
   "metadata": {},
   "outputs": [],
   "source": [
    "folder_path = \"C:/Users/Katharina/Desktop/Weiterbildung/Bootcamp/Bootcamp/Final_project/data\"\n",
    "\n",
    "# Liste aller CSV-Dateien, die mit \"player_individuell\" anfangen\n",
    "csv_files = glob.glob(os.path.join(folder_path, \"player_list_individuell*.csv\"))\n",
    "\n",
    "# Alle CSV-Dateien einlesen und in einer Liste speichern\n",
    "dfs = [pd.read_csv(file, sep=';') for file in csv_files]\n",
    "\n",
    "# Falls du alle DataFrames zu einem großen zusammenführen möchtest:\n",
    "df_combined = pd.concat(dfs, ignore_index=True)\n"
   ]
  },
  {
   "cell_type": "code",
   "execution_count": 3,
   "id": "5fa44e3b",
   "metadata": {},
   "outputs": [],
   "source": [
    "df2 = df_combined.dropna(subset=['Player.@LastName'])"
   ]
  },
  {
   "cell_type": "code",
   "execution_count": 4,
   "id": "0b0fb163",
   "metadata": {},
   "outputs": [],
   "source": [
    "os.chdir('C:/Users/Katharina/Desktop/Weiterbildung/Bootcamp/Bootcamp/Final_project/data')\n",
    "DatS = pd.read_csv('DatenML_V1.csv', sep=';')"
   ]
  },
  {
   "cell_type": "code",
   "execution_count": null,
   "id": "73495bb0",
   "metadata": {},
   "outputs": [],
   "source": [
    "test = pd.merge(DatS[[\"FirstName\", \"LastName\"]], df2[['Player.@FederationCode', 'Player.@FirstName', 'Player.@Gender',\n",
    "       'Player.@LastName','Player.@Height','Player.@BeachHighBlock', 'Player.@BeachHighJump',\n",
    "       'Player.@BeachPosition', 'Player.@BeachYearBegin', 'Player.@Birthdate',\n",
    "       'Player.@Handedness']], left_on=[\"FirstName\", \"LastName\"], right_on=[\"Player.@FirstName\", \"Player.@LastName\"], how=\"left\")"
   ]
  },
  {
   "cell_type": "code",
   "execution_count": 6,
   "id": "a6122ade",
   "metadata": {},
   "outputs": [],
   "source": [
    "#welche spieler fehlen?\n",
    "\n",
    "playerMissing = test[test['Player.@FirstName'].isna()].drop_duplicates()"
   ]
  },
  {
   "cell_type": "code",
   "execution_count": 10,
   "id": "76e2bfe0",
   "metadata": {},
   "outputs": [],
   "source": [
    "#csv beach_teams --> da sind die nummern drin --> damit scrapen\n",
    "os.chdir('C:/Users/Katharina/Desktop/Weiterbildung/Bootcamp/Bootcamp/Final_project/data')\n",
    "\n",
    "BeachTeams = pd.read_csv('beach_teams.csv', sep=',')"
   ]
  },
  {
   "cell_type": "code",
   "execution_count": null,
   "id": "4fa30e78",
   "metadata": {},
   "outputs": [],
   "source": [
    "BeachTeams = BeachTeams.dropna(subset=['NoPlayer1'])\n"
   ]
  },
  {
   "cell_type": "code",
   "execution_count": 16,
   "id": "e66df73a",
   "metadata": {},
   "outputs": [],
   "source": [
    "BeachTeams[[\"Player1\", \"Player2\"]] = BeachTeams[\"Name\"].str.split(\"/\", expand=True, n=1)"
   ]
  },
  {
   "cell_type": "code",
   "execution_count": 17,
   "id": "35ecdae5",
   "metadata": {},
   "outputs": [],
   "source": [
    "BeachTeams2 = BeachTeams.drop_duplicates(subset='Name')"
   ]
  },
  {
   "cell_type": "code",
   "execution_count": 20,
   "id": "6c2cf72e",
   "metadata": {},
   "outputs": [],
   "source": [
    "test2 = pd.merge(playerMissing[[\"FirstName\", \"LastName\"]], BeachTeams2[['Player1', 'NoPlayer1']],how='left', left_on='LastName', right_on='Player1')"
   ]
  },
  {
   "cell_type": "code",
   "execution_count": 22,
   "id": "fe9d0a4d",
   "metadata": {},
   "outputs": [],
   "source": [
    "import pandas as pd\n",
    "import numpy as np\n",
    "\n",
    "\n",
    "# Funktion zum Ermitteln des modalen Werts; \n",
    "# wird der Mode nicht ermittelt (leere Serie), gibt sie np.nan zurück.\n",
    "def get_mode(series):\n",
    "    modes = series.mode()\n",
    "    return modes[0] if not modes.empty else np.nan\n",
    "\n",
    "# Gruppiere nach FirstName und LastName und bestimme den häufigsten Wert in NoPlayer\n",
    "mode_df = test2.groupby([\"FirstName\", \"LastName\"])[\"NoPlayer1\"].agg(get_mode).reset_index()\n",
    "mode_df = mode_df.rename(columns={\"NoPlayer1\": \"ModeNoPlayer1\"})\n",
    "\n",
    "# Merge den modalen Wert zurück in das Original-DataFrame\n",
    "test2 = test2.merge(mode_df, on=[\"FirstName\", \"LastName\"], how=\"left\")"
   ]
  },
  {
   "cell_type": "code",
   "execution_count": null,
   "id": "f6636ed5",
   "metadata": {},
   "outputs": [],
   "source": [
    "test3 = test2.copy()\n",
    "test3 = test3.drop_duplicates(subset=['ModeNoPlayer1'])\n",
    "test3.dropna()"
   ]
  },
  {
   "cell_type": "code",
   "execution_count": 25,
   "id": "17708791",
   "metadata": {},
   "outputs": [],
   "source": [
    "test3.to_csv('MissingPlayer_listID.csv', index=False, sep=';')"
   ]
  },
  {
   "cell_type": "code",
   "execution_count": 33,
   "id": "03a23771",
   "metadata": {},
   "outputs": [],
   "source": [
    "#Variante zwei\n",
    "test2_A = pd.merge(playerMissing[[\"FirstName\", \"LastName\"]], BeachTeams2[['Player2', 'NoPlayer2']],how='left', left_on='LastName', right_on='Player2')\n",
    "\n",
    "# Gruppiere nach FirstName und LastName und bestimme den häufigsten Wert in NoPlayer\n",
    "mode_df = test2_A.groupby([\"FirstName\", \"LastName\"])[\"NoPlayer2\"].agg(get_mode).reset_index()\n",
    "mode_df = mode_df.rename(columns={\"NoPlayer2\": \"ModeNoPlayer2\"})\n",
    "\n",
    "# Merge den modalen Wert zurück in das Original-DataFrame\n",
    "test2_B = test2_A.merge(mode_df, on=[\"FirstName\", \"LastName\"], how=\"left\")\n",
    "\n",
    "#Duplikate entfernen\n",
    "test3_A = test2_B.copy()\n",
    "test3_A = test3_A.drop_duplicates(subset=['ModeNoPlayer2'])\n",
    "test3_A = test3_A.dropna()"
   ]
  },
  {
   "cell_type": "code",
   "execution_count": 34,
   "id": "5ea91a94",
   "metadata": {},
   "outputs": [],
   "source": [
    "test3_A.to_csv('MissingPlayer_listID_V2.csv', index=False, sep=';')"
   ]
  },
  {
   "cell_type": "code",
   "execution_count": 27,
   "id": "812bae2d",
   "metadata": {},
   "outputs": [],
   "source": [
    "#restliche spieler gescrapt\n",
    "MissPl = pd.read_csv('player_list_Missing0705.csv', sep=';')"
   ]
  },
  {
   "cell_type": "code",
   "execution_count": 35,
   "id": "ebd875d1",
   "metadata": {},
   "outputs": [],
   "source": [
    "#Teil2 der Missing gescrapt\n",
    "MissPl2 = pd.read_csv('player_list_Missing0805.csv', sep=';')"
   ]
  },
  {
   "cell_type": "code",
   "execution_count": null,
   "id": "cb4fbad2",
   "metadata": {},
   "outputs": [],
   "source": [
    "DatMiss = pd.concat([MissPl, MissPl2],axis=0)\n",
    "DatMiss1 = DatMiss.drop_duplicates(subset=['Player.@No'])\n",
    "\n",
    "#-> Vergleich mit PlayerMissing: FirstName, LastName"
   ]
  },
  {
   "cell_type": "code",
   "execution_count": 40,
   "id": "a4cb9833",
   "metadata": {},
   "outputs": [],
   "source": [
    "#Prüfen, welche spieler jetzt gefunden worden sind\n",
    "MISS_DF = pd.merge(DatMiss1, playerMissing[[\"FirstName\", 'LastName']], left_on=[\"Player.@FirstName\", 'Player.@LastName'], \n",
    "                   right_on=[\"FirstName\", 'LastName'], how=\"inner\")"
   ]
  },
  {
   "cell_type": "code",
   "execution_count": 46,
   "id": "e278aec4",
   "metadata": {},
   "outputs": [],
   "source": [
    "#Zusammenfügen mit anderer Spielerliste -> df2 (Drop 'NoData.@id') MissDF (drop 'FirstName', 'LastName')\n",
    "PLayerList = df2.drop(columns='NoData.@id')\n",
    "PlayerMiss = MISS_DF.drop(columns=['FirstName', 'LastName'])"
   ]
  },
  {
   "cell_type": "code",
   "execution_count": 47,
   "id": "b10e10bb",
   "metadata": {},
   "outputs": [],
   "source": [
    "#Listen zusammenfügen\n",
    "\n",
    "Player_fin = pd.concat([PLayerList, PlayerMiss], axis=0)"
   ]
  },
  {
   "cell_type": "code",
   "execution_count": 48,
   "id": "590f08a3",
   "metadata": {},
   "outputs": [],
   "source": [
    "Player_fin.to_csv('Player_properties_final.csv', index=False, sep=';',)"
   ]
  }
 ],
 "metadata": {
  "kernelspec": {
   "display_name": ".venv",
   "language": "python",
   "name": "python3"
  },
  "language_info": {
   "codemirror_mode": {
    "name": "ipython",
    "version": 3
   },
   "file_extension": ".py",
   "mimetype": "text/x-python",
   "name": "python",
   "nbconvert_exporter": "python",
   "pygments_lexer": "ipython3",
   "version": "3.13.1"
  }
 },
 "nbformat": 4,
 "nbformat_minor": 5
}
