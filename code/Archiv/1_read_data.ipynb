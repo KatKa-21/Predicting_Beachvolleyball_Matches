{
 "cells": [
  {
   "cell_type": "code",
   "execution_count": 28,
   "id": "cb14a037",
   "metadata": {},
   "outputs": [],
   "source": [
    "import pandas as pd\n",
    "import os\n",
    "from pathlib import Path\n",
    "import glob"
   ]
  },
  {
   "cell_type": "code",
   "execution_count": 29,
   "id": "6b890c76",
   "metadata": {},
   "outputs": [
    {
     "name": "stdout",
     "output_type": "stream",
     "text": [
      "C:\\Users\\Katharina\\Desktop\\Weiterbildung\\Bootcamp\\Bootcamp\\Final_project\\data\n"
     ]
    }
   ],
   "source": [
    "#Verzeichnis anpassen\n",
    "\n",
    "os.chdir('C:/Users/Katharina/Desktop/Weiterbildung/Bootcamp/Bootcamp/Final_project/data')\n",
    "print(os.getcwd())"
   ]
  },
  {
   "cell_type": "markdown",
   "id": "beefdd58",
   "metadata": {},
   "source": [
    "#### BeachTeams "
   ]
  },
  {
   "cell_type": "code",
   "execution_count": 15,
   "id": "2cf623db",
   "metadata": {},
   "outputs": [],
   "source": [
    "BeachTeams_df = pd.read_csv('beach_teams.csv', dtype={'NoPlayer1':'Int64', 'NoPlayer2': 'Int64'})"
   ]
  },
  {
   "cell_type": "code",
   "execution_count": 16,
   "id": "5a201417",
   "metadata": {},
   "outputs": [
    {
     "data": {
      "application/vnd.microsoft.datawrangler.viewer.v0+json": {
       "columns": [
        {
         "name": "index",
         "rawType": "int64",
         "type": "integer"
        },
        {
         "name": "NoPlayer1",
         "rawType": "Int64",
         "type": "integer"
        },
        {
         "name": "NoPlayer2",
         "rawType": "Int64",
         "type": "integer"
        },
        {
         "name": "Name",
         "rawType": "object",
         "type": "string"
        },
        {
         "name": "Rank",
         "rawType": "float64",
         "type": "float"
        },
        {
         "name": "EarnedPointsTeam",
         "rawType": "float64",
         "type": "float"
        },
        {
         "name": "EarningsTeam",
         "rawType": "float64",
         "type": "float"
        }
       ],
       "conversionMethod": "pd.DataFrame",
       "ref": "68d316bd-3e9c-496b-bb38-1742f4cd3677",
       "rows": [
        [
         "0",
         "100047",
         "117538",
         "Prokopiev/Kuzmichev",
         null,
         null,
         null
        ],
        [
         "1",
         "100088",
         "101634",
         "Heese/Cadieux",
         "17.0",
         "80.0",
         "150000.0"
        ],
        [
         "2",
         "100096",
         "115198",
         "Bosma/Ortiz",
         null,
         null,
         null
        ],
        [
         "3",
         "100206",
         "103751",
         "Nalbert/Dulinski",
         "25.0",
         "40.0",
         "100000.0"
        ],
        [
         "4",
         "100302",
         "102374",
         "Kjemperud/Skarlund",
         "17.0",
         "80.0",
         "150000.0"
        ],
        [
         "5",
         "100334",
         "100882",
         "Blanton/Wong",
         null,
         null,
         null
        ],
        [
         "6",
         "100425",
         "102565",
         "Rogers/Scott",
         "9.0",
         "160.0",
         "300000.0"
        ],
        [
         "7",
         "100514",
         "117645",
         "Vallejo/Vallejo J.",
         "-2.0",
         "0.0",
         "0.0"
        ],
        [
         "8",
         "100527",
         "100528",
         "Maia/Brenha",
         null,
         null,
         null
        ],
        [
         "9",
         "100643",
         "102575",
         "Ibarra/Hernandez",
         "25.0",
         "40.0",
         "100000.0"
        ],
        [
         "10",
         "100670",
         "100530",
         "Heyer/Laciga P.",
         "13.0",
         "120.0",
         "225000.0"
        ],
        [
         "11",
         "100675",
         "116046",
         "Rossell/Villar",
         null,
         null,
         null
        ],
        [
         "12",
         "100676",
         "103247",
         "Alvarez/Ramirez Bernal",
         null,
         null,
         null
        ],
        [
         "13",
         "100777",
         "101534",
         "Berger N./Doppler",
         "9.0",
         "160.0",
         "300000.0"
        ],
        [
         "14",
         "100788",
         "103981",
         "Kais Kr./Vesik",
         "5.0",
         "240.0",
         "500000.0"
        ],
        [
         "15",
         "100791",
         "100796",
         "Canet/Hamel",
         null,
         null,
         null
        ],
        [
         "16",
         "100793",
         "102319",
         "Nowotny/Gartmayer",
         "17.0",
         "80.0",
         "150000.0"
        ],
        [
         "17",
         "100840",
         "102630",
         "Berg /Svensson R.",
         null,
         null,
         null
        ],
        [
         "18",
         "100844",
         "105178",
         "Hoidalen/Oevergaard",
         null,
         null,
         null
        ],
        [
         "19",
         "100899",
         "103620",
         "Galli F./Tomatis",
         null,
         null,
         null
        ],
        [
         "20",
         "100900",
         "102648",
         "Lione/Varnier",
         "4.0",
         "280.0",
         "600000.0"
        ],
        [
         "21",
         "100997",
         "100427",
         "Ricardo/Emanuel",
         "1.0",
         "400.0",
         "1600000.0"
        ],
        [
         "22",
         "101195",
         "118536",
         "Salim/Koko",
         "33.0",
         "20.0",
         "0.0"
        ],
        [
         "23",
         "101280",
         "104575",
         "Leinemann/Van Huizen",
         "9.0",
         "160.0",
         "300000.0"
        ],
        [
         "24",
         "101345",
         "100148",
         "Baracetti/Conde",
         "13.0",
         "120.0",
         "225000.0"
        ],
        [
         "25",
         "101398",
         "100529",
         "Egger M./Laciga M.",
         "7.0",
         "200.0",
         "400000.0"
        ],
        [
         "26",
         "101591",
         "104207",
         "Marcio Araujo/Fabio Luiz",
         "5.0",
         "240.0",
         "500000.0"
        ],
        [
         "27",
         "101599",
         "102544",
         "Morikawa/Shiratori",
         null,
         null,
         null
        ],
        [
         "28",
         "101627",
         "100828",
         "Papaleo Pérez/Hernandez",
         "33.0",
         "20.0",
         "0.0"
        ],
        [
         "29",
         "101636",
         "103844",
         "Supriadi/Ardiansyam",
         "41.0",
         "12.0",
         "0.0"
        ],
        [
         "30",
         "101680",
         "104488",
         "Fischer/Mihalic",
         "41.0",
         "12.0",
         "0.0"
        ],
        [
         "31",
         "101793",
         "102973",
         "Razo/Miramontes",
         "25.0",
         "40.0",
         "100000.0"
        ],
        [
         "32",
         "101846",
         "101847",
         "Heuscher/Kobel",
         "7.0",
         "200.0",
         "400000.0"
        ],
        [
         "33",
         "101960",
         "105128",
         "Cès K./Dugrip",
         "25.0",
         "40.0",
         "100000.0"
        ],
        [
         "34",
         "102082",
         "101669",
         "Benjamin/Harley",
         "3.0",
         "320.0",
         "800000.0"
        ],
        [
         "35",
         "102138",
         "102546",
         "Horrem/Pettersen E.P.",
         null,
         null,
         null
        ],
        [
         "36",
         "102544",
         "103840",
         "Shiratori/Nishimura",
         "25.0",
         "40.0",
         "100000.0"
        ],
        [
         "37",
         "102554",
         "102553",
         "Medrano/Vargas",
         "41.0",
         "12.0",
         "0.0"
        ],
        [
         "38",
         "102558",
         "104620",
         "Amore/Rousek",
         null,
         null,
         null
        ],
        [
         "39",
         "102631",
         "103526",
         "Barsuk/Arkaev",
         null,
         null,
         null
        ],
        [
         "40",
         "102634",
         "117113",
         "Hauser/Lelliott",
         "41.0",
         "12.0",
         "0.0"
        ],
        [
         "41",
         "102700",
         "103299",
         "Boersma E./Ronnes",
         "33.0",
         "20.0",
         "0.0"
        ],
        [
         "42",
         "102715",
         "104530",
         "Nausch/Steinöcker",
         null,
         null,
         null
        ],
        [
         "43",
         "102716",
         "102295",
         "Gosch/Strauss, B.",
         "25.0",
         "40.0",
         "100000.0"
        ],
        [
         "44",
         "102843",
         "104275",
         "Michalopoulos/Xenakis",
         "41.0",
         "12.0",
         "0.0"
        ],
        [
         "45",
         "102888",
         "103350",
         "Vorobvev/Zabuslayev",
         null,
         null,
         null
        ],
        [
         "46",
         "102900",
         "104216",
         "Rado/Litva",
         null,
         null,
         null
        ],
        [
         "47",
         "103108",
         "104336",
         "Klemperer/Koreng",
         null,
         null,
         null
        ],
        [
         "48",
         "103109",
         "101480",
         "Reckermann/Dieckmann M.",
         null,
         null,
         null
        ],
        [
         "49",
         "103311",
         "103310",
         "Herrera/Mesa",
         "17.0",
         "80.0",
         "150000.0"
        ]
       ],
       "shape": {
        "columns": 6,
        "rows": 177143
       }
      },
      "text/html": [
       "<div>\n",
       "<style scoped>\n",
       "    .dataframe tbody tr th:only-of-type {\n",
       "        vertical-align: middle;\n",
       "    }\n",
       "\n",
       "    .dataframe tbody tr th {\n",
       "        vertical-align: top;\n",
       "    }\n",
       "\n",
       "    .dataframe thead th {\n",
       "        text-align: right;\n",
       "    }\n",
       "</style>\n",
       "<table border=\"1\" class=\"dataframe\">\n",
       "  <thead>\n",
       "    <tr style=\"text-align: right;\">\n",
       "      <th></th>\n",
       "      <th>NoPlayer1</th>\n",
       "      <th>NoPlayer2</th>\n",
       "      <th>Name</th>\n",
       "      <th>Rank</th>\n",
       "      <th>EarnedPointsTeam</th>\n",
       "      <th>EarningsTeam</th>\n",
       "    </tr>\n",
       "  </thead>\n",
       "  <tbody>\n",
       "    <tr>\n",
       "      <th>0</th>\n",
       "      <td>100047</td>\n",
       "      <td>117538</td>\n",
       "      <td>Prokopiev/Kuzmichev</td>\n",
       "      <td>NaN</td>\n",
       "      <td>NaN</td>\n",
       "      <td>NaN</td>\n",
       "    </tr>\n",
       "    <tr>\n",
       "      <th>1</th>\n",
       "      <td>100088</td>\n",
       "      <td>101634</td>\n",
       "      <td>Heese/Cadieux</td>\n",
       "      <td>17.0</td>\n",
       "      <td>80.0</td>\n",
       "      <td>150000.0</td>\n",
       "    </tr>\n",
       "    <tr>\n",
       "      <th>2</th>\n",
       "      <td>100096</td>\n",
       "      <td>115198</td>\n",
       "      <td>Bosma/Ortiz</td>\n",
       "      <td>NaN</td>\n",
       "      <td>NaN</td>\n",
       "      <td>NaN</td>\n",
       "    </tr>\n",
       "    <tr>\n",
       "      <th>3</th>\n",
       "      <td>100206</td>\n",
       "      <td>103751</td>\n",
       "      <td>Nalbert/Dulinski</td>\n",
       "      <td>25.0</td>\n",
       "      <td>40.0</td>\n",
       "      <td>100000.0</td>\n",
       "    </tr>\n",
       "    <tr>\n",
       "      <th>4</th>\n",
       "      <td>100302</td>\n",
       "      <td>102374</td>\n",
       "      <td>Kjemperud/Skarlund</td>\n",
       "      <td>17.0</td>\n",
       "      <td>80.0</td>\n",
       "      <td>150000.0</td>\n",
       "    </tr>\n",
       "    <tr>\n",
       "      <th>...</th>\n",
       "      <td>...</td>\n",
       "      <td>...</td>\n",
       "      <td>...</td>\n",
       "      <td>...</td>\n",
       "      <td>...</td>\n",
       "      <td>...</td>\n",
       "    </tr>\n",
       "    <tr>\n",
       "      <th>177138</th>\n",
       "      <td>219123</td>\n",
       "      <td>219124</td>\n",
       "      <td>Affentranger/Eugster</td>\n",
       "      <td>NaN</td>\n",
       "      <td>NaN</td>\n",
       "      <td>NaN</td>\n",
       "    </tr>\n",
       "    <tr>\n",
       "      <th>177139</th>\n",
       "      <td>182786</td>\n",
       "      <td>181719</td>\n",
       "      <td>Auziņš G./Liepa</td>\n",
       "      <td>NaN</td>\n",
       "      <td>NaN</td>\n",
       "      <td>NaN</td>\n",
       "    </tr>\n",
       "    <tr>\n",
       "      <th>177140</th>\n",
       "      <td>172468</td>\n",
       "      <td>117847</td>\n",
       "      <td>Riko/Take</td>\n",
       "      <td>NaN</td>\n",
       "      <td>NaN</td>\n",
       "      <td>NaN</td>\n",
       "    </tr>\n",
       "    <tr>\n",
       "      <th>177141</th>\n",
       "      <td>172468</td>\n",
       "      <td>117847</td>\n",
       "      <td>Riko/Take</td>\n",
       "      <td>NaN</td>\n",
       "      <td>NaN</td>\n",
       "      <td>NaN</td>\n",
       "    </tr>\n",
       "    <tr>\n",
       "      <th>177142</th>\n",
       "      <td>162812</td>\n",
       "      <td>153243</td>\n",
       "      <td>Álvarez M/Moreno</td>\n",
       "      <td>NaN</td>\n",
       "      <td>NaN</td>\n",
       "      <td>NaN</td>\n",
       "    </tr>\n",
       "  </tbody>\n",
       "</table>\n",
       "<p>177143 rows × 6 columns</p>\n",
       "</div>"
      ],
      "text/plain": [
       "        NoPlayer1  NoPlayer2                  Name  Rank  EarnedPointsTeam  \\\n",
       "0          100047     117538   Prokopiev/Kuzmichev   NaN               NaN   \n",
       "1          100088     101634         Heese/Cadieux  17.0              80.0   \n",
       "2          100096     115198           Bosma/Ortiz   NaN               NaN   \n",
       "3          100206     103751      Nalbert/Dulinski  25.0              40.0   \n",
       "4          100302     102374    Kjemperud/Skarlund  17.0              80.0   \n",
       "...           ...        ...                   ...   ...               ...   \n",
       "177138     219123     219124  Affentranger/Eugster   NaN               NaN   \n",
       "177139     182786     181719       Auziņš G./Liepa   NaN               NaN   \n",
       "177140     172468     117847             Riko/Take   NaN               NaN   \n",
       "177141     172468     117847             Riko/Take   NaN               NaN   \n",
       "177142     162812     153243      Álvarez M/Moreno   NaN               NaN   \n",
       "\n",
       "        EarningsTeam  \n",
       "0                NaN  \n",
       "1           150000.0  \n",
       "2                NaN  \n",
       "3           100000.0  \n",
       "4           150000.0  \n",
       "...              ...  \n",
       "177138           NaN  \n",
       "177139           NaN  \n",
       "177140           NaN  \n",
       "177141           NaN  \n",
       "177142           NaN  \n",
       "\n",
       "[177143 rows x 6 columns]"
      ]
     },
     "execution_count": 16,
     "metadata": {},
     "output_type": "execute_result"
    }
   ],
   "source": [
    "#NAs entfernen, Variablen umcodieren\n",
    "BeachTeams_df"
   ]
  },
  {
   "cell_type": "markdown",
   "id": "c43e7c33",
   "metadata": {},
   "source": [
    "#### BeachTournaments "
   ]
  },
  {
   "cell_type": "code",
   "execution_count": 20,
   "id": "2fa7d572",
   "metadata": {},
   "outputs": [],
   "source": [
    "BeachTournament_df1 = pd.read_csv('beach_tournaments1.csv')# dtype={'NoPlayer1':'Int64', 'NoPlayer2': 'Int64'})\n",
    "BeachTournament_df2 = pd.read_csv('beach_tournaments2.csv')\n",
    "BeachTournament_df3 = pd.read_csv('beach_tournaments3.csv')\n",
    "BeachTournament_df4 = pd.read_csv('beach_tournaments4.csv')\n",
    "BeachTournament_df5 = pd.read_csv('beach_tournaments5.csv')\n",
    "\n",
    "DF_tournament = pd.concat([BeachTournament_df1, BeachTournament_df2,\n",
    "                          BeachTournament_df3, BeachTournament_df4,\n",
    "                          BeachTournament_df5], ignore_index=True, axis =0)"
   ]
  },
  {
   "cell_type": "markdown",
   "id": "be51b718",
   "metadata": {},
   "source": [
    "####  List of Players/Teams (beide enthalten)"
   ]
  },
  {
   "cell_type": "code",
   "execution_count": 32,
   "id": "173e6818",
   "metadata": {},
   "outputs": [],
   "source": [
    "Df_player = pd.read_csv('player_list.csv', sep=';')"
   ]
  },
  {
   "cell_type": "markdown",
   "id": "cdb58da6",
   "metadata": {},
   "source": [
    "#### Player list (individuell)"
   ]
  },
  {
   "cell_type": "code",
   "execution_count": 39,
   "id": "7b0636eb",
   "metadata": {},
   "outputs": [],
   "source": [
    "import os\n",
    "import pandas as pd\n",
    "from pathlib import Path\n",
    "\n",
    "# Pfad zum Ordner mit den CSV-Dateien\n",
    "ordner = Path(\"C:/Users/Katharina/Desktop/Weiterbildung/Bootcamp/Bootcamp/SupervisedML/BeachvolleyballData\")  # Passe den Ordnerpfad bei Bedarf an\n",
    "\n",
    "# Leere Liste für DataFrames\n",
    "dfs = []\n",
    "\n",
    "# Alle Dateien im Ordner durchgehen\n",
    "for dateiname in os.listdir(ordner):\n",
    "    # Nur CSV-Dateien, die mit \"player_list_ind\" anfangen\n",
    "    if dateiname.startswith(\"player_list_ind\") and dateiname.endswith(\".csv\"):\n",
    "        dateipfad = ordner / dateiname\n",
    "        df = pd.read_csv(dateipfad, sep=';')\n",
    "        dfs.append(df)\n",
    "\n",
    "# Alle geladenen DataFrames zusammenfügen\n",
    "df_gesamt = pd.concat(dfs, ignore_index=True)\n",
    "\n",
    "\n"
   ]
  },
  {
   "cell_type": "markdown",
   "id": "0ea50160",
   "metadata": {},
   "source": [
    "## Beach Tournaments 2024"
   ]
  },
  {
   "cell_type": "code",
   "execution_count": 30,
   "id": "c9a7adf7",
   "metadata": {},
   "outputs": [],
   "source": [
    "Df_tourn1 = pd.read_csv('Tournaments2024_all.csv', sep=';')\n",
    "Df_tourn2 = pd.read_csv('Tournaments2024_all_part2.csv', sep=';')\n",
    "\n",
    "DF_tournament_all = pd.concat([Df_tourn1, Df_tourn2])\n",
    "cols = ['Name','DefaultCity', 'No','Title', 'StartDate', 'StartDateMainDraw',  'EndDateMainDraw']\n",
    "DF_tournament_short = DF_tournament_all.loc[:,cols]\n",
    "#"
   ]
  },
  {
   "cell_type": "markdown",
   "id": "c64a0aec",
   "metadata": {},
   "source": [
    "## BeachMatches "
   ]
  },
  {
   "cell_type": "code",
   "execution_count": 23,
   "id": "de2486ce",
   "metadata": {},
   "outputs": [],
   "source": [
    "BeachMatches = pd.read_csv('BeachMatchList_full.csv', sep=';')"
   ]
  },
  {
   "cell_type": "code",
   "execution_count": 27,
   "id": "b1ad9663",
   "metadata": {},
   "outputs": [
    {
     "data": {
      "text/plain": [
       "Index(['Actions', 'BuyTicketsUrl', 'Code', 'CountryCode', 'CountryName',\n",
       "       'Deadline', 'DefaultCity', 'DefaultLocalTimeOffset',\n",
       "       'DefaultMatchFormat', 'DefaultTimeZone', 'DefaultVenue',\n",
       "       'DispatchMethod', 'DispatchStatus', 'EarningsCurrencyCode',\n",
       "       'EndDateFederationQuota', 'EndDateMainDraw', 'EndDateQualification',\n",
       "       'EntryPointsBaseDate', 'EntryPointsDayOffset', 'EntryPointsTemplateNo',\n",
       "       'EventAuxiliaryPersons', 'EventLogos', 'FederationCode', 'Gender',\n",
       "       'IsFreeEntrance', 'IsVisManaged', 'Logos', 'MatchPointsMethod',\n",
       "       'MaxRegisterFederation', 'MaxRegisterHost', 'MaxReserveTeams',\n",
       "       'MaxTeamsDispatchFederation', 'MaxTeamsDispatchHost',\n",
       "       'MaxTeamsFederation', 'MaxTeamsHost', 'MaxTeamsMainDrawFederation',\n",
       "       'MaxTeamsMainDrawHost', 'MinConfederationTeams', 'MinTeamsDispatchHost',\n",
       "       'Name', 'NbTeamsFromQualification', 'NbTeamsMainDraw',\n",
       "       'NbTeamsQualification', 'NbUploads', 'NbWildCards', 'No', 'NoEvent',\n",
       "       'NoTemplateEarnedPoints', 'NoTemplatePrizeMoney', 'OrganizerCode',\n",
       "       'OrganizerType', 'Parameters', 'PreliminaryInquiryMainDraw',\n",
       "       'PreliminaryInquiryQualification', 'Season', 'SeedPointsBaseDate',\n",
       "       'SeedPointsDayOffset', 'SeedPointsTemplateNo', 'StartDate',\n",
       "       'StartDateFederationQuota', 'StartDateMainDraw',\n",
       "       'StartDateQualification', 'Status', 'TechnicalEntryPointsTemplateNo',\n",
       "       'TechnicalSeedPointsTemplateNo', 'Title', 'Type', 'Version', 'WebSite',\n",
       "       'Draws'],\n",
       "      dtype='object')"
      ]
     },
     "execution_count": 27,
     "metadata": {},
     "output_type": "execute_result"
    }
   ],
   "source": [
    "DF_tournament_all.columns"
   ]
  },
  {
   "cell_type": "code",
   "execution_count": 26,
   "id": "a5b97455",
   "metadata": {},
   "outputs": [
    {
     "data": {
      "text/plain": [
       "Index(['@NoInTournament', '@LocalDate', '@LocalTime', '@TeamAName',\n",
       "       '@TeamBName', '@Court', '@MatchPointsA', '@MatchPointsB',\n",
       "       '@PointsTeamASet1', '@PointsTeamBSet1', '@PointsTeamASet2',\n",
       "       '@PointsTeamBSet2', '@PointsTeamASet3', '@PointsTeamBSet3',\n",
       "       '@DurationSet1', '@DurationSet2', '@DurationSet3', '@No', '@Version'],\n",
       "      dtype='object')"
      ]
     },
     "execution_count": 26,
     "metadata": {},
     "output_type": "execute_result"
    }
   ],
   "source": [
    "BeachMatches.columns"
   ]
  }
 ],
 "metadata": {
  "kernelspec": {
   "display_name": ".venv",
   "language": "python",
   "name": "python3"
  },
  "language_info": {
   "codemirror_mode": {
    "name": "ipython",
    "version": 3
   },
   "file_extension": ".py",
   "mimetype": "text/x-python",
   "name": "python",
   "nbconvert_exporter": "python",
   "pygments_lexer": "ipython3",
   "version": "3.13.1"
  }
 },
 "nbformat": 4,
 "nbformat_minor": 5
}
