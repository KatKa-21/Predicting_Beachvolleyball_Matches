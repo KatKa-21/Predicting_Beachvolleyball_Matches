{
 "cells": [
  {
   "cell_type": "markdown",
   "id": "68474640",
   "metadata": {},
   "source": [
    "## Untersuchen Tournament data"
   ]
  },
  {
   "cell_type": "code",
   "execution_count": 2,
   "id": "cc15ee77",
   "metadata": {},
   "outputs": [],
   "source": [
    "import os\n",
    "import pandas as pd"
   ]
  },
  {
   "cell_type": "code",
   "execution_count": 3,
   "id": "645d16d9",
   "metadata": {},
   "outputs": [
    {
     "name": "stdout",
     "output_type": "stream",
     "text": [
      "C:\\Users\\Katharina\\Desktop\\Weiterbildung\\Bootcamp\\Bootcamp\\Final_project\\data\n"
     ]
    }
   ],
   "source": [
    "#Verzeichnis anpassen\n",
    "\n",
    "os.chdir('C:/Users/Katharina/Desktop/Weiterbildung/Bootcamp/Bootcamp/Final_project/data')\n",
    "print(os.getcwd())"
   ]
  },
  {
   "cell_type": "code",
   "execution_count": null,
   "id": "6fc3b379",
   "metadata": {},
   "outputs": [],
   "source": [
    "# tourn1 = pd.read_csv('df_clean.csv', sep=';')\n",
    "# tourn2 = pd.read_csv('df_clean2.csv', sep=';')\n",
    "# tourn3 = pd.read_csv('clean45.csv', sep=';')\n",
    "# tourn4 = pd.read_csv('clean5.csv', sep=';')\n",
    "# tourn5 = pd.read_csv('Tournaments7575_7576.csv', sep=';')\n"
   ]
  },
  {
   "cell_type": "markdown",
   "id": "3d7d9a6f",
   "metadata": {},
   "source": [
    "tourn1"
   ]
  },
  {
   "cell_type": "code",
   "execution_count": 15,
   "id": "a3f45faa",
   "metadata": {},
   "outputs": [],
   "source": [
    "Df_tourn1 = pd.read_csv('Tournaments2024_all.csv', sep=';')\n",
    "Df_tourn2 = pd.read_csv('Tournaments2024_all_part2.csv', sep=';')\n",
    "\n",
    "# DF_tournament_all = pd.concat([Df_tourn1, Df_tourn2])\n",
    "# DF_tournament_all['No'] = DF_tournament_all['No'].astype(str)\n",
    "# cols = ['Name','DefaultCity', 'No','Title', 'StartDate', 'StartDateMainDraw',  'EndDateMainDraw', 'CountryName']\n",
    "# DF_tournament_short = DF_tournament_all.loc[:,cols]"
   ]
  },
  {
   "cell_type": "markdown",
   "id": "a3116601",
   "metadata": {},
   "source": [
    "tourn2"
   ]
  },
  {
   "cell_type": "code",
   "execution_count": 16,
   "id": "5cc4938b",
   "metadata": {},
   "outputs": [],
   "source": [
    "tourn2 = pd.read_csv('df_clean2.csv', sep=';')"
   ]
  },
  {
   "cell_type": "markdown",
   "id": "2d4e579b",
   "metadata": {},
   "source": [
    "tourn3 "
   ]
  },
  {
   "cell_type": "code",
   "execution_count": 17,
   "id": "47436b33",
   "metadata": {},
   "outputs": [],
   "source": [
    "testT1 = pd.read_csv('test_tournament6000_6400.csv', sep=';')\n",
    "testT2 = pd.read_csv('test_tournament6400_6900.csv', sep=';')\n",
    "testT3 = pd.read_csv('test_tournament6900_7481.csv', sep=';')"
   ]
  },
  {
   "cell_type": "markdown",
   "id": "da336fb2",
   "metadata": {},
   "source": [
    "tourn4  == clean5"
   ]
  },
  {
   "cell_type": "code",
   "execution_count": 18,
   "id": "7daf0e8e",
   "metadata": {},
   "outputs": [],
   "source": [
    "testT4 = pd.read_csv('test_tournament4000_5000.csv', sep=';')\n",
    "testT5 = pd.read_csv('test_tournament5000_6000.csv', sep=';')\n",
    "testT6 = pd.read_csv('test_tournament6000.csv', sep=';')\n"
   ]
  },
  {
   "cell_type": "code",
   "execution_count": 19,
   "id": "145c5a69",
   "metadata": {},
   "outputs": [],
   "source": [
    "## alle zusammenfügen\n",
    "Dat_comp = pd.concat([Df_tourn1, Df_tourn2, tourn2, testT1, testT2, testT3, testT4, testT5, testT6])"
   ]
  },
  {
   "cell_type": "code",
   "execution_count": 20,
   "id": "77dd68c7",
   "metadata": {},
   "outputs": [],
   "source": [
    "Dat_comp2 = Dat_comp.drop_duplicates(subset=['No'])"
   ]
  },
  {
   "cell_type": "code",
   "execution_count": 23,
   "id": "321c9acd",
   "metadata": {},
   "outputs": [],
   "source": [
    "#anhand von type Tournaments auswählen\n",
    "\n",
    "filter1 = [4,5,6,10,32,33,38,39,40,41,42,51,52,53]\n",
    "#clean44 = clean4.loc[clean4['Type'].isin(filter1)]\n",
    "Dat_comp3 = Dat_comp2.loc[Dat_comp2['Type'].isin(filter1)]"
   ]
  },
  {
   "cell_type": "code",
   "execution_count": 24,
   "id": "1946bc34",
   "metadata": {},
   "outputs": [],
   "source": [
    "Dat_comp3.to_csv('Alle_Tuniere.csv', index=False, sep=';')"
   ]
  },
  {
   "cell_type": "code",
   "execution_count": 26,
   "id": "39616ecd",
   "metadata": {},
   "outputs": [],
   "source": [
    "Dat_comp4 = Dat_comp3.copy()\n",
    "Dat_comp4['No'] = Dat_comp4['No'].astype(str)"
   ]
  },
  {
   "cell_type": "markdown",
   "id": "293b2439",
   "metadata": {},
   "source": [
    "## vergleichen mit den statistiken "
   ]
  },
  {
   "cell_type": "code",
   "execution_count": 28,
   "id": "7215c017",
   "metadata": {},
   "outputs": [],
   "source": [
    "import glob\n",
    "# Alle passenden CSV-Dateien im aktuellen Verzeichnis finden\n",
    "csv_files = glob.glob(\"tournament_statistics_*.csv\")"
   ]
  },
  {
   "cell_type": "code",
   "execution_count": 32,
   "id": "47973626",
   "metadata": {},
   "outputs": [],
   "source": [
    "import re\n",
    "# Extrahiere die Nummern aus den Dateinamen\n",
    "nummern = [re.search(r'_(\\d+)\\.csv', name).group(1) for name in csv_files]\n",
    "\n",
    "# Prüfen, ob diese Nummern in der DataFrame-Spalte vorkommen\n",
    "Dat_comp4['check'] = Dat_comp4['No'].isin(nummern)"
   ]
  },
  {
   "cell_type": "code",
   "execution_count": null,
   "id": "f1ba3251",
   "metadata": {},
   "outputs": [],
   "source": [
    "#Gecancellte TUniere entfernen\n",
    "Dat_comp5 = Dat_comp4.copy()\n",
    "Dat_comp5 = Dat_comp5[~Dat_comp5['Title'].str.contains('cancelled', case=False, na=False)]\n",
    "Dat_comp6 = Dat_comp5[~Dat_comp5['Title'].str.contains('Canceled', case=False, na=False)]\n"
   ]
  },
  {
   "cell_type": "code",
   "execution_count": 43,
   "id": "d69200ae",
   "metadata": {},
   "outputs": [],
   "source": [
    "Dat_comp7 = Dat_comp6.copy()\n",
    "Dat_comp7['check'] = Dat_comp7['check'].astype(bool)\n",
    "Dat_comp7 = Dat_comp7[~((Dat_comp7['StartDate'].str.startswith('2025')) & (Dat_comp7['check'] == False))]"
   ]
  },
  {
   "cell_type": "code",
   "execution_count": 46,
   "id": "607c5231",
   "metadata": {},
   "outputs": [],
   "source": [
    "fehlendeTuniere = Dat_comp7[Dat_comp7['check'] == False]\n",
    "fehlendeTuniere_NO = fehlendeTuniere['No']"
   ]
  },
  {
   "cell_type": "code",
   "execution_count": 48,
   "id": "8f4696f4",
   "metadata": {},
   "outputs": [],
   "source": [
    "fehlendeTuniere_NO.to_csv('missingTournaments.csv', index=False, sep=';')"
   ]
  },
  {
   "cell_type": "markdown",
   "id": "d322cae5",
   "metadata": {},
   "source": [
    "##### vergleichenmit den alten csv-files"
   ]
  },
  {
   "cell_type": "code",
   "execution_count": 49,
   "id": "3199f67a",
   "metadata": {},
   "outputs": [],
   "source": [
    "csv2 = glob.glob(\"tournament_statistics_*.csv\")"
   ]
  },
  {
   "cell_type": "code",
   "execution_count": null,
   "id": "5345c686",
   "metadata": {},
   "outputs": [],
   "source": [
    "#vergleich \n",
    "fehlend_in_liste2 = list(set(csv2) - set(csv_files))\n",
    "fehlend_in_liste2\n",
    "\n",
    "#56 neue tuniere"
   ]
  },
  {
   "cell_type": "code",
   "execution_count": 58,
   "id": "04c18561",
   "metadata": {},
   "outputs": [],
   "source": [
    "nummern2 = [re.search(r'_(\\d+)\\.csv', name).group(1) for name in csv2]\n",
    "\n",
    "# Prüfen, ob diese Nummern in der DataFrame-Spalte vorkommen\n",
    "Dat_comp7['check2'] = Dat_comp7['No'].isin(nummern2)\n"
   ]
  },
  {
   "cell_type": "code",
   "execution_count": 59,
   "id": "3ac44810",
   "metadata": {},
   "outputs": [],
   "source": [
    "#Tuniere finalisieren\n",
    "Dat_comp8 = Dat_comp7.copy()\n",
    "Dat_comp8 = Dat_comp8[~Dat_comp8['check2']==False]"
   ]
  },
  {
   "cell_type": "code",
   "execution_count": 60,
   "id": "81a24574",
   "metadata": {},
   "outputs": [],
   "source": [
    "Dat_comp8.to_csv('Alle_Tuniere_final.csv', index=False, sep=';')"
   ]
  },
  {
   "cell_type": "markdown",
   "id": "0021bfdd",
   "metadata": {},
   "source": [
    "### Daten zusammenführen"
   ]
  },
  {
   "cell_type": "code",
   "execution_count": 16,
   "id": "9bc289d8",
   "metadata": {},
   "outputs": [],
   "source": [
    "Tuniere = pd.read_csv('Alle_Tuniere_final.csv', sep=';')"
   ]
  },
  {
   "cell_type": "code",
   "execution_count": 17,
   "id": "b5dd4feb",
   "metadata": {},
   "outputs": [],
   "source": [
    "Tuniere1 = Tuniere.copy()\n",
    "Tuniere1['No'] = Tuniere1['No'].astype(str)"
   ]
  },
  {
   "cell_type": "code",
   "execution_count": null,
   "id": "8ff9cca2",
   "metadata": {},
   "outputs": [],
   "source": [
    "import glob\n",
    "import re\n",
    "# CSV-Dateien im aktuellen Verzeichnis finden\n",
    "csv_files = glob.glob(\"tournament_statistics_*.csv\")\n",
    "\n",
    "# Zwei leere Listen für die Gruppen\n",
    "df_list_30 = []\n",
    "df_list_mixed = []\n",
    "\n",
    "for file in csv_files:\n",
    "    df = pd.read_csv(file, sep='\\t')\n",
    "    \n",
    "    # Turniernummer aus Dateinamen extrahieren\n",
    "    match = re.search(r'tournament_statistics_(\\d+)\\.csv', os.path.basename(file))\n",
    "    if match:\n",
    "        df[\"TournamentNo\"] = match.group(1)\n",
    "    else:\n",
    "        df[\"TournamentNo\"] = None\n",
    "\n",
    "    # Unterscheidung nach Typ\n",
    "    if 'ItemType' in df.columns:\n",
    "        types = df['ItemType'].astype(str).unique()\n",
    "        if set(types) == {'30'}:\n",
    "            df_list_30.append(df)\n",
    "        elif '11' in types:\n",
    "            df_list_mixed.append(df)\n",
    "        else:\n",
    "            print(f\"Unerwartete Typen in {file}: {types}\")\n",
    "    else:\n",
    "        print(f\"'Type' column missing in {file}, skipping...\")\n",
    "\n",
    "# Zu einem DataFrame zusammenfügen\n",
    "combined_30 = pd.concat(df_list_30, ignore_index=True)\n",
    "combined_mixed = pd.concat(df_list_mixed, ignore_index=True)\n",
    "\n",
    "Daten_all = pd.concat([combined_30, combined_mixed], ignore_index=True, sort=False)\n",
    "#object"
   ]
  },
  {
   "cell_type": "code",
   "execution_count": 14,
   "id": "0e14fced",
   "metadata": {},
   "outputs": [],
   "source": [
    "Daten_all1 = Daten_all.copy()\n",
    "Daten_all1['NoMatch'] = Daten_all1['NoMatch'].astype(str)"
   ]
  },
  {
   "cell_type": "code",
   "execution_count": 11,
   "id": "0cc60ebe",
   "metadata": {},
   "outputs": [],
   "source": [
    "BeachMatches = pd.read_csv('BeachMatchList_full.csv', sep=';') #int"
   ]
  },
  {
   "cell_type": "code",
   "execution_count": 12,
   "id": "78ad928b",
   "metadata": {},
   "outputs": [],
   "source": [
    "BeachMatches1 = BeachMatches.copy()\n",
    "BeachMatches1['@No'] = BeachMatches1['@No'].astype(str)"
   ]
  },
  {
   "cell_type": "code",
   "execution_count": 15,
   "id": "1a578918",
   "metadata": {},
   "outputs": [],
   "source": [
    "#Zusammenführen von Spielstatistiken und Matches\n",
    "\n",
    "Combined_Stat = Daten_all1.merge(BeachMatches1, left_on = 'NoMatch', right_on='@No', how= 'left')"
   ]
  },
  {
   "cell_type": "code",
   "execution_count": null,
   "id": "f245c8a5",
   "metadata": {},
   "outputs": [],
   "source": [
    "#mit Tournaments mergen\n",
    "\n",
    "#Dat_Merge = Combined_Stat.merge(Tuniere1, left_on='TournamentNo', right_on='No', how='left')"
   ]
  },
  {
   "cell_type": "code",
   "execution_count": 21,
   "id": "b516c0a9",
   "metadata": {},
   "outputs": [],
   "source": [
    "Dat_Merge1 = Tuniere1.merge(Combined_Stat, right_on='TournamentNo', left_on='No', how='left')"
   ]
  },
  {
   "cell_type": "code",
   "execution_count": null,
   "id": "c8c81409",
   "metadata": {},
   "outputs": [],
   "source": [
    "#DatNo = Dat_Merge1[['NoMatch', '@TeamAName', '@TeamBName']]"
   ]
  },
  {
   "cell_type": "code",
   "execution_count": null,
   "id": "7f48db7f",
   "metadata": {},
   "outputs": [],
   "source": [
    "#DatNo.to_csv('FehlInfo.csv', index=False, sep=';')"
   ]
  },
  {
   "cell_type": "markdown",
   "id": "6a1504e6",
   "metadata": {},
   "source": [
    "### Daten auf Koordinaten vorbereiten"
   ]
  },
  {
   "cell_type": "code",
   "execution_count": 22,
   "id": "691d7ad0",
   "metadata": {},
   "outputs": [],
   "source": [
    "#1. Aufteilen in City befüllt und City nicht befüllt\n",
    "Dat_Merge1['DefaultCity'].value_counts()\n",
    "\n",
    "CityNA = Dat_Merge1[Dat_Merge1['DefaultCity'].isna()]\n",
    "City_Full = Dat_Merge1[~Dat_Merge1['DefaultCity'].isna()]"
   ]
  },
  {
   "cell_type": "code",
   "execution_count": 29,
   "id": "3a90fe86",
   "metadata": {},
   "outputs": [],
   "source": [
    "#in Name_x ist Ort enthalten --> in DefaultCity schreiben\n",
    "#CityNA[['Title', 'Name_x']].drop_duplicates()\n",
    "CityNA1 = CityNA.copy()\n",
    "CityNA1['DefaultCity'] = CityNA1['Name_x']"
   ]
  },
  {
   "cell_type": "code",
   "execution_count": 33,
   "id": "f118700b",
   "metadata": {},
   "outputs": [],
   "source": [
    "import pandas as pd\n",
    "import numpy as np\n",
    "\n",
    "# Angenommen, dein DataFrame heißt df und die Spalte mit Turniernamen heißt \"TournamentName\"\n",
    "df = CityNA1.copy()#.dropna(subset=[\"Name_y\"])  # NaN entfernen, falls vorhanden\n",
    "\n",
    "\n",
    "# Schritt 1: Alle Einträge mit **nur einem Wort** (keine Leerzeichen)\n",
    "df[\"Ort\"] = pd.Series(dtype=\"object\")  # Neue Spalte initialisieren\n",
    "\n",
    "maske_ein_wort = df[\"DefaultCity\"].str.strip().str.count(r'\\s') == 0\n",
    "df.loc[maske_ein_wort, \"Ort\"] = df.loc[maske_ein_wort, \"DefaultCity\"].str.strip()\n",
    "\n",
    "# Schritt 2: Aus den übrigen Zeilen – Ort nach Bindestrich extrahieren\n",
    "# Nur Zeilen ohne bereits gesetzten Ort\n",
    "maske_mit_bindestrich = df[\"Ort\"].isna() & df[\"DefaultCity\"].str.contains(\" - \")\n",
    "\n",
    "# Regex: alles nach dem letzten \" - \" wird als Ort interpretiert\n",
    "df.loc[maske_mit_bindestrich, \"Ort\"] = df.loc[maske_mit_bindestrich, \"DefaultCity\"].str.extract(r\" - ([^-\\n\\r]+)$\")[0].str.strip()\n",
    "\n",
    "# Optional: Die Zeilen, die keinen Ort haben, explizit mit 'Unbekannt' befüllen (oder eine andere Default-Wert)\n",
    "df[\"Ort\"] = df[\"Ort\"].fillna(\"Unbekannt\")\n",
    "\n",
    "# Optional: Duplikate in der Ort-Spalte beibehalten (keine Entfernung)\n",
    "df_mit_ort = df[df[\"Ort\"].notna()].copy()\n"
   ]
  },
  {
   "cell_type": "code",
   "execution_count": 34,
   "id": "3e0acc3a",
   "metadata": {},
   "outputs": [
    {
     "data": {
      "application/vnd.microsoft.datawrangler.viewer.v0+json": {
       "columns": [
        {
         "name": "index",
         "rawType": "int64",
         "type": "integer"
        },
        {
         "name": "Ort",
         "rawType": "object",
         "type": "string"
        },
        {
         "name": "DefaultCity",
         "rawType": "object",
         "type": "string"
        }
       ],
       "conversionMethod": "pd.DataFrame",
       "ref": "3e34813e-1df7-41f5-a32d-3e5a8e94f670",
       "rows": [
        [
         "19597",
         "Ljubljana",
         "Ljubljana"
        ],
        [
         "20717",
         "Balıkesir",
         "Balıkesir"
        ],
        [
         "20941",
         "Bialystok",
         "Bialystok"
        ],
        [
         "21165",
         "Unbekannt",
         "Giardini Naxos"
        ],
        [
         "21389",
         "Lecce",
         "Lecce"
        ],
        [
         "32504",
         "Lille",
         "Lille"
        ],
        [
         "34120",
         "Helsinki",
         "Helsinki"
        ],
        [
         "36240",
         "Unbekannt",
         "Corigliano Rossano"
        ],
        [
         "37472",
         "Brno",
         "Brno"
        ],
        [
         "37632",
         "Madrid",
         "Madrid"
        ],
        [
         "37744",
         "Cervia",
         "Cervia"
        ],
        [
         "37968",
         "Budapest",
         "Budapest"
        ],
        [
         "38192",
         "Koropove",
         "Koropove"
        ],
        [
         "38296",
         "Cortegaça",
         "Cortegaça"
        ],
        [
         "38540",
         "Apeldoorn",
         "Apeldoorn"
        ],
        [
         "38764",
         "Nijmegen",
         "Nijmegen"
        ],
        [
         "38988",
         "Warsaw",
         "Warsaw"
        ],
        [
         "39112",
         "Itapema",
         "Itapema"
        ],
        [
         "39560",
         "Tlaxcala",
         "Tlaxcala"
        ],
        [
         "44984",
         "Maldives",
         "Maldives"
        ],
        [
         "50020",
         "Tlaxcala, Mexico",
         "World Championships 2023 - Tlaxcala, Mexico"
        ],
        [
         "50668",
         "Tlaxcala Mexico",
         "World Championships 2023 - Tlaxcala Mexico"
        ],
        [
         "51316",
         "Göteborg",
         "CEV Satellite - Göteborg"
        ],
        [
         "51436",
         "Laholm",
         "CEV Satellite - Laholm"
        ],
        [
         "51556",
         "Vaduz",
         "CEV Satellite - Vaduz"
        ],
        [
         "51796",
         "Ljubljana",
         "CEV Satellite - Ljubljana"
        ],
        [
         "51876",
         "Unbekannt",
         "CEV Ljubljana Masters"
        ],
        [
         "51956",
         "Mersin",
         "CEV Satellite - Mersin"
        ],
        [
         "52196",
         "Unbekannt",
         "CEV Alanya Masters"
        ],
        [
         "52316",
         "Kharkiv",
         "CEV Satellite - Kharkiv"
        ],
        [
         "52436",
         "Siófok",
         "CEV Satellite - Siófok "
        ],
        [
         "52556",
         "Larnaca",
         "CEV Satellite - Larnaca"
        ],
        [
         "52796",
         "Vilnius",
         "CEV EEVZA Satellite - Vilnius"
        ],
        [
         "52916",
         "Satu Mare",
         "CEV Satellite - Satu Mare"
        ],
        [
         "53036",
         "Yantarny",
         "CEV EEVZA Satellite - Yantarny"
        ],
        [
         "53276",
         "Montpellier",
         "Montpellier"
        ],
        [
         "53340",
         "Baku",
         "CEV EEVZA Satellite - Baku"
        ],
        [
         "53580",
         "Aalsmeer",
         "Aalsmeer "
        ],
        [
         "53644",
         "Aalsmeer",
         "Aalsmeer"
        ],
        [
         "53708",
         "Sydney",
         "Sydney"
        ],
        [
         "54028",
         "Unbekannt",
         "The Hague"
        ],
        [
         "54476",
         "Unbekannt",
         "CEV Pelhrimov Masters"
        ],
        [
         "54700",
         "Shepparton",
         "Shepparton"
        ],
        [
         "54924",
         "Unbekannt",
         "Kish Island"
        ],
        [
         "55148",
         "Unbekannt",
         "Fort Lauderdale"
        ],
        [
         "55372",
         "Doha",
         "Doha"
        ],
        [
         "55596",
         "Oman",
         "Oman"
        ],
        [
         "56044",
         "Satun",
         "Satun"
        ],
        [
         "56268",
         "Xiamen",
         "Xiamen"
        ],
        [
         "56492",
         "Langkawi",
         "Langkawi"
        ]
       ],
       "shape": {
        "columns": 2,
        "rows": 133
       }
      },
      "text/html": [
       "<div>\n",
       "<style scoped>\n",
       "    .dataframe tbody tr th:only-of-type {\n",
       "        vertical-align: middle;\n",
       "    }\n",
       "\n",
       "    .dataframe tbody tr th {\n",
       "        vertical-align: top;\n",
       "    }\n",
       "\n",
       "    .dataframe thead th {\n",
       "        text-align: right;\n",
       "    }\n",
       "</style>\n",
       "<table border=\"1\" class=\"dataframe\">\n",
       "  <thead>\n",
       "    <tr style=\"text-align: right;\">\n",
       "      <th></th>\n",
       "      <th>Ort</th>\n",
       "      <th>DefaultCity</th>\n",
       "    </tr>\n",
       "  </thead>\n",
       "  <tbody>\n",
       "    <tr>\n",
       "      <th>19597</th>\n",
       "      <td>Ljubljana</td>\n",
       "      <td>Ljubljana</td>\n",
       "    </tr>\n",
       "    <tr>\n",
       "      <th>20717</th>\n",
       "      <td>Balıkesir</td>\n",
       "      <td>Balıkesir</td>\n",
       "    </tr>\n",
       "    <tr>\n",
       "      <th>20941</th>\n",
       "      <td>Bialystok</td>\n",
       "      <td>Bialystok</td>\n",
       "    </tr>\n",
       "    <tr>\n",
       "      <th>21165</th>\n",
       "      <td>Unbekannt</td>\n",
       "      <td>Giardini Naxos</td>\n",
       "    </tr>\n",
       "    <tr>\n",
       "      <th>21389</th>\n",
       "      <td>Lecce</td>\n",
       "      <td>Lecce</td>\n",
       "    </tr>\n",
       "    <tr>\n",
       "      <th>...</th>\n",
       "      <td>...</td>\n",
       "      <td>...</td>\n",
       "    </tr>\n",
       "    <tr>\n",
       "      <th>88462</th>\n",
       "      <td>1st event</td>\n",
       "      <td>Cancun Hub - 1st event</td>\n",
       "    </tr>\n",
       "    <tr>\n",
       "      <th>88910</th>\n",
       "      <td>2nd event</td>\n",
       "      <td>Cancun Hub - 2nd event</td>\n",
       "    </tr>\n",
       "    <tr>\n",
       "      <th>89358</th>\n",
       "      <td>3rd event</td>\n",
       "      <td>Cancun Hub - 3rd event</td>\n",
       "    </tr>\n",
       "    <tr>\n",
       "      <th>89806</th>\n",
       "      <td>Sochi</td>\n",
       "      <td>Sochi</td>\n",
       "    </tr>\n",
       "    <tr>\n",
       "      <th>91150</th>\n",
       "      <td>Prague</td>\n",
       "      <td>Prague</td>\n",
       "    </tr>\n",
       "  </tbody>\n",
       "</table>\n",
       "<p>133 rows × 2 columns</p>\n",
       "</div>"
      ],
      "text/plain": [
       "             Ort             DefaultCity\n",
       "19597  Ljubljana               Ljubljana\n",
       "20717  Balıkesir               Balıkesir\n",
       "20941  Bialystok               Bialystok\n",
       "21165  Unbekannt          Giardini Naxos\n",
       "21389      Lecce                   Lecce\n",
       "...          ...                     ...\n",
       "88462  1st event  Cancun Hub - 1st event\n",
       "88910  2nd event  Cancun Hub - 2nd event\n",
       "89358  3rd event  Cancun Hub - 3rd event\n",
       "89806      Sochi                   Sochi\n",
       "91150     Prague                  Prague\n",
       "\n",
       "[133 rows x 2 columns]"
      ]
     },
     "execution_count": 34,
     "metadata": {},
     "output_type": "execute_result"
    }
   ],
   "source": [
    "df_mit_ort[['Ort', 'DefaultCity']].drop_duplicates()"
   ]
  },
  {
   "cell_type": "code",
   "execution_count": 35,
   "id": "25f8811c",
   "metadata": {},
   "outputs": [],
   "source": [
    "#ID anfügen\n",
    "\n",
    "#Id anfügen\n",
    "df_mit_ort['ID_row'] = range(1, len(df_mit_ort) +1)\n",
    "df_mit_ort['ID_DefaultCity'] = df_mit_ort['DefaultCity'].astype('category').cat.codes"
   ]
  },
  {
   "cell_type": "code",
   "execution_count": 38,
   "id": "5c4aaf1d",
   "metadata": {},
   "outputs": [],
   "source": [
    "ort_adapt = df_mit_ort[['Ort', 'DefaultCity', 'ID_DefaultCity']].drop_duplicates()"
   ]
  },
  {
   "cell_type": "code",
   "execution_count": 39,
   "id": "4241acfa",
   "metadata": {},
   "outputs": [],
   "source": [
    "ort_adapt.to_csv('Ort_Noch_anpassen.csv', index=False, sep=';')"
   ]
  },
  {
   "cell_type": "code",
   "execution_count": 42,
   "id": "e97226ee",
   "metadata": {},
   "outputs": [],
   "source": [
    "#bearbeitete Datei wieder einlesen\n",
    "Dat_ort = pd.read_csv('Ort_Noch_anpassen.csv', sep=';')"
   ]
  },
  {
   "cell_type": "code",
   "execution_count": 44,
   "id": "7e0340ae",
   "metadata": {},
   "outputs": [],
   "source": [
    "#Datei wieder anfügen\n",
    "dat_ortF = df_mit_ort.merge(Dat_ort.iloc[:, [0, 2]], left_on='ID_DefaultCity', right_on='ID_DefaultCity', how='left')\n",
    "\n",
    "#Ort Neu angefügt\n",
    "dat_ortF2 = dat_ortF.copy()\n"
   ]
  },
  {
   "cell_type": "code",
   "execution_count": 45,
   "id": "2c2083f4",
   "metadata": {},
   "outputs": [],
   "source": [
    "dat_ortF2['DefaultCity'] = dat_ortF2['Ort_Neu']"
   ]
  },
  {
   "cell_type": "code",
   "execution_count": 48,
   "id": "5efa6d61",
   "metadata": {},
   "outputs": [],
   "source": [
    "#neue variablen entfernen\n",
    "dat_ortF3 = dat_ortF2.copy()\n",
    "dat_ortF3 = dat_ortF3.drop(['Ort', 'ID_row', 'ID_DefaultCity', 'Ort_Neu'], axis=1)"
   ]
  },
  {
   "cell_type": "code",
   "execution_count": 49,
   "id": "2206aede",
   "metadata": {},
   "outputs": [],
   "source": [
    "#Daten wieder zusammenfügen\n",
    "DatFinal = pd.concat([City_Full, dat_ortF3],ignore_index=True)\n"
   ]
  },
  {
   "cell_type": "code",
   "execution_count": 50,
   "id": "071ed4b3",
   "metadata": {},
   "outputs": [],
   "source": [
    "DatFinal.to_csv('Datenbestand_Final.csv', index=False, sep=';')"
   ]
  },
  {
   "cell_type": "code",
   "execution_count": null,
   "id": "11df939f",
   "metadata": {},
   "outputs": [],
   "source": [
    "#es gibt ein missing bei localtime -> entfernen"
   ]
  },
  {
   "cell_type": "code",
   "execution_count": 51,
   "id": "4ed4ee2f",
   "metadata": {},
   "outputs": [],
   "source": [
    "DatFinal1 = DatFinal[DatFinal['@LocalTime'].notna()]"
   ]
  },
  {
   "cell_type": "code",
   "execution_count": 52,
   "id": "014a8609",
   "metadata": {},
   "outputs": [],
   "source": [
    "DatFinal.to_csv('Datenbestand_Final1.csv', index=False, sep=';')"
   ]
  }
 ],
 "metadata": {
  "kernelspec": {
   "display_name": ".venv",
   "language": "python",
   "name": "python3"
  },
  "language_info": {
   "codemirror_mode": {
    "name": "ipython",
    "version": 3
   },
   "file_extension": ".py",
   "mimetype": "text/x-python",
   "name": "python",
   "nbconvert_exporter": "python",
   "pygments_lexer": "ipython3",
   "version": "3.13.1"
  }
 },
 "nbformat": 4,
 "nbformat_minor": 5
}
