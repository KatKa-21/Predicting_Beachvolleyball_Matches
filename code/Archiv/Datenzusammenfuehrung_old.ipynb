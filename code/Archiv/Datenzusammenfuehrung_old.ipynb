{
 "cells": [
  {
   "cell_type": "code",
   "execution_count": 85,
   "id": "1fa8a214",
   "metadata": {},
   "outputs": [],
   "source": [
    "import glob\n",
    "import os\n",
    "import re\n",
    "import pandas as pd"
   ]
  },
  {
   "cell_type": "code",
   "execution_count": 95,
   "id": "3a0f7bb8",
   "metadata": {},
   "outputs": [
    {
     "name": "stdout",
     "output_type": "stream",
     "text": [
      "C:\\Users\\Katharina\\Desktop\\Weiterbildung\\Bootcamp\\Bootcamp\\Final_project\\data\n"
     ]
    }
   ],
   "source": [
    "#Verzeichnis anpassen\n",
    "\n",
    "os.chdir('C:/Users/Katharina/Desktop/Weiterbildung/Bootcamp/Bootcamp/Final_project/data')\n",
    "print(os.getcwd())"
   ]
  },
  {
   "cell_type": "code",
   "execution_count": 87,
   "id": "c284d697",
   "metadata": {},
   "outputs": [],
   "source": [
    "# CSV-Dateien im aktuellen Verzeichnis finden\n",
    "csv_files = glob.glob(\"tournament_statistics_*.csv\")\n",
    "\n",
    "# Zwei leere Listen für die Gruppen\n",
    "df_list_30 = []\n",
    "df_list_mixed = []\n",
    "\n",
    "for file in csv_files:\n",
    "    df = pd.read_csv(file, sep='\\t')\n",
    "    \n",
    "    # Turniernummer aus Dateinamen extrahieren\n",
    "    match = re.search(r'tournament_statistics_(\\d+)\\.csv', os.path.basename(file))\n",
    "    if match:\n",
    "        df[\"TournamentNo\"] = match.group(1)\n",
    "    else:\n",
    "        df[\"TournamentNo\"] = None\n",
    "\n",
    "    # Unterscheidung nach Typ\n",
    "    if 'ItemType' in df.columns:\n",
    "        types = df['ItemType'].astype(str).unique()\n",
    "        if set(types) == {'30'}:\n",
    "            df_list_30.append(df)\n",
    "        elif '11' in types:\n",
    "            df_list_mixed.append(df)\n",
    "        else:\n",
    "            print(f\"Unerwartete Typen in {file}: {types}\")\n",
    "    else:\n",
    "        print(f\"'Type' column missing in {file}, skipping...\")\n",
    "\n",
    "# Zu einem DataFrame zusammenfügen\n",
    "combined_30 = pd.concat(df_list_30, ignore_index=True)\n",
    "combined_mixed = pd.concat(df_list_mixed, ignore_index=True)\n"
   ]
  },
  {
   "cell_type": "code",
   "execution_count": 88,
   "id": "62edf7fb",
   "metadata": {},
   "outputs": [],
   "source": [
    "Daten_all = pd.concat([combined_30, combined_mixed], ignore_index=True, sort=False)"
   ]
  },
  {
   "cell_type": "markdown",
   "id": "5aef95b1",
   "metadata": {},
   "source": [
    "es wird weitergearbeitet mit combined_mixed"
   ]
  },
  {
   "cell_type": "code",
   "execution_count": 89,
   "id": "5e4b6bbe",
   "metadata": {},
   "outputs": [],
   "source": [
    "BeachMatches = pd.read_csv('BeachMatchList_full.csv', sep=';')"
   ]
  },
  {
   "cell_type": "code",
   "execution_count": 90,
   "id": "0758f0eb",
   "metadata": {},
   "outputs": [],
   "source": [
    "#Zusammenführen von Spielstatistiken und Matches\n",
    "\n",
    "Combined_Stat = Daten_all.merge(BeachMatches, left_on = 'NoMatch', right_on='@No', how= 'left')"
   ]
  },
  {
   "cell_type": "code",
   "execution_count": null,
   "id": "dbe77cc6",
   "metadata": {},
   "outputs": [],
   "source": [
    "testtourn = pd.read_csv('fehlendeTuniere_Nummern.csv', sep=';')\n",
    "testtourn['TournamentNo'] = testtourn['TournamentNo'].astype(str)\n",
    "werte = Combined_Stat['TournamentNo']\n",
    "\n",
    "testtourn['TournamentNo'].isin(werte)"
   ]
  },
  {
   "cell_type": "code",
   "execution_count": 108,
   "id": "6c9f4860",
   "metadata": {},
   "outputs": [],
   "source": [
    "tourn1 = pd.read_csv('df_clean.csv', sep=';')\n",
    "tourn2 = pd.read_csv('df_clean2.csv', sep=';')\n",
    "tourn3 = pd.read_csv('clean45.csv', sep=';')\n",
    "tourn4 = pd.read_csv('clean5.csv', sep=';')\n",
    "tourn5 = pd.read_csv('Tournaments7575_7576.csv', sep=';')\n",
    "\n",
    "Tournaments = pd.concat([tourn1, tourn2, tourn3, tourn4, tourn5])\n",
    "Tournaments['No'] = Tournaments['No'].astype(str)"
   ]
  },
  {
   "cell_type": "code",
   "execution_count": 62,
   "id": "96d63c0a",
   "metadata": {},
   "outputs": [],
   "source": [
    "Dat_comp = Combined_Stat.merge(Tournaments, left_on='TournamentNo', right_on='No', how='left')"
   ]
  },
  {
   "cell_type": "code",
   "execution_count": 63,
   "id": "d99610ad",
   "metadata": {},
   "outputs": [],
   "source": [
    "Dat_comp.to_csv('Daten_komplett.csv',sep=';', index=False)"
   ]
  },
  {
   "cell_type": "markdown",
   "id": "1a5eef9d",
   "metadata": {},
   "source": [
    "Daten vorbereiten auf Koordinaten\n",
    "- Aufbereitung von CountryName, Name_y, DefaultCity, Title"
   ]
  },
  {
   "cell_type": "code",
   "execution_count": 64,
   "id": "23f61032",
   "metadata": {},
   "outputs": [],
   "source": [
    "#1. Aufteilen in City befüllt und City nicht befüllt\n",
    "Dat_comp['DefaultCity'].value_counts()\n",
    "\n",
    "CityNA = Dat_comp[Dat_comp['DefaultCity'].isna()]\n",
    "City_Full = Dat_comp[~Dat_comp['DefaultCity'].isna()]"
   ]
  },
  {
   "cell_type": "code",
   "execution_count": 45,
   "id": "02e36f44",
   "metadata": {},
   "outputs": [],
   "source": [
    "CityNA.to_csv('DF_ortfehlt.csv' ,sep=';', index=False)"
   ]
  },
  {
   "cell_type": "code",
   "execution_count": 53,
   "id": "f27cfdb8",
   "metadata": {},
   "outputs": [
    {
     "name": "stderr",
     "output_type": "stream",
     "text": [
      "C:\\Users\\Katharina\\AppData\\Local\\Temp\\ipykernel_16076\\2066107218.py:2: DtypeWarning: Columns (29,59,71,72,78,104,106,113) have mixed types. Specify dtype option on import or set low_memory=False.\n",
      "  City_NA_bearbeitet = pd.read_csv('DF_ortfehlt.csv', sep=';')\n"
     ]
    }
   ],
   "source": [
    "#Bearbeitet wieder einlesen\n",
    "City_NA_bearbeitet = pd.read_csv('DF_ortfehlt.csv', sep=';')"
   ]
  },
  {
   "cell_type": "markdown",
   "id": "69c94921",
   "metadata": {},
   "source": [
    "test"
   ]
  },
  {
   "cell_type": "code",
   "execution_count": null,
   "id": "92665e0f",
   "metadata": {},
   "outputs": [],
   "source": [
    "#vergleich cityNA und city_na_bearbeitet\n",
    "\n",
    "\n",
    "anti_join = City_NA_bearbeitet[~City_NA_bearbeitet['Version_y'].isin(CityNA['Version_y'])]\n",
    "print(anti_join)\n",
    "#alle in keineNAs enthalten"
   ]
  },
  {
   "cell_type": "markdown",
   "id": "3343f7f6",
   "metadata": {},
   "source": [
    "bearbeiten von City_NA .- City ist leer, Ort aus Name_y extrahieren"
   ]
  },
  {
   "cell_type": "code",
   "execution_count": 73,
   "id": "5daa27cf",
   "metadata": {},
   "outputs": [],
   "source": [
    "# City_NA_bearbeitet['Name_y'].unique()\n",
    "# test = City_NA_bearbeitet[City_NA_bearbeitet['Name_y'].isna()]\n",
    "\n",
    "#diese zeilen aus tunierNo 7575,7576 entfernen\n",
    "\n",
    "deletecols = ['7575','7576']\n",
    "City_NA_V2 = City_NA_bearbeitet[~City_NA_bearbeitet['TournamentNo'].astype(str).str.contains('|'.join(deletecols), case=False, na=False)]\n"
   ]
  },
  {
   "cell_type": "code",
   "execution_count": null,
   "id": "4534703c",
   "metadata": {},
   "outputs": [],
   "source": [
    "import pandas as pd\n",
    "import numpy as np\n",
    "\n",
    "# Angenommen, dein DataFrame heißt df und die Spalte mit Turniernamen heißt \"TournamentName\"\n",
    "df = City_NA_V2#.dropna(subset=[\"Name_y\"])  # NaN entfernen, falls vorhanden\n",
    "\n",
    "\n",
    "# Schritt 1: Alle Einträge mit **nur einem Wort** (keine Leerzeichen)\n",
    "df[\"Ort\"] = np.nan  # Neue Spalte initialisieren\n",
    "\n",
    "maske_ein_wort = df[\"Name_y\"].str.strip().str.count(r'\\s') == 0\n",
    "df.loc[maske_ein_wort, \"Ort\"] = df.loc[maske_ein_wort, \"Name_y\"].str.strip()\n",
    "\n",
    "# Schritt 2: Aus den übrigen Zeilen – Ort nach Bindestrich extrahieren\n",
    "# Nur Zeilen ohne bereits gesetzten Ort\n",
    "maske_mit_bindestrich = df[\"Ort\"].isna() & df[\"Name_y\"].str.contains(\" - \")\n",
    "\n",
    "# Regex: alles nach dem letzten \" - \" wird als Ort interpretiert\n",
    "df.loc[maske_mit_bindestrich, \"Ort\"] = df.loc[maske_mit_bindestrich, \"Name_y\"].str.extract(r\" - ([^-\\n\\r]+)$\")[0].str.strip()\n",
    "\n",
    "# Optional: Die Zeilen, die keinen Ort haben, explizit mit 'Unbekannt' befüllen (oder eine andere Default-Wert)\n",
    "df[\"Ort\"].fillna('Unbekannt', inplace=True)\n",
    "\n",
    "# Optional: Duplikate in der Ort-Spalte beibehalten (keine Entfernung)\n",
    "df_mit_ort = df[df[\"Ort\"].notna()].copy()\n"
   ]
  },
  {
   "cell_type": "code",
   "execution_count": null,
   "id": "34da96b4",
   "metadata": {},
   "outputs": [],
   "source": [
    "df_mit_ort[['Ort', 'Name_y']].drop_duplicates()"
   ]
  },
  {
   "cell_type": "code",
   "execution_count": 79,
   "id": "4cfa542a",
   "metadata": {},
   "outputs": [],
   "source": [
    "#ort zu Default_City\n",
    "df_mit_ort['DefaultCity'] = df_mit_ort['Ort']\n",
    "#df['DefaultCity'] = df['DefaultCity'].fillna(df['Ort'])\n",
    "df_mit_ort = df_mit_ort.drop(columns=['Ort'])"
   ]
  },
  {
   "cell_type": "markdown",
   "id": "44423a82",
   "metadata": {},
   "source": [
    "Daten wieder zusammenfügen und dann bestimmte Zeilen entfernen"
   ]
  },
  {
   "cell_type": "code",
   "execution_count": 80,
   "id": "aa26520d",
   "metadata": {},
   "outputs": [],
   "source": [
    "DF_comp = pd.concat([df_mit_ort, City_Full])"
   ]
  },
  {
   "cell_type": "code",
   "execution_count": 81,
   "id": "a5b15016",
   "metadata": {},
   "outputs": [],
   "source": [
    "DF_comp.to_csv('Datenbestand1_3004.csv', index=False, sep=';')"
   ]
  },
  {
   "cell_type": "code",
   "execution_count": 84,
   "id": "f29a3552",
   "metadata": {},
   "outputs": [
    {
     "data": {
      "application/vnd.microsoft.datawrangler.viewer.v0+json": {
       "columns": [
        {
         "name": "index",
         "rawType": "int64",
         "type": "integer"
        },
        {
         "name": "DefaultCity",
         "rawType": "object",
         "type": "string"
        },
        {
         "name": "Name_y",
         "rawType": "object",
         "type": "string"
        }
       ],
       "conversionMethod": "pd.DataFrame",
       "ref": "a31de062-8edf-4b65-a7cd-35527edb07f9",
       "rows": [
        [
         "0",
         "Unbekannt",
         "Asian Women's Beach volleyball championship"
        ],
        [
         "208",
         "Unbekannt",
         "Asian Men's Beach volleyball championship"
        ],
        [
         "1024",
         "Unbekannt",
         "CEV Ljubljana Masters"
        ],
        [
         "1344",
         "Unbekannt",
         "CEV Alanya Masters"
        ],
        [
         "4044",
         "Unbekannt",
         "The Hague"
        ],
        [
         "4492",
         "Unbekannt",
         "CEV Pelhrimov Masters"
        ],
        [
         "4716",
         "Unbekannt",
         "2018 CEV European Championship "
        ],
        [
         "5004",
         "Unbekannt",
         "2018 CEV European Championship"
        ],
        [
         "5516",
         "Unbekannt",
         "Kish Island"
        ],
        [
         "6860",
         "Unbekannt",
         "Huntington Beach"
        ],
        [
         "8668",
         "Unbekannt",
         "Tuan Chau Island"
        ],
        [
         "9340",
         "Unbekannt",
         "Bangkok Open 2018"
        ],
        [
         "14788",
         "Unbekannt",
         "Miguel Pereira"
        ],
        [
         "15540",
         "Unbekannt",
         "Phnom Penh"
        ],
        [
         "17948",
         "Unbekannt",
         "Bandar Torkaman "
        ],
        [
         "18268",
         "Unbekannt",
         "Bandar Anzali "
        ],
        [
         "18828",
         "Unbekannt",
         "Asian Championship Men 2018"
        ],
        [
         "19084",
         "Unbekannt",
         "Asian Championship Women 2018"
        ],
        [
         "19492",
         "Unbekannt",
         "Las Vegas"
        ],
        [
         "19940",
         "Unbekannt",
         "BOCA CHICA"
        ],
        [
         "20388",
         "Unbekannt",
         "Ljubljana, Winter Edition"
        ],
        [
         "20996",
         "Unbekannt",
         "Kg Speu"
        ],
        [
         "21108",
         "Unbekannt",
         "Siem Reap"
        ],
        [
         "24484",
         "Unbekannt",
         "Kuala Lumpur"
        ],
        [
         "28948",
         "Unbekannt",
         "2019 CEV European Championships"
        ],
        [
         "30628",
         "Unbekannt",
         "Boca Chica"
        ],
        [
         "31668",
         "Unbekannt",
         "Ios Island"
        ],
        [
         "31892",
         "Unbekannt",
         "Alba Adriatica"
        ],
        [
         "32004",
         "Unbekannt",
         "Pinarella Di Cervia"
        ],
        [
         "32116",
         "Unbekannt",
         "Maoming, China"
        ],
        [
         "34056",
         "Unbekannt",
         "Bandar Torkaman"
        ],
        [
         "34168",
         "Unbekannt",
         "Tel Aviv"
        ],
        [
         "34504",
         "Unbekannt",
         "Cook Islands"
        ],
        [
         "35496",
         "Unbekannt",
         "Udon Thani, Thailand"
        ],
        [
         "35880",
         "Unbekannt",
         "2020 CEV European Championships"
        ],
        [
         "36328",
         "Unbekannt",
         "Katara Cup"
        ],
        [
         "43912",
         "Unbekannt",
         "2021 Asian Senior"
        ],
        [
         "45104",
         "Unbekannt",
         "Giardini Naxos"
        ],
        [
         "46000",
         "Unbekannt",
         "Corigliano Rossano"
        ],
        [
         "46224",
         "Unbekannt",
         "Rome (World Tour Finals)"
        ],
        [
         "46764",
         "Unbekannt",
         "WCH Hamburg"
        ]
       ],
       "shape": {
        "columns": 2,
        "rows": 41
       }
      },
      "text/html": [
       "<div>\n",
       "<style scoped>\n",
       "    .dataframe tbody tr th:only-of-type {\n",
       "        vertical-align: middle;\n",
       "    }\n",
       "\n",
       "    .dataframe tbody tr th {\n",
       "        vertical-align: top;\n",
       "    }\n",
       "\n",
       "    .dataframe thead th {\n",
       "        text-align: right;\n",
       "    }\n",
       "</style>\n",
       "<table border=\"1\" class=\"dataframe\">\n",
       "  <thead>\n",
       "    <tr style=\"text-align: right;\">\n",
       "      <th></th>\n",
       "      <th>DefaultCity</th>\n",
       "      <th>Name_y</th>\n",
       "    </tr>\n",
       "  </thead>\n",
       "  <tbody>\n",
       "    <tr>\n",
       "      <th>0</th>\n",
       "      <td>Unbekannt</td>\n",
       "      <td>Asian Women's Beach volleyball championship</td>\n",
       "    </tr>\n",
       "    <tr>\n",
       "      <th>208</th>\n",
       "      <td>Unbekannt</td>\n",
       "      <td>Asian Men's Beach volleyball championship</td>\n",
       "    </tr>\n",
       "    <tr>\n",
       "      <th>1024</th>\n",
       "      <td>Unbekannt</td>\n",
       "      <td>CEV Ljubljana Masters</td>\n",
       "    </tr>\n",
       "    <tr>\n",
       "      <th>1344</th>\n",
       "      <td>Unbekannt</td>\n",
       "      <td>CEV Alanya Masters</td>\n",
       "    </tr>\n",
       "    <tr>\n",
       "      <th>4044</th>\n",
       "      <td>Unbekannt</td>\n",
       "      <td>The Hague</td>\n",
       "    </tr>\n",
       "    <tr>\n",
       "      <th>4492</th>\n",
       "      <td>Unbekannt</td>\n",
       "      <td>CEV Pelhrimov Masters</td>\n",
       "    </tr>\n",
       "    <tr>\n",
       "      <th>4716</th>\n",
       "      <td>Unbekannt</td>\n",
       "      <td>2018 CEV European Championship</td>\n",
       "    </tr>\n",
       "    <tr>\n",
       "      <th>5004</th>\n",
       "      <td>Unbekannt</td>\n",
       "      <td>2018 CEV European Championship</td>\n",
       "    </tr>\n",
       "    <tr>\n",
       "      <th>5516</th>\n",
       "      <td>Unbekannt</td>\n",
       "      <td>Kish Island</td>\n",
       "    </tr>\n",
       "    <tr>\n",
       "      <th>6860</th>\n",
       "      <td>Unbekannt</td>\n",
       "      <td>Huntington Beach</td>\n",
       "    </tr>\n",
       "    <tr>\n",
       "      <th>8668</th>\n",
       "      <td>Unbekannt</td>\n",
       "      <td>Tuan Chau Island</td>\n",
       "    </tr>\n",
       "    <tr>\n",
       "      <th>9340</th>\n",
       "      <td>Unbekannt</td>\n",
       "      <td>Bangkok Open 2018</td>\n",
       "    </tr>\n",
       "    <tr>\n",
       "      <th>14788</th>\n",
       "      <td>Unbekannt</td>\n",
       "      <td>Miguel Pereira</td>\n",
       "    </tr>\n",
       "    <tr>\n",
       "      <th>15540</th>\n",
       "      <td>Unbekannt</td>\n",
       "      <td>Phnom Penh</td>\n",
       "    </tr>\n",
       "    <tr>\n",
       "      <th>17948</th>\n",
       "      <td>Unbekannt</td>\n",
       "      <td>Bandar Torkaman</td>\n",
       "    </tr>\n",
       "    <tr>\n",
       "      <th>18268</th>\n",
       "      <td>Unbekannt</td>\n",
       "      <td>Bandar Anzali</td>\n",
       "    </tr>\n",
       "    <tr>\n",
       "      <th>18828</th>\n",
       "      <td>Unbekannt</td>\n",
       "      <td>Asian Championship Men 2018</td>\n",
       "    </tr>\n",
       "    <tr>\n",
       "      <th>19084</th>\n",
       "      <td>Unbekannt</td>\n",
       "      <td>Asian Championship Women 2018</td>\n",
       "    </tr>\n",
       "    <tr>\n",
       "      <th>19492</th>\n",
       "      <td>Unbekannt</td>\n",
       "      <td>Las Vegas</td>\n",
       "    </tr>\n",
       "    <tr>\n",
       "      <th>19940</th>\n",
       "      <td>Unbekannt</td>\n",
       "      <td>BOCA CHICA</td>\n",
       "    </tr>\n",
       "    <tr>\n",
       "      <th>20388</th>\n",
       "      <td>Unbekannt</td>\n",
       "      <td>Ljubljana, Winter Edition</td>\n",
       "    </tr>\n",
       "    <tr>\n",
       "      <th>20996</th>\n",
       "      <td>Unbekannt</td>\n",
       "      <td>Kg Speu</td>\n",
       "    </tr>\n",
       "    <tr>\n",
       "      <th>21108</th>\n",
       "      <td>Unbekannt</td>\n",
       "      <td>Siem Reap</td>\n",
       "    </tr>\n",
       "    <tr>\n",
       "      <th>24484</th>\n",
       "      <td>Unbekannt</td>\n",
       "      <td>Kuala Lumpur</td>\n",
       "    </tr>\n",
       "    <tr>\n",
       "      <th>28948</th>\n",
       "      <td>Unbekannt</td>\n",
       "      <td>2019 CEV European Championships</td>\n",
       "    </tr>\n",
       "    <tr>\n",
       "      <th>30628</th>\n",
       "      <td>Unbekannt</td>\n",
       "      <td>Boca Chica</td>\n",
       "    </tr>\n",
       "    <tr>\n",
       "      <th>31668</th>\n",
       "      <td>Unbekannt</td>\n",
       "      <td>Ios Island</td>\n",
       "    </tr>\n",
       "    <tr>\n",
       "      <th>31892</th>\n",
       "      <td>Unbekannt</td>\n",
       "      <td>Alba Adriatica</td>\n",
       "    </tr>\n",
       "    <tr>\n",
       "      <th>32004</th>\n",
       "      <td>Unbekannt</td>\n",
       "      <td>Pinarella Di Cervia</td>\n",
       "    </tr>\n",
       "    <tr>\n",
       "      <th>32116</th>\n",
       "      <td>Unbekannt</td>\n",
       "      <td>Maoming, China</td>\n",
       "    </tr>\n",
       "    <tr>\n",
       "      <th>34056</th>\n",
       "      <td>Unbekannt</td>\n",
       "      <td>Bandar Torkaman</td>\n",
       "    </tr>\n",
       "    <tr>\n",
       "      <th>34168</th>\n",
       "      <td>Unbekannt</td>\n",
       "      <td>Tel Aviv</td>\n",
       "    </tr>\n",
       "    <tr>\n",
       "      <th>34504</th>\n",
       "      <td>Unbekannt</td>\n",
       "      <td>Cook Islands</td>\n",
       "    </tr>\n",
       "    <tr>\n",
       "      <th>35496</th>\n",
       "      <td>Unbekannt</td>\n",
       "      <td>Udon Thani, Thailand</td>\n",
       "    </tr>\n",
       "    <tr>\n",
       "      <th>35880</th>\n",
       "      <td>Unbekannt</td>\n",
       "      <td>2020 CEV European Championships</td>\n",
       "    </tr>\n",
       "    <tr>\n",
       "      <th>36328</th>\n",
       "      <td>Unbekannt</td>\n",
       "      <td>Katara Cup</td>\n",
       "    </tr>\n",
       "    <tr>\n",
       "      <th>43912</th>\n",
       "      <td>Unbekannt</td>\n",
       "      <td>2021 Asian Senior</td>\n",
       "    </tr>\n",
       "    <tr>\n",
       "      <th>45104</th>\n",
       "      <td>Unbekannt</td>\n",
       "      <td>Giardini Naxos</td>\n",
       "    </tr>\n",
       "    <tr>\n",
       "      <th>46000</th>\n",
       "      <td>Unbekannt</td>\n",
       "      <td>Corigliano Rossano</td>\n",
       "    </tr>\n",
       "    <tr>\n",
       "      <th>46224</th>\n",
       "      <td>Unbekannt</td>\n",
       "      <td>Rome (World Tour Finals)</td>\n",
       "    </tr>\n",
       "    <tr>\n",
       "      <th>46764</th>\n",
       "      <td>Unbekannt</td>\n",
       "      <td>WCH Hamburg</td>\n",
       "    </tr>\n",
       "  </tbody>\n",
       "</table>\n",
       "</div>"
      ],
      "text/plain": [
       "      DefaultCity                                       Name_y\n",
       "0       Unbekannt  Asian Women's Beach volleyball championship\n",
       "208     Unbekannt    Asian Men's Beach volleyball championship\n",
       "1024    Unbekannt                        CEV Ljubljana Masters\n",
       "1344    Unbekannt                           CEV Alanya Masters\n",
       "4044    Unbekannt                                    The Hague\n",
       "4492    Unbekannt                        CEV Pelhrimov Masters\n",
       "4716    Unbekannt              2018 CEV European Championship \n",
       "5004    Unbekannt               2018 CEV European Championship\n",
       "5516    Unbekannt                                  Kish Island\n",
       "6860    Unbekannt                             Huntington Beach\n",
       "8668    Unbekannt                             Tuan Chau Island\n",
       "9340    Unbekannt                            Bangkok Open 2018\n",
       "14788   Unbekannt                               Miguel Pereira\n",
       "15540   Unbekannt                                   Phnom Penh\n",
       "17948   Unbekannt                             Bandar Torkaman \n",
       "18268   Unbekannt                               Bandar Anzali \n",
       "18828   Unbekannt                  Asian Championship Men 2018\n",
       "19084   Unbekannt                Asian Championship Women 2018\n",
       "19492   Unbekannt                                    Las Vegas\n",
       "19940   Unbekannt                                   BOCA CHICA\n",
       "20388   Unbekannt                    Ljubljana, Winter Edition\n",
       "20996   Unbekannt                                      Kg Speu\n",
       "21108   Unbekannt                                    Siem Reap\n",
       "24484   Unbekannt                                 Kuala Lumpur\n",
       "28948   Unbekannt              2019 CEV European Championships\n",
       "30628   Unbekannt                                   Boca Chica\n",
       "31668   Unbekannt                                   Ios Island\n",
       "31892   Unbekannt                               Alba Adriatica\n",
       "32004   Unbekannt                          Pinarella Di Cervia\n",
       "32116   Unbekannt                               Maoming, China\n",
       "34056   Unbekannt                              Bandar Torkaman\n",
       "34168   Unbekannt                                     Tel Aviv\n",
       "34504   Unbekannt                                 Cook Islands\n",
       "35496   Unbekannt                         Udon Thani, Thailand\n",
       "35880   Unbekannt              2020 CEV European Championships\n",
       "36328   Unbekannt                                   Katara Cup\n",
       "43912   Unbekannt                            2021 Asian Senior\n",
       "45104   Unbekannt                               Giardini Naxos\n",
       "46000   Unbekannt                           Corigliano Rossano\n",
       "46224   Unbekannt                     Rome (World Tour Finals)\n",
       "46764   Unbekannt                                  WCH Hamburg"
      ]
     },
     "execution_count": 84,
     "metadata": {},
     "output_type": "execute_result"
    }
   ],
   "source": [
    "test = DF_comp[DF_comp['DefaultCity']=='Unbekannt']\n",
    "test[['DefaultCity', 'Name_y']].drop_duplicates()"
   ]
  },
  {
   "cell_type": "markdown",
   "id": "9c580db3",
   "metadata": {},
   "source": [
    "die wörter unbekannt bearbeiten - mit Orten ersetzen"
   ]
  }
 ],
 "metadata": {
  "kernelspec": {
   "display_name": ".venv",
   "language": "python",
   "name": "python3"
  },
  "language_info": {
   "codemirror_mode": {
    "name": "ipython",
    "version": 3
   },
   "file_extension": ".py",
   "mimetype": "text/x-python",
   "name": "python",
   "nbconvert_exporter": "python",
   "pygments_lexer": "ipython3",
   "version": "3.13.1"
  }
 },
 "nbformat": 4,
 "nbformat_minor": 5
}
