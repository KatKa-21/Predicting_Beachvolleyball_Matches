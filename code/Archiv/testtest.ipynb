{
 "cells": [
  {
   "cell_type": "markdown",
   "id": "7110ebd9",
   "metadata": {},
   "source": [
    "## Code für Wrappen der Daten für die unterschiedlichen Tournaments im Jahr 2023,2024 bis jetzt"
   ]
  },
  {
   "cell_type": "code",
   "execution_count": 1,
   "id": "061b6725",
   "metadata": {},
   "outputs": [],
   "source": [
    "import xmltodict\n",
    "import csv\n",
    "from fivbvis import Beach\n",
    "import xmltodict\n",
    "import fivbvis\n",
    "import requests\n",
    "from fivbvis import Article\n",
    "import pandas as pd\n",
    "from fivbvis import Player"
   ]
  },
  {
   "cell_type": "code",
   "execution_count": 2,
   "id": "aa7abac0",
   "metadata": {},
   "outputs": [],
   "source": [
    "b = Beach()"
   ]
  },
  {
   "cell_type": "code",
   "execution_count": 3,
   "id": "81449f37",
   "metadata": {},
   "outputs": [],
   "source": [
    "def getBeachTournament2(self, no, fields=None, content_type='xml'):\n",
    "    result = self.fivb_vis.get('GetBeachTournament', no, fields, content_type)\n",
    "    return result\n",
    "\n",
    "b.getBeachTournament = getBeachTournament2"
   ]
  },
  {
   "cell_type": "markdown",
   "id": "2ec8b60f",
   "metadata": {},
   "source": [
    "## Daten einlesen "
   ]
  },
  {
   "cell_type": "code",
   "execution_count": 5,
   "id": "ddae2180",
   "metadata": {},
   "outputs": [
    {
     "name": "stdout",
     "output_type": "stream",
     "text": [
      "C:\\Users\\Katharina\\Desktop\\Weiterbildung\\Bootcamp\\Bootcamp\\Final_project\\data\n"
     ]
    }
   ],
   "source": [
    "#Verzeichnis anpassen\n",
    "import os\n",
    "os.chdir('C:/Users/Katharina/Desktop/Weiterbildung/Bootcamp/Bootcamp/Final_project/data')\n",
    "print(os.getcwd())"
   ]
  },
  {
   "cell_type": "code",
   "execution_count": 6,
   "id": "d5317c61",
   "metadata": {},
   "outputs": [],
   "source": [
    "NO_Tourn = pd.read_csv('FehlendeTuniere_Nummern.csv')"
   ]
  },
  {
   "cell_type": "code",
   "execution_count": 9,
   "id": "6e56486e",
   "metadata": {},
   "outputs": [],
   "source": [
    "tournament_nos = NO_Tourn.iloc[0:5,:]"
   ]
  },
  {
   "cell_type": "code",
   "execution_count": 17,
   "id": "20d6ffea",
   "metadata": {},
   "outputs": [
    {
     "data": {
      "text/plain": [
       "[7493,\n",
       " 7531,\n",
       " 7533,\n",
       " 7535,\n",
       " 7537,\n",
       " 7539,\n",
       " 7541,\n",
       " 7543,\n",
       " 7545,\n",
       " 7591,\n",
       " 7597,\n",
       " 7615,\n",
       " 7617,\n",
       " 7619,\n",
       " 7621,\n",
       " 7623,\n",
       " 7625,\n",
       " 7629,\n",
       " 7631,\n",
       " 7632,\n",
       " 7719,\n",
       " 7725,\n",
       " 7727,\n",
       " 7731,\n",
       " 7733,\n",
       " 7735,\n",
       " 7737,\n",
       " 7792,\n",
       " 7794,\n",
       " 7796,\n",
       " 7951,\n",
       " 8110,\n",
       " 8152,\n",
       " 8197,\n",
       " 7497,\n",
       " 7547,\n",
       " 7549,\n",
       " 7551,\n",
       " 7553,\n",
       " 7555,\n",
       " 7557,\n",
       " 7559,\n",
       " 7561,\n",
       " 7563,\n",
       " 7565,\n",
       " 7569,\n",
       " 7571,\n",
       " 7573,\n",
       " 7609,\n",
       " 7611,\n",
       " 7613,\n",
       " 7754,\n",
       " 8128,\n",
       " 8218,\n",
       " 8222,\n",
       " 8230,\n",
       " 8232]"
      ]
     },
     "execution_count": 17,
     "metadata": {},
     "output_type": "execute_result"
    }
   ],
   "source": [
    "tournament_nos = NO_Tourn['TournamentNo'].values.tolist()\n",
    "tournament_nos"
   ]
  },
  {
   "cell_type": "code",
   "execution_count": 18,
   "id": "cd975e24",
   "metadata": {},
   "outputs": [],
   "source": [
    "import pandas as pd\n",
    "import xmltodict\n",
    "\n",
    "# Liste von Turniernummern, die du abfragen willst\n",
    "#tournament_nos = list(range(5999,6001,1))  # einfach erweitern\n",
    "\n",
    "# Leere Liste für alle Turnierdaten\n",
    "tournament_list = []\n",
    "\n",
    "# Schleife über jede Turniernummer\n",
    "for no in tournament_nos:\n",
    "    try:\n",
    "        # API-Abfrage\n",
    "        response = b.getBeachTournament(self=b, no=no, fields='')\n",
    "        tournament_data = xmltodict.parse(response)\n",
    "\n",
    "        # Extrahiere Attribute und entferne das @\n",
    "        data = tournament_data['BeachTournament']\n",
    "        clean_data = {k.lstrip(\"@\"): v for k, v in data.items()}\n",
    "\n",
    "        # Zur Gesamtliste hinzufügen\n",
    "        tournament_list.append(clean_data)\n",
    "\n",
    "    except Exception as e:\n",
    "        print(f\"Fehler bei Turnier-Nr. {no}: {e}\")\n",
    "\n",
    "# Alles in einen DataFrame packen\n",
    "df = pd.DataFrame(tournament_list)\n",
    "\n"
   ]
  },
  {
   "cell_type": "markdown",
   "id": "0b4ba357",
   "metadata": {},
   "source": [
    "weiter"
   ]
  },
  {
   "cell_type": "code",
   "execution_count": null,
   "id": "3af8fc53",
   "metadata": {},
   "outputs": [],
   "source": [
    "df"
   ]
  },
  {
   "cell_type": "code",
   "execution_count": 19,
   "id": "efa33384",
   "metadata": {},
   "outputs": [],
   "source": [
    "df.to_csv('test_tournament_fehlendeWerte.csv', sep=\";\", encoding='UTF-8', index=False, quoting=1)"
   ]
  },
  {
   "cell_type": "code",
   "execution_count": 28,
   "id": "7ad7c3d2",
   "metadata": {},
   "outputs": [],
   "source": [
    "df.iloc[[1]].to_csv('test_tournament6000.csv', sep=\";\", encoding='UTF-8', index=False, quoting=1)"
   ]
  },
  {
   "cell_type": "code",
   "execution_count": 14,
   "id": "c5cc6607",
   "metadata": {},
   "outputs": [],
   "source": [
    "df.to_csv('test_tournament4000_5000.csv', sep=\";\", encoding='UTF-8', index=False, quoting=1)"
   ]
  },
  {
   "cell_type": "code",
   "execution_count": 12,
   "id": "61a61497",
   "metadata": {},
   "outputs": [],
   "source": [
    "df.to_csv('test_tournament5000_6000.csv', sep=\";\", encoding='UTF-8', index=False, quoting=1)"
   ]
  },
  {
   "cell_type": "code",
   "execution_count": 5,
   "id": "42784de9",
   "metadata": {},
   "outputs": [],
   "source": [
    "df.to_csv('test_tournament6900_7481.csv', sep=\";\", encoding='UTF-8', index=False, quoting=1)"
   ]
  },
  {
   "cell_type": "code",
   "execution_count": 7,
   "id": "5bcae145",
   "metadata": {},
   "outputs": [],
   "source": [
    "df.to_csv('test_tournament6400_6900.csv', sep=\";\", encoding='UTF-8', index=False, quoting=1)"
   ]
  },
  {
   "cell_type": "code",
   "execution_count": 9,
   "id": "d6ac8fce",
   "metadata": {},
   "outputs": [],
   "source": [
    "df.to_csv('test_tournament6000_6400.csv', sep=\";\", encoding='UTF-8', index=False, quoting=1)"
   ]
  },
  {
   "cell_type": "code",
   "execution_count": 18,
   "id": "ee1489b3",
   "metadata": {},
   "outputs": [
    {
     "name": "stdout",
     "output_type": "stream",
     "text": [
      "c:\\Users\\Katharina\\Desktop\\Weiterbildung\\Bootcamp\\Bootcamp\\Final_project\n"
     ]
    }
   ],
   "source": [
    "import os\n",
    "print(os.getcwd())"
   ]
  }
 ],
 "metadata": {
  "kernelspec": {
   "display_name": ".venv",
   "language": "python",
   "name": "python3"
  },
  "language_info": {
   "codemirror_mode": {
    "name": "ipython",
    "version": 3
   },
   "file_extension": ".py",
   "mimetype": "text/x-python",
   "name": "python",
   "nbconvert_exporter": "python",
   "pygments_lexer": "ipython3",
   "version": "3.13.1"
  }
 },
 "nbformat": 4,
 "nbformat_minor": 5
}
